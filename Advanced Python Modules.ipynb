{
 "cells": [
  {
   "cell_type": "markdown",
   "id": "5aa23af8",
   "metadata": {},
   "source": [
    "**Collections**"
   ]
  },
  {
   "cell_type": "code",
   "execution_count": 1,
   "id": "60736149",
   "metadata": {},
   "outputs": [],
   "source": [
    "from collections import Counter"
   ]
  },
  {
   "cell_type": "code",
   "execution_count": 2,
   "id": "b1178b47",
   "metadata": {},
   "outputs": [],
   "source": [
    "mylist = [1,1,1,1,1,2,2,2,2,3,3,3,3,3,3,3]"
   ]
  },
  {
   "cell_type": "code",
   "execution_count": 3,
   "id": "6153019c",
   "metadata": {},
   "outputs": [
    {
     "data": {
      "text/plain": [
       "Counter({3: 7, 1: 5, 2: 4})"
      ]
     },
     "execution_count": 3,
     "metadata": {},
     "output_type": "execute_result"
    }
   ],
   "source": [
    "Counter(mylist)"
   ]
  },
  {
   "cell_type": "code",
   "execution_count": 4,
   "id": "c5a76439",
   "metadata": {},
   "outputs": [],
   "source": [
    "mylist = ['a','a',10,10,10]"
   ]
  },
  {
   "cell_type": "code",
   "execution_count": 5,
   "id": "b3f8826a",
   "metadata": {},
   "outputs": [
    {
     "data": {
      "text/plain": [
       "Counter({10: 3, 'a': 2})"
      ]
     },
     "execution_count": 5,
     "metadata": {},
     "output_type": "execute_result"
    }
   ],
   "source": [
    "Counter(mylist)"
   ]
  },
  {
   "cell_type": "code",
   "execution_count": 6,
   "id": "9530af16",
   "metadata": {},
   "outputs": [
    {
     "data": {
      "text/plain": [
       "Counter({'a': 4, 'b': 4, 's': 4, 'h': 2, 'j': 1})"
      ]
     },
     "execution_count": 6,
     "metadata": {},
     "output_type": "execute_result"
    }
   ],
   "source": [
    "Counter('aaaabbbbshshsjs')"
   ]
  },
  {
   "cell_type": "code",
   "execution_count": 7,
   "id": "8e2e6cde",
   "metadata": {},
   "outputs": [],
   "source": [
    "sentence = \"How many times does each word show up in this sentence with a word\""
   ]
  },
  {
   "cell_type": "code",
   "execution_count": 10,
   "id": "8793a9e1",
   "metadata": {},
   "outputs": [
    {
     "data": {
      "text/plain": [
       "Counter({'word': 2,\n",
       "         'how': 1,\n",
       "         'many': 1,\n",
       "         'times': 1,\n",
       "         'does': 1,\n",
       "         'each': 1,\n",
       "         'show': 1,\n",
       "         'up': 1,\n",
       "         'in': 1,\n",
       "         'this': 1,\n",
       "         'sentence': 1,\n",
       "         'with': 1,\n",
       "         'a': 1})"
      ]
     },
     "execution_count": 10,
     "metadata": {},
     "output_type": "execute_result"
    }
   ],
   "source": [
    "Counter(sentence.lower().split())"
   ]
  },
  {
   "cell_type": "code",
   "execution_count": 11,
   "id": "64145a87",
   "metadata": {},
   "outputs": [],
   "source": [
    "letters = 'aaabbbcccccccdddddddddd'"
   ]
  },
  {
   "cell_type": "code",
   "execution_count": 13,
   "id": "cdfb9e9f",
   "metadata": {},
   "outputs": [],
   "source": [
    "c = Counter(letters)"
   ]
  },
  {
   "cell_type": "code",
   "execution_count": 14,
   "id": "1b339cac",
   "metadata": {},
   "outputs": [
    {
     "data": {
      "text/plain": [
       "Counter({'d': 10, 'c': 7, 'a': 3, 'b': 3})"
      ]
     },
     "execution_count": 14,
     "metadata": {},
     "output_type": "execute_result"
    }
   ],
   "source": [
    "c"
   ]
  },
  {
   "cell_type": "code",
   "execution_count": 18,
   "id": "33b3a200",
   "metadata": {},
   "outputs": [
    {
     "data": {
      "text/plain": [
       "[('d', 10), ('c', 7), ('a', 3)]"
      ]
     },
     "execution_count": 18,
     "metadata": {},
     "output_type": "execute_result"
    }
   ],
   "source": [
    "c.most_common(3)"
   ]
  },
  {
   "cell_type": "code",
   "execution_count": 20,
   "id": "11029257",
   "metadata": {},
   "outputs": [
    {
     "data": {
      "text/plain": [
       "['a', 'b', 'c', 'd']"
      ]
     },
     "execution_count": 20,
     "metadata": {},
     "output_type": "execute_result"
    }
   ],
   "source": [
    "list(c)"
   ]
  },
  {
   "cell_type": "code",
   "execution_count": 21,
   "id": "e865e96b",
   "metadata": {},
   "outputs": [],
   "source": [
    "from collections import defaultdict"
   ]
  },
  {
   "cell_type": "code",
   "execution_count": 22,
   "id": "45afdd18",
   "metadata": {},
   "outputs": [],
   "source": [
    "d = {'a':10}"
   ]
  },
  {
   "cell_type": "code",
   "execution_count": 23,
   "id": "3b97bb47",
   "metadata": {},
   "outputs": [
    {
     "data": {
      "text/plain": [
       "{'a': 10}"
      ]
     },
     "execution_count": 23,
     "metadata": {},
     "output_type": "execute_result"
    }
   ],
   "source": [
    "d"
   ]
  },
  {
   "cell_type": "code",
   "execution_count": 24,
   "id": "4e045762",
   "metadata": {},
   "outputs": [
    {
     "data": {
      "text/plain": [
       "10"
      ]
     },
     "execution_count": 24,
     "metadata": {},
     "output_type": "execute_result"
    }
   ],
   "source": [
    "d['a']"
   ]
  },
  {
   "cell_type": "code",
   "execution_count": 25,
   "id": "87aadd90",
   "metadata": {},
   "outputs": [],
   "source": [
    "d = defaultdict(lambda: 0)"
   ]
  },
  {
   "cell_type": "code",
   "execution_count": 26,
   "id": "28335d48",
   "metadata": {},
   "outputs": [],
   "source": [
    "d['correct'] = 100"
   ]
  },
  {
   "cell_type": "code",
   "execution_count": 27,
   "id": "cdb3272d",
   "metadata": {},
   "outputs": [
    {
     "data": {
      "text/plain": [
       "100"
      ]
     },
     "execution_count": 27,
     "metadata": {},
     "output_type": "execute_result"
    }
   ],
   "source": [
    "d['correct']"
   ]
  },
  {
   "cell_type": "code",
   "execution_count": 28,
   "id": "8c3eaad9",
   "metadata": {},
   "outputs": [
    {
     "data": {
      "text/plain": [
       "0"
      ]
     },
     "execution_count": 28,
     "metadata": {},
     "output_type": "execute_result"
    }
   ],
   "source": [
    "d['WRONG']"
   ]
  },
  {
   "cell_type": "code",
   "execution_count": 29,
   "id": "207a8894",
   "metadata": {},
   "outputs": [
    {
     "data": {
      "text/plain": [
       "defaultdict(<function __main__.<lambda>()>, {'correct': 100, 'WRONG': 0})"
      ]
     },
     "execution_count": 29,
     "metadata": {},
     "output_type": "execute_result"
    }
   ],
   "source": [
    "d"
   ]
  },
  {
   "cell_type": "code",
   "execution_count": 30,
   "id": "99d69e0f",
   "metadata": {},
   "outputs": [],
   "source": [
    "mytuple = (10,20,30)"
   ]
  },
  {
   "cell_type": "code",
   "execution_count": 31,
   "id": "118c9fe4",
   "metadata": {},
   "outputs": [
    {
     "data": {
      "text/plain": [
       "10"
      ]
     },
     "execution_count": 31,
     "metadata": {},
     "output_type": "execute_result"
    }
   ],
   "source": [
    "mytuple[0]"
   ]
  },
  {
   "cell_type": "code",
   "execution_count": 32,
   "id": "0c4b7947",
   "metadata": {},
   "outputs": [],
   "source": [
    "from collections import namedtuple"
   ]
  },
  {
   "cell_type": "code",
   "execution_count": 33,
   "id": "e6caad64",
   "metadata": {},
   "outputs": [],
   "source": [
    "Dog = namedtuple('Dog',['age','breed','name'])"
   ]
  },
  {
   "cell_type": "code",
   "execution_count": 35,
   "id": "bff3795b",
   "metadata": {},
   "outputs": [],
   "source": [
    "Sammy = Dog(age = 5,breed = 'Husky', name = 'Sam')"
   ]
  },
  {
   "cell_type": "code",
   "execution_count": 36,
   "id": "0ec8e1e8",
   "metadata": {},
   "outputs": [
    {
     "data": {
      "text/plain": [
       "__main__.Dog"
      ]
     },
     "execution_count": 36,
     "metadata": {},
     "output_type": "execute_result"
    }
   ],
   "source": [
    "type(Sammy)"
   ]
  },
  {
   "cell_type": "code",
   "execution_count": 38,
   "id": "b16b6bac",
   "metadata": {},
   "outputs": [
    {
     "data": {
      "text/plain": [
       "5"
      ]
     },
     "execution_count": 38,
     "metadata": {},
     "output_type": "execute_result"
    }
   ],
   "source": [
    "Sammy.age"
   ]
  },
  {
   "cell_type": "code",
   "execution_count": 39,
   "id": "16a740eb",
   "metadata": {},
   "outputs": [
    {
     "data": {
      "text/plain": [
       "'Husky'"
      ]
     },
     "execution_count": 39,
     "metadata": {},
     "output_type": "execute_result"
    }
   ],
   "source": [
    "Sammy.breed"
   ]
  },
  {
   "cell_type": "code",
   "execution_count": 40,
   "id": "4399e648",
   "metadata": {},
   "outputs": [
    {
     "data": {
      "text/plain": [
       "'Sam'"
      ]
     },
     "execution_count": 40,
     "metadata": {},
     "output_type": "execute_result"
    }
   ],
   "source": [
    "Sammy.name"
   ]
  },
  {
   "cell_type": "code",
   "execution_count": 41,
   "id": "3e2652fc",
   "metadata": {},
   "outputs": [
    {
     "data": {
      "text/plain": [
       "5"
      ]
     },
     "execution_count": 41,
     "metadata": {},
     "output_type": "execute_result"
    }
   ],
   "source": [
    "Sammy[0]"
   ]
  },
  {
   "cell_type": "markdown",
   "id": "f6e0e146",
   "metadata": {},
   "source": [
    "**Python OS Module**"
   ]
  },
  {
   "cell_type": "code",
   "execution_count": 43,
   "id": "fc4b7cf2",
   "metadata": {},
   "outputs": [
    {
     "data": {
      "text/plain": [
       "'/Users/priyathamkrishnakodeboyina/Python Exercises'"
      ]
     },
     "execution_count": 43,
     "metadata": {},
     "output_type": "execute_result"
    }
   ],
   "source": [
    "pwd"
   ]
  },
  {
   "cell_type": "code",
   "execution_count": 44,
   "id": "71240c49",
   "metadata": {},
   "outputs": [],
   "source": [
    "f = open('practice.txt','w+')\n",
    "f.write('This is a test string')\n",
    "f.close()"
   ]
  },
  {
   "cell_type": "code",
   "execution_count": 2,
   "id": "55e7b26c",
   "metadata": {},
   "outputs": [],
   "source": [
    "import os"
   ]
  },
  {
   "cell_type": "code",
   "execution_count": 46,
   "id": "371352e1",
   "metadata": {},
   "outputs": [
    {
     "data": {
      "text/plain": [
       "'/Users/priyathamkrishnakodeboyina/Python Exercises'"
      ]
     },
     "execution_count": 46,
     "metadata": {},
     "output_type": "execute_result"
    }
   ],
   "source": [
    "os.getcwd()"
   ]
  },
  {
   "cell_type": "code",
   "execution_count": 48,
   "id": "1ecf6628",
   "metadata": {},
   "outputs": [
    {
     "data": {
      "text/plain": [
       "['priyathamkrishnakodeboyina', '.localized', 'Shared']"
      ]
     },
     "execution_count": 48,
     "metadata": {},
     "output_type": "execute_result"
    }
   ],
   "source": [
    "os.listdir('/Users/')"
   ]
  },
  {
   "cell_type": "code",
   "execution_count": 49,
   "id": "24b5f435",
   "metadata": {},
   "outputs": [],
   "source": [
    "import shutil"
   ]
  },
  {
   "cell_type": "code",
   "execution_count": 50,
   "id": "5134fbff",
   "metadata": {},
   "outputs": [
    {
     "data": {
      "text/plain": [
       "'/Users/priyathamkrishnakodeboyina/practice.txt'"
      ]
     },
     "execution_count": 50,
     "metadata": {},
     "output_type": "execute_result"
    }
   ],
   "source": [
    "shutil.move('practice.txt','/Users/priyathamkrishnakodeboyina')"
   ]
  },
  {
   "cell_type": "code",
   "execution_count": 51,
   "id": "8272848f",
   "metadata": {},
   "outputs": [
    {
     "data": {
      "text/plain": [
       "['research',\n",
       " '.config',\n",
       " 'Music',\n",
       " 'Jts',\n",
       " '.condarc',\n",
       " '.docker',\n",
       " '.thinkorswim',\n",
       " '.DS_Store',\n",
       " '.hwid',\n",
       " '10_streaming_ticks',\n",
       " '.CFUserTextEncoding',\n",
       " '.xonshrc',\n",
       " '.hawtjni',\n",
       " '.zshrc',\n",
       " '.templateengine',\n",
       " '.local',\n",
       " 'Projects',\n",
       " 'Pictures',\n",
       " '.zprofile',\n",
       " '.openjfx',\n",
       " 'practice.txt',\n",
       " 'postgresql_11.app.zip',\n",
       " 'Postman',\n",
       " '.nuget',\n",
       " '.zsh_history',\n",
       " '.ipython',\n",
       " 'Desktop',\n",
       " 'Library',\n",
       " '.matplotlib',\n",
       " '.lesshst',\n",
       " '.oracle_jre_usage',\n",
       " '.IdentityService',\n",
       " '.android',\n",
       " '.cups',\n",
       " 'PycharmProjects',\n",
       " 'Public',\n",
       " '.tcshrc',\n",
       " '.git-credentials',\n",
       " '.anaconda',\n",
       " 'Movies',\n",
       " '.dotnet',\n",
       " 'Applications',\n",
       " '.gradle',\n",
       " 'opt',\n",
       " 'NewFolder',\n",
       " '.Trash',\n",
       " 'IdeaProjects',\n",
       " '.ipynb_checkpoints',\n",
       " '.jupyter',\n",
       " '.vmware',\n",
       " 'Documents',\n",
       " '.mono',\n",
       " '.vscode',\n",
       " '.m2',\n",
       " '.bash_profile',\n",
       " '.aspnet',\n",
       " 'anaconda3',\n",
       " 'Downloads',\n",
       " '.python_history',\n",
       " '.continuum',\n",
       " '.gitconfig',\n",
       " '.viminfo',\n",
       " '.zsh_sessions',\n",
       " '.astropy',\n",
       " 'Python Exercises',\n",
       " '.conda']"
      ]
     },
     "execution_count": 51,
     "metadata": {},
     "output_type": "execute_result"
    }
   ],
   "source": [
    "os.listdir('/Users/priyathamkrishnakodeboyina')"
   ]
  },
  {
   "cell_type": "code",
   "execution_count": 52,
   "id": "47dbbad2",
   "metadata": {},
   "outputs": [],
   "source": [
    "import send2trash"
   ]
  },
  {
   "cell_type": "code",
   "execution_count": 56,
   "id": "b01441f0",
   "metadata": {},
   "outputs": [
    {
     "data": {
      "text/plain": [
       "['Modules and Packages.ipynb',\n",
       " 'Errors and Exceptions Handling.ipynb',\n",
       " 'one.py',\n",
       " 'Decorators.ipynb',\n",
       " 'Advanced Python Modules.ipynb',\n",
       " 'Object Oriented Programming Challenge.ipynb',\n",
       " 'Methods and Functions.ipynb',\n",
       " 'test_cap.py',\n",
       " 'Python Statements.ipynb',\n",
       " 'Milestone Project 2 - War and BlackJack Card games.ipynb',\n",
       " 'Python Objects and Data Structures Assessment.ipynb',\n",
       " 'Python Statements Assessment.ipynb',\n",
       " 'Object Oriented Programmimg.ipynb',\n",
       " 'Generators.ipynb',\n",
       " 'cap.py',\n",
       " 'practice.txt',\n",
       " 'my_new_file.txt',\n",
       " 'two.py',\n",
       " 'Iterators and Generators Homework.ipynb',\n",
       " '__pycache__',\n",
       " 'simple1.py',\n",
       " 'myprogram.py',\n",
       " 'Errors and Exceptions Homework.ipynb',\n",
       " 'Methods and Functions Homework.ipynb',\n",
       " 'Python Objects and Data Structures.ipynb',\n",
       " 'Object Oriented Programming Homework .ipynb',\n",
       " 'MyMainPackage',\n",
       " 'new_write_test_file.txt',\n",
       " 'mymodule.py',\n",
       " 'myfile.txt',\n",
       " '.ipynb_checkpoints',\n",
       " 'Function Practice Exercises.ipynb',\n",
       " '.git',\n",
       " 'testfile',\n",
       " 'Comparison Operators.ipynb',\n",
       " 'Milestone Project-1.ipynb',\n",
       " '.idea']"
      ]
     },
     "execution_count": 56,
     "metadata": {},
     "output_type": "execute_result"
    }
   ],
   "source": [
    "os.listdir()"
   ]
  },
  {
   "cell_type": "code",
   "execution_count": 55,
   "id": "74b8ef55",
   "metadata": {},
   "outputs": [
    {
     "data": {
      "text/plain": [
       "'/Users/priyathamkrishnakodeboyina/Python Exercises/practice.txt'"
      ]
     },
     "execution_count": 55,
     "metadata": {},
     "output_type": "execute_result"
    }
   ],
   "source": [
    "shutil.move('/Users/priyathamkrishnakodeboyina/practice.txt',os.getcwd())"
   ]
  },
  {
   "cell_type": "code",
   "execution_count": 57,
   "id": "b60d30bb",
   "metadata": {},
   "outputs": [],
   "source": [
    "send2trash.send2trash('practice.txt')"
   ]
  },
  {
   "cell_type": "code",
   "execution_count": 58,
   "id": "f403ac8b",
   "metadata": {},
   "outputs": [
    {
     "data": {
      "text/plain": [
       "['Modules and Packages.ipynb',\n",
       " 'Errors and Exceptions Handling.ipynb',\n",
       " 'one.py',\n",
       " 'Decorators.ipynb',\n",
       " 'Advanced Python Modules.ipynb',\n",
       " 'Object Oriented Programming Challenge.ipynb',\n",
       " 'Methods and Functions.ipynb',\n",
       " 'test_cap.py',\n",
       " 'Python Statements.ipynb',\n",
       " 'Milestone Project 2 - War and BlackJack Card games.ipynb',\n",
       " 'Python Objects and Data Structures Assessment.ipynb',\n",
       " 'Python Statements Assessment.ipynb',\n",
       " 'Object Oriented Programmimg.ipynb',\n",
       " 'Generators.ipynb',\n",
       " 'cap.py',\n",
       " 'my_new_file.txt',\n",
       " 'two.py',\n",
       " 'Iterators and Generators Homework.ipynb',\n",
       " '__pycache__',\n",
       " 'simple1.py',\n",
       " 'myprogram.py',\n",
       " 'Errors and Exceptions Homework.ipynb',\n",
       " 'Methods and Functions Homework.ipynb',\n",
       " 'Python Objects and Data Structures.ipynb',\n",
       " 'Object Oriented Programming Homework .ipynb',\n",
       " 'MyMainPackage',\n",
       " 'new_write_test_file.txt',\n",
       " 'mymodule.py',\n",
       " 'myfile.txt',\n",
       " '.ipynb_checkpoints',\n",
       " 'Function Practice Exercises.ipynb',\n",
       " '.git',\n",
       " 'testfile',\n",
       " 'Comparison Operators.ipynb',\n",
       " 'Milestone Project-1.ipynb',\n",
       " '.idea']"
      ]
     },
     "execution_count": 58,
     "metadata": {},
     "output_type": "execute_result"
    }
   ],
   "source": [
    "os.listdir()"
   ]
  },
  {
   "cell_type": "code",
   "execution_count": 5,
   "id": "b359ab9c",
   "metadata": {},
   "outputs": [
    {
     "name": "stdout",
     "output_type": "stream",
     "text": [
      "Currently looking at /Users/priyathamkrishnakodeboyina/Python Exercises/Example_Top_Level\n",
      "\n",
      "\n",
      "The subfolders are:\n",
      "\t Subfolder: .ipynb_checkpoints\n",
      "\t Subfolder: Mid-Example-Two\n",
      "\t Subfolder: Mid-Example-One\n",
      "\n",
      "\n",
      "The files are:\n",
      "\t File: Mid_Example.txt\n",
      "\n",
      "\n",
      "Currently looking at /Users/priyathamkrishnakodeboyina/Python Exercises/Example_Top_Level/.ipynb_checkpoints\n",
      "\n",
      "\n",
      "The subfolders are:\n",
      "\n",
      "\n",
      "The files are:\n",
      "\n",
      "\n",
      "Currently looking at /Users/priyathamkrishnakodeboyina/Python Exercises/Example_Top_Level/Mid-Example-Two\n",
      "\n",
      "\n",
      "The subfolders are:\n",
      "\n",
      "\n",
      "The files are:\n",
      "\n",
      "\n",
      "Currently looking at /Users/priyathamkrishnakodeboyina/Python Exercises/Example_Top_Level/Mid-Example-One\n",
      "\n",
      "\n",
      "The subfolders are:\n",
      "\t Subfolder: .ipynb_checkpoints\n",
      "\t Subfolder: Bottom_Level_One\n",
      "\t Subfolder: Bottom_Level_Two\n",
      "\n",
      "\n",
      "The files are:\n",
      "\t File: Mid-Level-Doc.txt\n",
      "\n",
      "\n",
      "Currently looking at /Users/priyathamkrishnakodeboyina/Python Exercises/Example_Top_Level/Mid-Example-One/.ipynb_checkpoints\n",
      "\n",
      "\n",
      "The subfolders are:\n",
      "\n",
      "\n",
      "The files are:\n",
      "\n",
      "\n",
      "Currently looking at /Users/priyathamkrishnakodeboyina/Python Exercises/Example_Top_Level/Mid-Example-One/Bottom_Level_One\n",
      "\n",
      "\n",
      "The subfolders are:\n",
      "\t Subfolder: .ipynb_checkpoints\n",
      "\n",
      "\n",
      "The files are:\n",
      "\t File: One_Text.txt\n",
      "\n",
      "\n",
      "Currently looking at /Users/priyathamkrishnakodeboyina/Python Exercises/Example_Top_Level/Mid-Example-One/Bottom_Level_One/.ipynb_checkpoints\n",
      "\n",
      "\n",
      "The subfolders are:\n",
      "\n",
      "\n",
      "The files are:\n",
      "\n",
      "\n",
      "Currently looking at /Users/priyathamkrishnakodeboyina/Python Exercises/Example_Top_Level/Mid-Example-One/Bottom_Level_Two\n",
      "\n",
      "\n",
      "The subfolders are:\n",
      "\t Subfolder: .ipynb_checkpoints\n",
      "\n",
      "\n",
      "The files are:\n",
      "\t File: Bottom_Text-Two.txt\n",
      "\n",
      "\n",
      "Currently looking at /Users/priyathamkrishnakodeboyina/Python Exercises/Example_Top_Level/Mid-Example-One/Bottom_Level_Two/.ipynb_checkpoints\n",
      "\n",
      "\n",
      "The subfolders are:\n",
      "\n",
      "\n",
      "The files are:\n",
      "\n",
      "\n"
     ]
    }
   ],
   "source": [
    "file_path = '/Users/priyathamkrishnakodeboyina/Python Exercises/Example_Top_Level'\n",
    "for folder, sub_folders, files in os.walk(file_path):\n",
    "    print(f\"Currently looking at {folder}\")\n",
    "    print('\\n')\n",
    "    print('The subfolders are:')\n",
    "    for sub_fold in sub_folders:\n",
    "        print(f'\\t Subfolder: {sub_fold}')\n",
    "        \n",
    "    print('\\n')\n",
    "    print('The files are:')\n",
    "    for f in files:\n",
    "        print(f'\\t File: {f}')\n",
    "    print('\\n')"
   ]
  },
  {
   "cell_type": "markdown",
   "id": "c0e6e094",
   "metadata": {},
   "source": [
    "**Datetime Module**"
   ]
  },
  {
   "cell_type": "code",
   "execution_count": 6,
   "id": "5a212507",
   "metadata": {},
   "outputs": [],
   "source": [
    "import datetime"
   ]
  },
  {
   "cell_type": "code",
   "execution_count": 13,
   "id": "bc2d3340",
   "metadata": {},
   "outputs": [],
   "source": [
    "mytime = datetime.time(13,20,1,20)"
   ]
  },
  {
   "cell_type": "code",
   "execution_count": 14,
   "id": "a217f796",
   "metadata": {},
   "outputs": [
    {
     "data": {
      "text/plain": [
       "20"
      ]
     },
     "execution_count": 14,
     "metadata": {},
     "output_type": "execute_result"
    }
   ],
   "source": [
    "mytime.minute"
   ]
  },
  {
   "cell_type": "code",
   "execution_count": 15,
   "id": "59351d33",
   "metadata": {},
   "outputs": [
    {
     "data": {
      "text/plain": [
       "13"
      ]
     },
     "execution_count": 15,
     "metadata": {},
     "output_type": "execute_result"
    }
   ],
   "source": [
    "mytime.hour"
   ]
  },
  {
   "cell_type": "code",
   "execution_count": 16,
   "id": "9a241040",
   "metadata": {},
   "outputs": [
    {
     "name": "stdout",
     "output_type": "stream",
     "text": [
      "13:20:01.000020\n"
     ]
    }
   ],
   "source": [
    "print(mytime)"
   ]
  },
  {
   "cell_type": "code",
   "execution_count": 12,
   "id": "55385909",
   "metadata": {},
   "outputs": [
    {
     "data": {
      "text/plain": [
       "0"
      ]
     },
     "execution_count": 12,
     "metadata": {},
     "output_type": "execute_result"
    }
   ],
   "source": [
    "mytime.microsecond"
   ]
  },
  {
   "cell_type": "code",
   "execution_count": 17,
   "id": "a6c72b67",
   "metadata": {},
   "outputs": [
    {
     "data": {
      "text/plain": [
       "datetime.time"
      ]
     },
     "execution_count": 17,
     "metadata": {},
     "output_type": "execute_result"
    }
   ],
   "source": [
    "type(mytime)"
   ]
  },
  {
   "cell_type": "code",
   "execution_count": 18,
   "id": "cbe0d079",
   "metadata": {},
   "outputs": [],
   "source": [
    "today = datetime.date.today()"
   ]
  },
  {
   "cell_type": "code",
   "execution_count": 19,
   "id": "36c1f5e0",
   "metadata": {},
   "outputs": [
    {
     "name": "stdout",
     "output_type": "stream",
     "text": [
      "2023-11-01\n"
     ]
    }
   ],
   "source": [
    "print(today)"
   ]
  },
  {
   "cell_type": "code",
   "execution_count": 20,
   "id": "338b9d4f",
   "metadata": {},
   "outputs": [
    {
     "data": {
      "text/plain": [
       "2023"
      ]
     },
     "execution_count": 20,
     "metadata": {},
     "output_type": "execute_result"
    }
   ],
   "source": [
    "today.year"
   ]
  },
  {
   "cell_type": "code",
   "execution_count": 21,
   "id": "03135769",
   "metadata": {},
   "outputs": [
    {
     "data": {
      "text/plain": [
       "11"
      ]
     },
     "execution_count": 21,
     "metadata": {},
     "output_type": "execute_result"
    }
   ],
   "source": [
    "today.month"
   ]
  },
  {
   "cell_type": "code",
   "execution_count": 22,
   "id": "50160a49",
   "metadata": {},
   "outputs": [
    {
     "data": {
      "text/plain": [
       "1"
      ]
     },
     "execution_count": 22,
     "metadata": {},
     "output_type": "execute_result"
    }
   ],
   "source": [
    "today.day"
   ]
  },
  {
   "cell_type": "code",
   "execution_count": 23,
   "id": "6f6e6f64",
   "metadata": {},
   "outputs": [
    {
     "data": {
      "text/plain": [
       "'Wed Nov  1 00:00:00 2023'"
      ]
     },
     "execution_count": 23,
     "metadata": {},
     "output_type": "execute_result"
    }
   ],
   "source": [
    "today.ctime()"
   ]
  },
  {
   "cell_type": "code",
   "execution_count": 24,
   "id": "af8cf0de",
   "metadata": {},
   "outputs": [],
   "source": [
    "from datetime import datetime"
   ]
  },
  {
   "cell_type": "code",
   "execution_count": 26,
   "id": "18322ca8",
   "metadata": {},
   "outputs": [],
   "source": [
    "mydatetime = datetime(2021,10,3,14,20,1)"
   ]
  },
  {
   "cell_type": "code",
   "execution_count": 27,
   "id": "967fc416",
   "metadata": {},
   "outputs": [
    {
     "name": "stdout",
     "output_type": "stream",
     "text": [
      "2021-10-03 14:20:01\n"
     ]
    }
   ],
   "source": [
    "print(mydatetime)"
   ]
  },
  {
   "cell_type": "code",
   "execution_count": 29,
   "id": "9e3a258b",
   "metadata": {},
   "outputs": [],
   "source": [
    "mydatetime = mydatetime.replace(year=2020)"
   ]
  },
  {
   "cell_type": "code",
   "execution_count": 30,
   "id": "0e5100eb",
   "metadata": {},
   "outputs": [
    {
     "name": "stdout",
     "output_type": "stream",
     "text": [
      "2020-10-03 14:20:01\n"
     ]
    }
   ],
   "source": [
    "print(mydatetime)"
   ]
  },
  {
   "cell_type": "code",
   "execution_count": 31,
   "id": "ce690ca5",
   "metadata": {},
   "outputs": [],
   "source": [
    "# Date"
   ]
  },
  {
   "cell_type": "code",
   "execution_count": 32,
   "id": "e97fab16",
   "metadata": {},
   "outputs": [],
   "source": [
    "from datetime import date"
   ]
  },
  {
   "cell_type": "code",
   "execution_count": 33,
   "id": "96f33e44",
   "metadata": {},
   "outputs": [],
   "source": [
    "date1 = date(2021,11,3)\n",
    "date2 = date(2020,11,3)"
   ]
  },
  {
   "cell_type": "code",
   "execution_count": 35,
   "id": "a7e91e3b",
   "metadata": {},
   "outputs": [],
   "source": [
    "result = date1 - date2"
   ]
  },
  {
   "cell_type": "code",
   "execution_count": 36,
   "id": "d8a23391",
   "metadata": {},
   "outputs": [
    {
     "data": {
      "text/plain": [
       "datetime.timedelta"
      ]
     },
     "execution_count": 36,
     "metadata": {},
     "output_type": "execute_result"
    }
   ],
   "source": [
    "type(result)"
   ]
  },
  {
   "cell_type": "code",
   "execution_count": 37,
   "id": "293e20b7",
   "metadata": {},
   "outputs": [
    {
     "data": {
      "text/plain": [
       "365"
      ]
     },
     "execution_count": 37,
     "metadata": {},
     "output_type": "execute_result"
    }
   ],
   "source": [
    "result.days"
   ]
  },
  {
   "cell_type": "code",
   "execution_count": 38,
   "id": "8f352d0a",
   "metadata": {},
   "outputs": [],
   "source": [
    "datetime1 = datetime(2021,11,3,22,0)"
   ]
  },
  {
   "cell_type": "code",
   "execution_count": 39,
   "id": "0339f610",
   "metadata": {},
   "outputs": [],
   "source": [
    "datetime2 = datetime(2020,11,3,12,0)"
   ]
  },
  {
   "cell_type": "code",
   "execution_count": 40,
   "id": "6701c49c",
   "metadata": {},
   "outputs": [
    {
     "data": {
      "text/plain": [
       "datetime.timedelta(days=365, seconds=36000)"
      ]
     },
     "execution_count": 40,
     "metadata": {},
     "output_type": "execute_result"
    }
   ],
   "source": [
    "datetime1 - datetime2"
   ]
  },
  {
   "cell_type": "code",
   "execution_count": 41,
   "id": "ddf878ae",
   "metadata": {},
   "outputs": [],
   "source": [
    "mydiff = datetime1 - datetime2"
   ]
  },
  {
   "cell_type": "code",
   "execution_count": 42,
   "id": "f4dccefb",
   "metadata": {},
   "outputs": [
    {
     "data": {
      "text/plain": [
       "36000"
      ]
     },
     "execution_count": 42,
     "metadata": {},
     "output_type": "execute_result"
    }
   ],
   "source": [
    "mydiff.seconds"
   ]
  },
  {
   "cell_type": "code",
   "execution_count": 43,
   "id": "31047b34",
   "metadata": {},
   "outputs": [
    {
     "data": {
      "text/plain": [
       "31572000.0"
      ]
     },
     "execution_count": 43,
     "metadata": {},
     "output_type": "execute_result"
    }
   ],
   "source": [
    "mydiff.total_seconds()"
   ]
  },
  {
   "cell_type": "markdown",
   "id": "937deca6",
   "metadata": {},
   "source": [
    "**Math and Random Modules**"
   ]
  },
  {
   "cell_type": "code",
   "execution_count": 45,
   "id": "7ae0e523",
   "metadata": {},
   "outputs": [],
   "source": [
    "import math"
   ]
  },
  {
   "cell_type": "code",
   "execution_count": 47,
   "id": "1208ff02",
   "metadata": {},
   "outputs": [],
   "source": [
    "#help(math)"
   ]
  },
  {
   "cell_type": "code",
   "execution_count": 48,
   "id": "43ba81b0",
   "metadata": {},
   "outputs": [],
   "source": [
    "value = 4.35"
   ]
  },
  {
   "cell_type": "code",
   "execution_count": 50,
   "id": "172dfcc3",
   "metadata": {},
   "outputs": [
    {
     "data": {
      "text/plain": [
       "4"
      ]
     },
     "execution_count": 50,
     "metadata": {},
     "output_type": "execute_result"
    }
   ],
   "source": [
    "math.floor(value)"
   ]
  },
  {
   "cell_type": "code",
   "execution_count": 51,
   "id": "f35733c9",
   "metadata": {},
   "outputs": [
    {
     "data": {
      "text/plain": [
       "5"
      ]
     },
     "execution_count": 51,
     "metadata": {},
     "output_type": "execute_result"
    }
   ],
   "source": [
    "math.ceil(value)"
   ]
  },
  {
   "cell_type": "code",
   "execution_count": 52,
   "id": "b93fe2ae",
   "metadata": {},
   "outputs": [
    {
     "data": {
      "text/plain": [
       "4"
      ]
     },
     "execution_count": 52,
     "metadata": {},
     "output_type": "execute_result"
    }
   ],
   "source": [
    "round(4.35)"
   ]
  },
  {
   "cell_type": "code",
   "execution_count": 53,
   "id": "68a04504",
   "metadata": {},
   "outputs": [
    {
     "data": {
      "text/plain": [
       "4"
      ]
     },
     "execution_count": 53,
     "metadata": {},
     "output_type": "execute_result"
    }
   ],
   "source": [
    "round(4)"
   ]
  },
  {
   "cell_type": "code",
   "execution_count": 54,
   "id": "5c73ef6a",
   "metadata": {},
   "outputs": [
    {
     "data": {
      "text/plain": [
       "6"
      ]
     },
     "execution_count": 54,
     "metadata": {},
     "output_type": "execute_result"
    }
   ],
   "source": [
    "round(5.5)"
   ]
  },
  {
   "cell_type": "markdown",
   "id": "c2dd71f5",
   "metadata": {},
   "source": [
    "- round - In this case, while 2.5 rounds down to 2, 3.5 rounds up to 4. This is because Python rounds to the nearest even number when a number is exactly halfway between two others. To mitigate this, you might choose to add a small bias to the number before rounding."
   ]
  },
  {
   "cell_type": "code",
   "execution_count": 55,
   "id": "21822b42",
   "metadata": {},
   "outputs": [
    {
     "data": {
      "text/plain": [
       "3.141592653589793"
      ]
     },
     "execution_count": 55,
     "metadata": {},
     "output_type": "execute_result"
    }
   ],
   "source": [
    "math.pi"
   ]
  },
  {
   "cell_type": "code",
   "execution_count": 56,
   "id": "98571946",
   "metadata": {},
   "outputs": [],
   "source": [
    "from math import pi"
   ]
  },
  {
   "cell_type": "code",
   "execution_count": 57,
   "id": "3e1ac8f3",
   "metadata": {},
   "outputs": [
    {
     "data": {
      "text/plain": [
       "3.141592653589793"
      ]
     },
     "execution_count": 57,
     "metadata": {},
     "output_type": "execute_result"
    }
   ],
   "source": [
    "pi"
   ]
  },
  {
   "cell_type": "code",
   "execution_count": 58,
   "id": "e5a58542",
   "metadata": {},
   "outputs": [
    {
     "data": {
      "text/plain": [
       "2.718281828459045"
      ]
     },
     "execution_count": 58,
     "metadata": {},
     "output_type": "execute_result"
    }
   ],
   "source": [
    "math.e # Eular's number"
   ]
  },
  {
   "cell_type": "code",
   "execution_count": 59,
   "id": "e724ebd1",
   "metadata": {},
   "outputs": [
    {
     "data": {
      "text/plain": [
       "inf"
      ]
     },
     "execution_count": 59,
     "metadata": {},
     "output_type": "execute_result"
    }
   ],
   "source": [
    "math.inf"
   ]
  },
  {
   "cell_type": "code",
   "execution_count": 60,
   "id": "7101c310",
   "metadata": {},
   "outputs": [
    {
     "data": {
      "text/plain": [
       "nan"
      ]
     },
     "execution_count": 60,
     "metadata": {},
     "output_type": "execute_result"
    }
   ],
   "source": [
    "math.nan"
   ]
  },
  {
   "cell_type": "markdown",
   "id": "4fe91e4b",
   "metadata": {},
   "source": [
    "- Numpy library is for numeric processing and is much more efficient than math library."
   ]
  },
  {
   "cell_type": "code",
   "execution_count": 61,
   "id": "acbad4f9",
   "metadata": {},
   "outputs": [
    {
     "data": {
      "text/plain": [
       "1.0"
      ]
     },
     "execution_count": 61,
     "metadata": {},
     "output_type": "execute_result"
    }
   ],
   "source": [
    "math.log(math.e)"
   ]
  },
  {
   "cell_type": "code",
   "execution_count": 62,
   "id": "50b5af17",
   "metadata": {},
   "outputs": [
    {
     "data": {
      "text/plain": [
       "2.0"
      ]
     },
     "execution_count": 62,
     "metadata": {},
     "output_type": "execute_result"
    }
   ],
   "source": [
    "math.log(100,10)"
   ]
  },
  {
   "cell_type": "code",
   "execution_count": 63,
   "id": "5b71193a",
   "metadata": {},
   "outputs": [
    {
     "data": {
      "text/plain": [
       "-0.5440211108893698"
      ]
     },
     "execution_count": 63,
     "metadata": {},
     "output_type": "execute_result"
    }
   ],
   "source": [
    "math.sin(10)"
   ]
  },
  {
   "cell_type": "code",
   "execution_count": 64,
   "id": "c5f27fc7",
   "metadata": {},
   "outputs": [
    {
     "data": {
      "text/plain": [
       "90.0"
      ]
     },
     "execution_count": 64,
     "metadata": {},
     "output_type": "execute_result"
    }
   ],
   "source": [
    "math.degrees(pi/2)"
   ]
  },
  {
   "cell_type": "code",
   "execution_count": 65,
   "id": "bfea0c5b",
   "metadata": {},
   "outputs": [
    {
     "data": {
      "text/plain": [
       "3.141592653589793"
      ]
     },
     "execution_count": 65,
     "metadata": {},
     "output_type": "execute_result"
    }
   ],
   "source": [
    "math.radians(180) # 3.14 radians = 180 degrees"
   ]
  },
  {
   "cell_type": "code",
   "execution_count": 66,
   "id": "e2fab75b",
   "metadata": {},
   "outputs": [],
   "source": [
    "import random"
   ]
  },
  {
   "cell_type": "code",
   "execution_count": 67,
   "id": "d46a8193",
   "metadata": {},
   "outputs": [
    {
     "data": {
      "text/plain": [
       "57"
      ]
     },
     "execution_count": 67,
     "metadata": {},
     "output_type": "execute_result"
    }
   ],
   "source": [
    "random.randint(0,100)"
   ]
  },
  {
   "cell_type": "code",
   "execution_count": 68,
   "id": "b4825196",
   "metadata": {},
   "outputs": [
    {
     "data": {
      "text/plain": [
       "74"
      ]
     },
     "execution_count": 68,
     "metadata": {},
     "output_type": "execute_result"
    }
   ],
   "source": [
    "random.seed(101)\n",
    "\n",
    "random.randint(0,100)"
   ]
  },
  {
   "cell_type": "code",
   "execution_count": 69,
   "id": "76ab4889",
   "metadata": {},
   "outputs": [
    {
     "data": {
      "text/plain": [
       "24"
      ]
     },
     "execution_count": 69,
     "metadata": {},
     "output_type": "execute_result"
    }
   ],
   "source": [
    "random.randint(0,100)"
   ]
  },
  {
   "cell_type": "code",
   "execution_count": 71,
   "id": "e3bad9c3",
   "metadata": {},
   "outputs": [
    {
     "name": "stdout",
     "output_type": "stream",
     "text": [
      "74\n",
      "24\n",
      "69\n",
      "45\n",
      "59\n",
      "6\n",
      "84\n"
     ]
    }
   ],
   "source": [
    "random.seed(101)\n",
    "print(random.randint(0,100)) #74\n",
    "print(random.randint(0,100)) #24\n",
    "print(random.randint(0,100)) #69\n",
    "print(random.randint(0,100))\n",
    "print(random.randint(0,100))\n",
    "print(random.randint(0,100))\n",
    "print(random.randint(0,100))"
   ]
  },
  {
   "cell_type": "code",
   "execution_count": 72,
   "id": "dfc3c728",
   "metadata": {},
   "outputs": [],
   "source": [
    "mylist = list(range(0,20))"
   ]
  },
  {
   "cell_type": "code",
   "execution_count": 73,
   "id": "239fbcf5",
   "metadata": {},
   "outputs": [
    {
     "data": {
      "text/plain": [
       "[0, 1, 2, 3, 4, 5, 6, 7, 8, 9, 10, 11, 12, 13, 14, 15, 16, 17, 18, 19]"
      ]
     },
     "execution_count": 73,
     "metadata": {},
     "output_type": "execute_result"
    }
   ],
   "source": [
    "mylist"
   ]
  },
  {
   "cell_type": "code",
   "execution_count": 74,
   "id": "594ddb60",
   "metadata": {},
   "outputs": [
    {
     "data": {
      "text/plain": [
       "16"
      ]
     },
     "execution_count": 74,
     "metadata": {},
     "output_type": "execute_result"
    }
   ],
   "source": [
    "random.choice(mylist)"
   ]
  },
  {
   "cell_type": "code",
   "execution_count": 75,
   "id": "25b6c970",
   "metadata": {},
   "outputs": [
    {
     "data": {
      "text/plain": [
       "[4, 4, 5, 13, 4, 19, 1, 3, 1, 15]"
      ]
     },
     "execution_count": 75,
     "metadata": {},
     "output_type": "execute_result"
    }
   ],
   "source": [
    "# Sample with replacement\n",
    "random.choices(population=mylist,k=10)"
   ]
  },
  {
   "cell_type": "code",
   "execution_count": 76,
   "id": "f0a6619f",
   "metadata": {},
   "outputs": [
    {
     "data": {
      "text/plain": [
       "[11, 6, 15, 10, 7, 16, 12, 18, 13, 3]"
      ]
     },
     "execution_count": 76,
     "metadata": {},
     "output_type": "execute_result"
    }
   ],
   "source": [
    "# Sample without replacement\n",
    "random.sample(population=mylist,k=10)"
   ]
  },
  {
   "cell_type": "code",
   "execution_count": 77,
   "id": "83a87bdc",
   "metadata": {},
   "outputs": [
    {
     "data": {
      "text/plain": [
       "[0, 1, 2, 3, 4, 5, 6, 7, 8, 9, 10, 11, 12, 13, 14, 15, 16, 17, 18, 19]"
      ]
     },
     "execution_count": 77,
     "metadata": {},
     "output_type": "execute_result"
    }
   ],
   "source": [
    "mylist"
   ]
  },
  {
   "cell_type": "code",
   "execution_count": 78,
   "id": "9f6f1ee5",
   "metadata": {},
   "outputs": [],
   "source": [
    "random.shuffle(mylist) # Shuffles in place"
   ]
  },
  {
   "cell_type": "code",
   "execution_count": 79,
   "id": "7cc197ad",
   "metadata": {},
   "outputs": [
    {
     "data": {
      "text/plain": [
       "[12, 7, 19, 11, 0, 3, 17, 8, 15, 4, 5, 18, 16, 10, 1, 6, 9, 14, 13, 2]"
      ]
     },
     "execution_count": 79,
     "metadata": {},
     "output_type": "execute_result"
    }
   ],
   "source": [
    "mylist"
   ]
  },
  {
   "cell_type": "code",
   "execution_count": 80,
   "id": "0863c264",
   "metadata": {},
   "outputs": [
    {
     "data": {
      "text/plain": [
       "0.6518601416265479"
      ]
     },
     "execution_count": 80,
     "metadata": {},
     "output_type": "execute_result"
    }
   ],
   "source": [
    "random.uniform(a=0,b=100)"
   ]
  },
  {
   "cell_type": "code",
   "execution_count": 81,
   "id": "4c3d3c47",
   "metadata": {},
   "outputs": [
    {
     "data": {
      "text/plain": [
       "-1.206313719234682"
      ]
     },
     "execution_count": 81,
     "metadata": {},
     "output_type": "execute_result"
    }
   ],
   "source": [
    "random.gauss(mu=0,sigma=1)"
   ]
  },
  {
   "cell_type": "markdown",
   "id": "16839fe1",
   "metadata": {},
   "source": [
    "**Debugger**"
   ]
  },
  {
   "cell_type": "code",
   "execution_count": 85,
   "id": "a2fbf819",
   "metadata": {},
   "outputs": [],
   "source": [
    "x = [1,2,3]\n",
    "y = 2\n",
    "z = 3\n"
   ]
  },
  {
   "cell_type": "code",
   "execution_count": 86,
   "id": "1839f858",
   "metadata": {},
   "outputs": [],
   "source": [
    "import pdb"
   ]
  },
  {
   "cell_type": "code",
   "execution_count": 89,
   "id": "0ab5c994",
   "metadata": {},
   "outputs": [
    {
     "name": "stdout",
     "output_type": "stream",
     "text": [
      "--Return--\n",
      "None\n",
      "> \u001b[0;32m/var/folders/fr/0brgv1w93p588y0_4zvkddm40000gn/T/ipykernel_7882/1912475531.py\u001b[0m(7)\u001b[0;36m<module>\u001b[0;34m()\u001b[0m\n",
      "\u001b[0;32m      5 \u001b[0;31m\u001b[0mresult_one\u001b[0m \u001b[0;34m=\u001b[0m \u001b[0my\u001b[0m \u001b[0;34m+\u001b[0m \u001b[0mz\u001b[0m\u001b[0;34m\u001b[0m\u001b[0;34m\u001b[0m\u001b[0m\n",
      "\u001b[0m\u001b[0;32m      6 \u001b[0;31m\u001b[0;34m\u001b[0m\u001b[0m\n",
      "\u001b[0m\u001b[0;32m----> 7 \u001b[0;31m\u001b[0mpdb\u001b[0m\u001b[0;34m.\u001b[0m\u001b[0mset_trace\u001b[0m\u001b[0;34m(\u001b[0m\u001b[0;34m)\u001b[0m\u001b[0;34m\u001b[0m\u001b[0;34m\u001b[0m\u001b[0m\n",
      "\u001b[0m\u001b[0;32m      8 \u001b[0;31m\u001b[0;34m\u001b[0m\u001b[0m\n",
      "\u001b[0m\u001b[0;32m      9 \u001b[0;31m\u001b[0mresult_two\u001b[0m \u001b[0;34m=\u001b[0m \u001b[0my\u001b[0m \u001b[0;34m+\u001b[0m \u001b[0mx\u001b[0m\u001b[0;34m\u001b[0m\u001b[0;34m\u001b[0m\u001b[0m\n",
      "\u001b[0m\n",
      "ipdb> x\n",
      "[1, 2, 3]\n",
      "ipdb> y\n",
      "2\n",
      "ipdb> result_one\n",
      "5\n",
      "ipdb> y\n",
      "2\n",
      "ipdb> x\n",
      "[1, 2, 3]\n",
      "ipdb> q\n"
     ]
    }
   ],
   "source": [
    "x = [1,2,3]\n",
    "y = 2\n",
    "z = 3\n",
    "\n",
    "result_one = y + z\n",
    "\n",
    "pdb.set_trace()\n",
    "\n",
    "result_two = y + x"
   ]
  },
  {
   "cell_type": "markdown",
   "id": "b77906cd",
   "metadata": {},
   "source": [
    "**Regular Expressions**"
   ]
  },
  {
   "cell_type": "code",
   "execution_count": 90,
   "id": "f1068b62",
   "metadata": {},
   "outputs": [],
   "source": [
    "text = \"The agent's phone number is 408-555-1234. Call soon!\""
   ]
  },
  {
   "cell_type": "code",
   "execution_count": 91,
   "id": "dff823af",
   "metadata": {},
   "outputs": [
    {
     "data": {
      "text/plain": [
       "True"
      ]
     },
     "execution_count": 91,
     "metadata": {},
     "output_type": "execute_result"
    }
   ],
   "source": [
    "'phone' in text"
   ]
  },
  {
   "cell_type": "code",
   "execution_count": 92,
   "id": "665a4a78",
   "metadata": {},
   "outputs": [],
   "source": [
    "import re"
   ]
  },
  {
   "cell_type": "code",
   "execution_count": 97,
   "id": "c215fda8",
   "metadata": {},
   "outputs": [],
   "source": [
    "pattern = 'phone'"
   ]
  },
  {
   "cell_type": "code",
   "execution_count": 94,
   "id": "e220cdee",
   "metadata": {},
   "outputs": [
    {
     "data": {
      "text/plain": [
       "<re.Match object; span=(12, 17), match='phone'>"
      ]
     },
     "execution_count": 94,
     "metadata": {},
     "output_type": "execute_result"
    }
   ],
   "source": [
    "re.search(pattern,text)"
   ]
  },
  {
   "cell_type": "code",
   "execution_count": 95,
   "id": "a9dbcae6",
   "metadata": {},
   "outputs": [],
   "source": [
    "pattern = 'NOT IN TEXT'"
   ]
  },
  {
   "cell_type": "code",
   "execution_count": 96,
   "id": "8395db4e",
   "metadata": {},
   "outputs": [],
   "source": [
    "re.search(pattern,text)"
   ]
  },
  {
   "cell_type": "code",
   "execution_count": 98,
   "id": "c4190bb3",
   "metadata": {},
   "outputs": [],
   "source": [
    "match = re.search(pattern,text)"
   ]
  },
  {
   "cell_type": "code",
   "execution_count": 99,
   "id": "6de02d08",
   "metadata": {},
   "outputs": [
    {
     "data": {
      "text/plain": [
       "<re.Match object; span=(12, 17), match='phone'>"
      ]
     },
     "execution_count": 99,
     "metadata": {},
     "output_type": "execute_result"
    }
   ],
   "source": [
    "match"
   ]
  },
  {
   "cell_type": "code",
   "execution_count": 100,
   "id": "2955c65d",
   "metadata": {},
   "outputs": [
    {
     "data": {
      "text/plain": [
       "(12, 17)"
      ]
     },
     "execution_count": 100,
     "metadata": {},
     "output_type": "execute_result"
    }
   ],
   "source": [
    "match.span()"
   ]
  },
  {
   "cell_type": "code",
   "execution_count": 101,
   "id": "c9621a51",
   "metadata": {},
   "outputs": [
    {
     "data": {
      "text/plain": [
       "12"
      ]
     },
     "execution_count": 101,
     "metadata": {},
     "output_type": "execute_result"
    }
   ],
   "source": [
    "match.start()"
   ]
  },
  {
   "cell_type": "code",
   "execution_count": 102,
   "id": "0d852fec",
   "metadata": {},
   "outputs": [
    {
     "data": {
      "text/plain": [
       "17"
      ]
     },
     "execution_count": 102,
     "metadata": {},
     "output_type": "execute_result"
    }
   ],
   "source": [
    "match.end()"
   ]
  },
  {
   "cell_type": "code",
   "execution_count": 104,
   "id": "a56e8683",
   "metadata": {},
   "outputs": [],
   "source": [
    "text = 'my phone once, my phone twice'"
   ]
  },
  {
   "cell_type": "code",
   "execution_count": 105,
   "id": "89667620",
   "metadata": {},
   "outputs": [],
   "source": [
    "match = re.search('phone',text)"
   ]
  },
  {
   "cell_type": "code",
   "execution_count": 106,
   "id": "b2799a92",
   "metadata": {},
   "outputs": [
    {
     "data": {
      "text/plain": [
       "<re.Match object; span=(3, 8), match='phone'>"
      ]
     },
     "execution_count": 106,
     "metadata": {},
     "output_type": "execute_result"
    }
   ],
   "source": [
    "match"
   ]
  },
  {
   "cell_type": "code",
   "execution_count": 107,
   "id": "0c1abb15",
   "metadata": {},
   "outputs": [],
   "source": [
    "matches = re.findall('phone',text)"
   ]
  },
  {
   "cell_type": "code",
   "execution_count": 108,
   "id": "b5316d93",
   "metadata": {},
   "outputs": [
    {
     "data": {
      "text/plain": [
       "['phone', 'phone']"
      ]
     },
     "execution_count": 108,
     "metadata": {},
     "output_type": "execute_result"
    }
   ],
   "source": [
    "matches"
   ]
  },
  {
   "cell_type": "code",
   "execution_count": 109,
   "id": "163d96f9",
   "metadata": {},
   "outputs": [
    {
     "data": {
      "text/plain": [
       "2"
      ]
     },
     "execution_count": 109,
     "metadata": {},
     "output_type": "execute_result"
    }
   ],
   "source": [
    "len(matches)"
   ]
  },
  {
   "cell_type": "code",
   "execution_count": 112,
   "id": "b3a7268d",
   "metadata": {},
   "outputs": [
    {
     "name": "stdout",
     "output_type": "stream",
     "text": [
      "phone\n",
      "phone\n"
     ]
    }
   ],
   "source": [
    "for match in re.finditer('phone',text):\n",
    "    print(match.group())"
   ]
  },
  {
   "cell_type": "code",
   "execution_count": 118,
   "id": "5a501a08",
   "metadata": {},
   "outputs": [],
   "source": [
    "text = 'My phone number is 408-555-7777'"
   ]
  },
  {
   "cell_type": "code",
   "execution_count": 119,
   "id": "b2bda833",
   "metadata": {},
   "outputs": [],
   "source": [
    "phone = re.search(r'\\d\\d\\d-\\d\\d\\d-\\d\\d\\d\\d',text)"
   ]
  },
  {
   "cell_type": "code",
   "execution_count": 120,
   "id": "26e90499",
   "metadata": {},
   "outputs": [
    {
     "data": {
      "text/plain": [
       "<re.Match object; span=(19, 31), match='408-555-7777'>"
      ]
     },
     "execution_count": 120,
     "metadata": {},
     "output_type": "execute_result"
    }
   ],
   "source": [
    "phone"
   ]
  },
  {
   "cell_type": "code",
   "execution_count": 121,
   "id": "a8127956",
   "metadata": {},
   "outputs": [
    {
     "data": {
      "text/plain": [
       "'408-555-7777'"
      ]
     },
     "execution_count": 121,
     "metadata": {},
     "output_type": "execute_result"
    }
   ],
   "source": [
    "phone.group()"
   ]
  },
  {
   "cell_type": "code",
   "execution_count": 122,
   "id": "5c559812",
   "metadata": {},
   "outputs": [],
   "source": [
    "phone = re.search(r'\\d{3}-\\d{3}-\\d{4}',text)"
   ]
  },
  {
   "cell_type": "code",
   "execution_count": 123,
   "id": "1e25421f",
   "metadata": {},
   "outputs": [
    {
     "data": {
      "text/plain": [
       "<re.Match object; span=(19, 31), match='408-555-7777'>"
      ]
     },
     "execution_count": 123,
     "metadata": {},
     "output_type": "execute_result"
    }
   ],
   "source": [
    "phone"
   ]
  },
  {
   "cell_type": "code",
   "execution_count": 124,
   "id": "6540bb65",
   "metadata": {},
   "outputs": [],
   "source": [
    "phone_pattern = re.compile(r'(\\d{3})-(\\d{3})-(\\d{4})')"
   ]
  },
  {
   "cell_type": "code",
   "execution_count": 126,
   "id": "b0722667",
   "metadata": {},
   "outputs": [],
   "source": [
    "results = re.search(phone_pattern,text)"
   ]
  },
  {
   "cell_type": "code",
   "execution_count": 127,
   "id": "50d51763",
   "metadata": {},
   "outputs": [
    {
     "data": {
      "text/plain": [
       "'408-555-7777'"
      ]
     },
     "execution_count": 127,
     "metadata": {},
     "output_type": "execute_result"
    }
   ],
   "source": [
    "results.group()"
   ]
  },
  {
   "cell_type": "code",
   "execution_count": 129,
   "id": "493bd867",
   "metadata": {},
   "outputs": [
    {
     "data": {
      "text/plain": [
       "'555'"
      ]
     },
     "execution_count": 129,
     "metadata": {},
     "output_type": "execute_result"
    }
   ],
   "source": [
    "results.group(2)"
   ]
  },
  {
   "cell_type": "code",
   "execution_count": 133,
   "id": "4daa8f3e",
   "metadata": {},
   "outputs": [
    {
     "data": {
      "text/plain": [
       "<re.Match object; span=(4, 7), match='cat'>"
      ]
     },
     "execution_count": 133,
     "metadata": {},
     "output_type": "execute_result"
    }
   ],
   "source": [
    "re.search(r'cat|dog','The cat is here')"
   ]
  },
  {
   "cell_type": "code",
   "execution_count": 136,
   "id": "ef44c1ae",
   "metadata": {},
   "outputs": [
    {
     "data": {
      "text/plain": [
       "['e cat', 'e hat', 'splat']"
      ]
     },
     "execution_count": 136,
     "metadata": {},
     "output_type": "execute_result"
    }
   ],
   "source": [
    "re.findall(r'...at','The cat in the hat sat there and went splat.')"
   ]
  },
  {
   "cell_type": "code",
   "execution_count": 141,
   "id": "ead463a4",
   "metadata": {},
   "outputs": [
    {
     "data": {
      "text/plain": [
       "['2']"
      ]
     },
     "execution_count": 141,
     "metadata": {},
     "output_type": "execute_result"
    }
   ],
   "source": [
    "re.findall(r'\\d$','The number is 2') # ^ Starts with and $ Ends with"
   ]
  },
  {
   "cell_type": "code",
   "execution_count": 142,
   "id": "ee7a199e",
   "metadata": {},
   "outputs": [],
   "source": [
    "phrase = 'there are 3 numbers 34 inside 5 this sentence'"
   ]
  },
  {
   "cell_type": "code",
   "execution_count": 145,
   "id": "a8475dcd",
   "metadata": {},
   "outputs": [],
   "source": [
    "pattern = r'[^\\d]+'"
   ]
  },
  {
   "cell_type": "code",
   "execution_count": 146,
   "id": "a7fae44d",
   "metadata": {},
   "outputs": [
    {
     "data": {
      "text/plain": [
       "['there are ', ' numbers ', ' inside ', ' this sentence']"
      ]
     },
     "execution_count": 146,
     "metadata": {},
     "output_type": "execute_result"
    }
   ],
   "source": [
    "re.findall(pattern,phrase)"
   ]
  },
  {
   "cell_type": "code",
   "execution_count": 147,
   "id": "dc7a236e",
   "metadata": {},
   "outputs": [],
   "source": [
    "test_phrase = 'This is a string! But it has punctuation. How can we remove it?'"
   ]
  },
  {
   "cell_type": "code",
   "execution_count": 150,
   "id": "1bc5d85f",
   "metadata": {},
   "outputs": [],
   "source": [
    "clean = re.findall(r'[^!.? ]+',test_phrase)"
   ]
  },
  {
   "cell_type": "code",
   "execution_count": 153,
   "id": "9172c7e4",
   "metadata": {},
   "outputs": [
    {
     "data": {
      "text/plain": [
       "'This is a string But it has punctuation How can we remove it'"
      ]
     },
     "execution_count": 153,
     "metadata": {},
     "output_type": "execute_result"
    }
   ],
   "source": [
    "' '.join(clean)"
   ]
  },
  {
   "cell_type": "code",
   "execution_count": 155,
   "id": "db35bc98",
   "metadata": {},
   "outputs": [],
   "source": [
    "text = 'Only find the hyphen-words in this sentence. But you do not know how long-ish they are'"
   ]
  },
  {
   "cell_type": "code",
   "execution_count": 158,
   "id": "ba4f945f",
   "metadata": {},
   "outputs": [],
   "source": [
    "pattern = r'[\\w]+-[\\w]+'"
   ]
  },
  {
   "cell_type": "code",
   "execution_count": 159,
   "id": "705bad92",
   "metadata": {},
   "outputs": [
    {
     "data": {
      "text/plain": [
       "['hyphen-words', 'long-ish']"
      ]
     },
     "execution_count": 159,
     "metadata": {},
     "output_type": "execute_result"
    }
   ],
   "source": [
    "re.findall(pattern,text)"
   ]
  },
  {
   "cell_type": "code",
   "execution_count": 160,
   "id": "6eca5acf",
   "metadata": {},
   "outputs": [],
   "source": [
    "text = 'Hello, would you like some catfish?'\n",
    "text_two = 'Hello, would you like to take a catnap?'\n",
    "text_three = 'Hello, have you seen this caterpillar?'"
   ]
  },
  {
   "cell_type": "code",
   "execution_count": 165,
   "id": "5593f7a4",
   "metadata": {},
   "outputs": [
    {
     "data": {
      "text/plain": [
       "<re.Match object; span=(26, 37), match='caterpillar'>"
      ]
     },
     "execution_count": 165,
     "metadata": {},
     "output_type": "execute_result"
    }
   ],
   "source": [
    "re.search(r'cat(fish|nap|erpillar)',text_three)"
   ]
  },
  {
   "cell_type": "markdown",
   "id": "672b4cab",
   "metadata": {},
   "source": [
    "**Timing your code**"
   ]
  },
  {
   "cell_type": "code",
   "execution_count": 166,
   "id": "ba715177",
   "metadata": {},
   "outputs": [
    {
     "data": {
      "text/plain": [
       "10"
      ]
     },
     "execution_count": 166,
     "metadata": {},
     "output_type": "execute_result"
    }
   ],
   "source": [
    "10"
   ]
  },
  {
   "cell_type": "code",
   "execution_count": 167,
   "id": "0598264a",
   "metadata": {},
   "outputs": [
    {
     "data": {
      "text/plain": [
       "3"
      ]
     },
     "execution_count": 167,
     "metadata": {},
     "output_type": "execute_result"
    }
   ],
   "source": [
    "3"
   ]
  },
  {
   "cell_type": "code",
   "execution_count": 168,
   "id": "f79a3474",
   "metadata": {},
   "outputs": [
    {
     "data": {
      "text/plain": [
       "['1', '2', '3']"
      ]
     },
     "execution_count": 168,
     "metadata": {},
     "output_type": "execute_result"
    }
   ],
   "source": [
    "['1','2','3']"
   ]
  },
  {
   "cell_type": "code",
   "execution_count": 169,
   "id": "76378936",
   "metadata": {},
   "outputs": [],
   "source": [
    "def func_one(n):\n",
    "    return [str(num) for num in range(n)]"
   ]
  },
  {
   "cell_type": "code",
   "execution_count": 170,
   "id": "f235e94c",
   "metadata": {},
   "outputs": [
    {
     "data": {
      "text/plain": [
       "['0', '1', '2', '3', '4', '5', '6', '7', '8', '9']"
      ]
     },
     "execution_count": 170,
     "metadata": {},
     "output_type": "execute_result"
    }
   ],
   "source": [
    "func_one(10)"
   ]
  },
  {
   "cell_type": "code",
   "execution_count": 171,
   "id": "52faff2e",
   "metadata": {},
   "outputs": [],
   "source": [
    "def func_two(n):\n",
    "    return list(map(str,range(n)))"
   ]
  },
  {
   "cell_type": "code",
   "execution_count": 172,
   "id": "b21fb9c7",
   "metadata": {},
   "outputs": [
    {
     "data": {
      "text/plain": [
       "['0', '1', '2', '3', '4', '5', '6', '7', '8', '9']"
      ]
     },
     "execution_count": 172,
     "metadata": {},
     "output_type": "execute_result"
    }
   ],
   "source": [
    "func_two(10)"
   ]
  },
  {
   "cell_type": "code",
   "execution_count": 173,
   "id": "4089deda",
   "metadata": {},
   "outputs": [],
   "source": [
    "import time"
   ]
  },
  {
   "cell_type": "code",
   "execution_count": 174,
   "id": "9a7b8302",
   "metadata": {},
   "outputs": [
    {
     "name": "stdout",
     "output_type": "stream",
     "text": [
      "0.09443998336791992\n"
     ]
    }
   ],
   "source": [
    "# Current Time before \n",
    "start_time = time.time()\n",
    "\n",
    "# Run Code\n",
    "result = func_one(1000000)\n",
    "\n",
    "# Current Time after \n",
    "end_time = time.time()\n",
    "\n",
    "# Elapsed Time\n",
    "elapsed_time = end_time - start_time\n",
    "\n",
    "print(elapsed_time)"
   ]
  },
  {
   "cell_type": "code",
   "execution_count": 175,
   "id": "ca34521b",
   "metadata": {},
   "outputs": [
    {
     "name": "stdout",
     "output_type": "stream",
     "text": [
      "0.07886314392089844\n"
     ]
    }
   ],
   "source": [
    "# Current Time before \n",
    "start_time = time.time()\n",
    "\n",
    "# Run Code\n",
    "result = func_two(1000000)\n",
    "\n",
    "# Current Time after \n",
    "end_time = time.time()\n",
    "\n",
    "# Elapsed Time\n",
    "elapsed_time = end_time - start_time\n",
    "\n",
    "print(elapsed_time)"
   ]
  },
  {
   "cell_type": "code",
   "execution_count": 176,
   "id": "c41d6d18",
   "metadata": {},
   "outputs": [],
   "source": [
    "import timeit"
   ]
  },
  {
   "cell_type": "code",
   "execution_count": 178,
   "id": "3a8a8008",
   "metadata": {},
   "outputs": [],
   "source": [
    "stmt = '''\n",
    "func_one(100)\n",
    "'''"
   ]
  },
  {
   "cell_type": "code",
   "execution_count": 179,
   "id": "6a126fbc",
   "metadata": {},
   "outputs": [],
   "source": [
    "setup = ''' \n",
    "def func_one(n):\n",
    "    return [str(num) for num in range(n)]\n",
    "'''"
   ]
  },
  {
   "cell_type": "code",
   "execution_count": 180,
   "id": "17a9b130",
   "metadata": {},
   "outputs": [
    {
     "data": {
      "text/plain": [
       "0.5034763747826219"
      ]
     },
     "execution_count": 180,
     "metadata": {},
     "output_type": "execute_result"
    }
   ],
   "source": [
    "timeit.timeit(stmt,setup,number=100000)"
   ]
  },
  {
   "cell_type": "code",
   "execution_count": 182,
   "id": "545add4b",
   "metadata": {},
   "outputs": [],
   "source": [
    "stmt2 = '''\n",
    "func_two(100)\n",
    "'''"
   ]
  },
  {
   "cell_type": "code",
   "execution_count": 183,
   "id": "952b3fd7",
   "metadata": {},
   "outputs": [],
   "source": [
    "setup2 = '''\n",
    "def func_two(n):\n",
    "    return list(map(str,range(n)))\n",
    "'''"
   ]
  },
  {
   "cell_type": "code",
   "execution_count": 184,
   "id": "687f14f4",
   "metadata": {},
   "outputs": [
    {
     "data": {
      "text/plain": [
       "0.4762274578679353"
      ]
     },
     "execution_count": 184,
     "metadata": {},
     "output_type": "execute_result"
    }
   ],
   "source": [
    "timeit.timeit(stmt2,setup2,number=100000)"
   ]
  },
  {
   "cell_type": "code",
   "execution_count": 185,
   "id": "fb92677d",
   "metadata": {},
   "outputs": [
    {
     "name": "stdout",
     "output_type": "stream",
     "text": [
      "4.94 µs ± 25.1 ns per loop (mean ± std. dev. of 7 runs, 100,000 loops each)\n"
     ]
    }
   ],
   "source": [
    "%%timeit\n",
    "func_one(100)"
   ]
  },
  {
   "cell_type": "code",
   "execution_count": 186,
   "id": "a9b4cce5",
   "metadata": {},
   "outputs": [
    {
     "name": "stdout",
     "output_type": "stream",
     "text": [
      "4.68 µs ± 206 ns per loop (mean ± std. dev. of 7 runs, 100,000 loops each)\n"
     ]
    }
   ],
   "source": [
    "%%timeit\n",
    "func_two(100)"
   ]
  },
  {
   "cell_type": "markdown",
   "id": "a8d8d12e",
   "metadata": {},
   "source": [
    "**Zipping and Unzipping files**"
   ]
  },
  {
   "cell_type": "code",
   "execution_count": 187,
   "id": "e30057a4",
   "metadata": {},
   "outputs": [],
   "source": [
    "f = open('fileone.txt','w+')\n",
    "f.write('One File')\n",
    "f.close()"
   ]
  },
  {
   "cell_type": "code",
   "execution_count": 188,
   "id": "0a7f73b1",
   "metadata": {},
   "outputs": [],
   "source": [
    "f = open('filetwo.txt','w+')\n",
    "f.write('Second File')\n",
    "f.close()"
   ]
  },
  {
   "cell_type": "code",
   "execution_count": 189,
   "id": "cd94554f",
   "metadata": {},
   "outputs": [],
   "source": [
    "import zipfile"
   ]
  },
  {
   "cell_type": "code",
   "execution_count": 190,
   "id": "135bfd6f",
   "metadata": {},
   "outputs": [],
   "source": [
    "comp_file = zipfile.ZipFile('comp_file.zip','w')"
   ]
  },
  {
   "cell_type": "code",
   "execution_count": 191,
   "id": "e76c097c",
   "metadata": {},
   "outputs": [],
   "source": [
    "comp_file.write('fileone.txt',compress_type=zipfile.ZIP_DEFLATED)"
   ]
  },
  {
   "cell_type": "code",
   "execution_count": 192,
   "id": "7a0c3a53",
   "metadata": {},
   "outputs": [],
   "source": [
    "comp_file.write('filetwo.txt',compress_type=zipfile.ZIP_DEFLATED)"
   ]
  },
  {
   "cell_type": "code",
   "execution_count": 193,
   "id": "82af623d",
   "metadata": {},
   "outputs": [],
   "source": [
    "comp_file.close()"
   ]
  },
  {
   "cell_type": "code",
   "execution_count": 194,
   "id": "73e529e4",
   "metadata": {},
   "outputs": [],
   "source": [
    "zip_obj = zipfile.ZipFile('comp_file.zip','r')"
   ]
  },
  {
   "cell_type": "code",
   "execution_count": 195,
   "id": "62649f84",
   "metadata": {},
   "outputs": [],
   "source": [
    "zip_obj.extractall('extracted_content')"
   ]
  },
  {
   "cell_type": "code",
   "execution_count": 196,
   "id": "e47800bc",
   "metadata": {},
   "outputs": [
    {
     "data": {
      "text/plain": [
       "'/Users/priyathamkrishnakodeboyina/Python Exercises'"
      ]
     },
     "execution_count": 196,
     "metadata": {},
     "output_type": "execute_result"
    }
   ],
   "source": [
    "pwd"
   ]
  },
  {
   "cell_type": "code",
   "execution_count": 197,
   "id": "fac47e6c",
   "metadata": {},
   "outputs": [],
   "source": [
    "import shutil"
   ]
  },
  {
   "cell_type": "code",
   "execution_count": 198,
   "id": "785a4133",
   "metadata": {},
   "outputs": [],
   "source": [
    "dir_to_zip = '/Users/priyathamkrishnakodeboyina/Python Exercises/extracted_content'"
   ]
  },
  {
   "cell_type": "code",
   "execution_count": 199,
   "id": "305b6b86",
   "metadata": {},
   "outputs": [],
   "source": [
    "output_filename = 'example'"
   ]
  },
  {
   "cell_type": "code",
   "execution_count": 200,
   "id": "5a2c09bf",
   "metadata": {},
   "outputs": [
    {
     "data": {
      "text/plain": [
       "'/Users/priyathamkrishnakodeboyina/Python Exercises/example.zip'"
      ]
     },
     "execution_count": 200,
     "metadata": {},
     "output_type": "execute_result"
    }
   ],
   "source": [
    "shutil.make_archive(output_filename,'zip',dir_to_zip)"
   ]
  },
  {
   "cell_type": "code",
   "execution_count": 201,
   "id": "485ee411",
   "metadata": {},
   "outputs": [],
   "source": [
    "shutil.unpack_archive('example.zip','final_unzip','zip')"
   ]
  },
  {
   "cell_type": "code",
   "execution_count": null,
   "id": "3226c681",
   "metadata": {},
   "outputs": [],
   "source": []
  },
  {
   "cell_type": "code",
   "execution_count": null,
   "id": "133b173f",
   "metadata": {},
   "outputs": [],
   "source": []
  }
 ],
 "metadata": {
  "kernelspec": {
   "display_name": "Python 3 (ipykernel)",
   "language": "python",
   "name": "python3"
  },
  "language_info": {
   "codemirror_mode": {
    "name": "ipython",
    "version": 3
   },
   "file_extension": ".py",
   "mimetype": "text/x-python",
   "name": "python",
   "nbconvert_exporter": "python",
   "pygments_lexer": "ipython3",
   "version": "3.11.5"
  }
 },
 "nbformat": 4,
 "nbformat_minor": 5
}
