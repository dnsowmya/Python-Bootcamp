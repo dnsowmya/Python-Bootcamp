{
 "cells": [
  {
   "cell_type": "markdown",
   "id": "ab110df8",
   "metadata": {},
   "source": [
    "**Write a function that computes the volume of a sphere given its radius.**\n",
    "\n",
    "**The volume of a sphere is given as 4/3 * Pi * r(cube)**\n",
    " \n"
   ]
  },
  {
   "cell_type": "code",
   "execution_count": 3,
   "id": "1b1e4a5f",
   "metadata": {},
   "outputs": [],
   "source": [
    "import math\n",
    "def vol(rad):\n",
    "    return (4 / 3) * math.pi * (rad**3)"
   ]
  },
  {
   "cell_type": "code",
   "execution_count": 4,
   "id": "2bfac2f9",
   "metadata": {},
   "outputs": [
    {
     "data": {
      "text/plain": [
       "113.09733552923254"
      ]
     },
     "execution_count": 4,
     "metadata": {},
     "output_type": "execute_result"
    }
   ],
   "source": [
    "vol(3)"
   ]
  },
  {
   "cell_type": "code",
   "execution_count": 5,
   "id": "8bdf2f76",
   "metadata": {},
   "outputs": [
    {
     "data": {
      "text/plain": [
       "33.510321638291124"
      ]
     },
     "execution_count": 5,
     "metadata": {},
     "output_type": "execute_result"
    }
   ],
   "source": [
    "# Check\n",
    "vol(2)"
   ]
  },
  {
   "cell_type": "markdown",
   "id": "d9feae5b",
   "metadata": {},
   "source": [
    "**Write a function that checks whether a number is in a given range (inclusive of high and low)**"
   ]
  },
  {
   "cell_type": "code",
   "execution_count": 113,
   "id": "f2d30a72",
   "metadata": {},
   "outputs": [
    {
     "name": "stdout",
     "output_type": "stream",
     "text": [
      "0\n",
      "1\n",
      "2\n",
      "3\n",
      "4\n"
     ]
    }
   ],
   "source": [
    "for item in range(0,5):\n",
    "    print(item)"
   ]
  },
  {
   "cell_type": "code",
   "execution_count": 114,
   "id": "16829ae4",
   "metadata": {},
   "outputs": [
    {
     "data": {
      "text/plain": [
       "True"
      ]
     },
     "execution_count": 114,
     "metadata": {},
     "output_type": "execute_result"
    }
   ],
   "source": [
    "5 in range(0,10)"
   ]
  },
  {
   "cell_type": "code",
   "execution_count": 6,
   "id": "88aa2127",
   "metadata": {},
   "outputs": [],
   "source": [
    "def ran_check(num,low,high):\n",
    "    if low <= num <= high: # num in range(low,high+1)\n",
    "        print(f'{num} is in the range between {low} and {high}')"
   ]
  },
  {
   "cell_type": "code",
   "execution_count": 7,
   "id": "2c6958b7",
   "metadata": {},
   "outputs": [
    {
     "name": "stdout",
     "output_type": "stream",
     "text": [
      "5 is in the range between 2 and 7\n"
     ]
    }
   ],
   "source": [
    "# Check\n",
    "ran_check(5,2,7)"
   ]
  },
  {
   "cell_type": "code",
   "execution_count": 8,
   "id": "35006e40",
   "metadata": {},
   "outputs": [],
   "source": [
    "def ran_bool(num,low,high):\n",
    "    return low <= num <= high"
   ]
  },
  {
   "cell_type": "code",
   "execution_count": 9,
   "id": "7507da77",
   "metadata": {},
   "outputs": [
    {
     "data": {
      "text/plain": [
       "True"
      ]
     },
     "execution_count": 9,
     "metadata": {},
     "output_type": "execute_result"
    }
   ],
   "source": [
    "ran_bool(3,1,10)"
   ]
  },
  {
   "cell_type": "markdown",
   "id": "47ff0803",
   "metadata": {},
   "source": [
    "**Write a Python function that accepts a string and calculates the number of upper case letters and lower case letters.**\n",
    "\n",
    "**Sample String : 'Hello Mr. Rogers, how are you this fine Tuesday?'</br>\n",
    "Expected Output : </br>\n",
    "No. of Upper case characters : 4</br>\n",
    "No. of Lower case Characters : 33**\n",
    "\n",
    "**HINT: Two string methods that might prove useful: .isupper() and .islower()**\n",
    "\n",
    "**If you feel ambitious, explore the Collections module to solve this problem!**"
   ]
  },
  {
   "cell_type": "code",
   "execution_count": 120,
   "id": "b18cfa7a",
   "metadata": {},
   "outputs": [],
   "source": [
    "def up_low(s):\n",
    "    d = {'upper':0,'lower':0}\n",
    "    count_upper = 0\n",
    "    count_lower = 0\n",
    "    for i in s:\n",
    "        if i.isupper():\n",
    "            d['upper'] += 1 \n",
    "        elif i.islower():\n",
    "            d['lower'] += 1\n",
    "        \n",
    "    print(f'Original String:{s}')\n",
    "    print(f'No. of Upper case Characters: {d[\"upper\"]}')\n",
    "    print(f'No. of Lower case Characters: {d[\"lower\"]}')"
   ]
  },
  {
   "cell_type": "code",
   "execution_count": 121,
   "id": "004f9a01",
   "metadata": {},
   "outputs": [
    {
     "name": "stdout",
     "output_type": "stream",
     "text": [
      "Original String:I am happy\n",
      "No. of Upper case Characters: 1\n",
      "No. of Lower case Characters: 7\n"
     ]
    }
   ],
   "source": [
    "up_low('I am happy')"
   ]
  },
  {
   "cell_type": "code",
   "execution_count": 122,
   "id": "55df1bc0",
   "metadata": {},
   "outputs": [
    {
     "name": "stdout",
     "output_type": "stream",
     "text": [
      "Original String:Hello Mr. Rogers, how are you this fine Tuesday?\n",
      "No. of Upper case Characters: 4\n",
      "No. of Lower case Characters: 33\n"
     ]
    }
   ],
   "source": [
    "s = 'Hello Mr. Rogers, how are you this fine Tuesday?'\n",
    "up_low(s)"
   ]
  },
  {
   "cell_type": "markdown",
   "id": "696457f4",
   "metadata": {},
   "source": [
    "**Write a Python function that takes a list and returns a new list with unique elements of the first list.**\n",
    "\n",
    "**Sample List : [1,1,1,1,2,2,3,3,3,3,4,5]**</br>\n",
    "**Unique List : [1, 2, 3, 4, 5]**"
   ]
  },
  {
   "cell_type": "code",
   "execution_count": 123,
   "id": "d52c14f6",
   "metadata": {},
   "outputs": [],
   "source": [
    "def unique_list(lst):\n",
    "    # Approach 1:\n",
    "    #return list(set(lst))\n",
    "    \n",
    "    # Approach 2:\n",
    "    number_exists =[]\n",
    "    for number in lst:\n",
    "        if number not in number_exists:\n",
    "            number_exists.append(number)\n",
    "    return number_exists"
   ]
  },
  {
   "cell_type": "code",
   "execution_count": 124,
   "id": "9cfa52c1",
   "metadata": {},
   "outputs": [
    {
     "data": {
      "text/plain": [
       "[1, 2, 3, 4, 5]"
      ]
     },
     "execution_count": 124,
     "metadata": {},
     "output_type": "execute_result"
    }
   ],
   "source": [
    "unique_list([1,1,1,1,2,2,3,3,3,3,4,5])"
   ]
  },
  {
   "cell_type": "markdown",
   "id": "1b07ab32",
   "metadata": {},
   "source": [
    "**Write a Python function to multiply all the numbers in a list.**\n",
    "\n",
    "**Sample List : [1, 2, 3, -4]</br>\n",
    "Expected Output : -24**"
   ]
  },
  {
   "cell_type": "code",
   "execution_count": 127,
   "id": "75eda804",
   "metadata": {},
   "outputs": [],
   "source": [
    "import numpy\n",
    "\n",
    "def multiply(numbers):  \n",
    "    # Approach 1:\n",
    "    #return numpy.prod(numbers)\n",
    "    \n",
    "    # Approach 2:\n",
    "    total = 1\n",
    "    for num in numbers:\n",
    "        total = total * num\n",
    "    return total"
   ]
  },
  {
   "cell_type": "code",
   "execution_count": 128,
   "id": "da5f47b0",
   "metadata": {},
   "outputs": [
    {
     "data": {
      "text/plain": [
       "6"
      ]
     },
     "execution_count": 128,
     "metadata": {},
     "output_type": "execute_result"
    }
   ],
   "source": [
    "multiply([1,2,3])"
   ]
  },
  {
   "cell_type": "code",
   "execution_count": 129,
   "id": "8358c9bc",
   "metadata": {},
   "outputs": [
    {
     "data": {
      "text/plain": [
       "-24"
      ]
     },
     "execution_count": 129,
     "metadata": {},
     "output_type": "execute_result"
    }
   ],
   "source": [
    "multiply([1,2,3,-4])"
   ]
  },
  {
   "cell_type": "markdown",
   "id": "17b7e70d",
   "metadata": {},
   "source": [
    "**Write a Python function that checks whether a passed in string is palindrome or not.**\n",
    "\n",
    "**Note: A palindrome is word, phrase, or sequence that reads the same backward as forward, e.g., madam or nurses run.**"
   ]
  },
  {
   "cell_type": "code",
   "execution_count": 153,
   "id": "7d039e88",
   "metadata": {},
   "outputs": [],
   "source": [
    "def palindrome(s):\n",
    "    # Remove Spaces\n",
    "    s1=s.replace(\" \",\"\")\n",
    "    len_s=len(s1)\n",
    "    # Check if string == reversed string\n",
    "    return s1 == s1[::-1]\n",
    "    # Approach 2\n",
    "    #for i in range(len_s):\n",
    "     #   if s1[i] == s1[len_s-1-i]:\n",
    "      #      continue\n",
    "       # else:\n",
    "        #    return False\n",
    "    #return True"
   ]
  },
  {
   "cell_type": "code",
   "execution_count": 154,
   "id": "3cf9e0e5",
   "metadata": {},
   "outputs": [
    {
     "data": {
      "text/plain": [
       "False"
      ]
     },
     "execution_count": 154,
     "metadata": {},
     "output_type": "execute_result"
    }
   ],
   "source": [
    "palindrome('saos')"
   ]
  },
  {
   "cell_type": "code",
   "execution_count": 155,
   "id": "dbec0bae",
   "metadata": {},
   "outputs": [
    {
     "data": {
      "text/plain": [
       "True"
      ]
     },
     "execution_count": 155,
     "metadata": {},
     "output_type": "execute_result"
    }
   ],
   "source": [
    "palindrome('helleh')"
   ]
  },
  {
   "cell_type": "code",
   "execution_count": 156,
   "id": "a92d5fdc",
   "metadata": {},
   "outputs": [
    {
     "data": {
      "text/plain": [
       "True"
      ]
     },
     "execution_count": 156,
     "metadata": {},
     "output_type": "execute_result"
    }
   ],
   "source": [
    "palindrome('nurses run')"
   ]
  },
  {
   "cell_type": "markdown",
   "id": "948cfe5c",
   "metadata": {},
   "source": [
    "**Write a Python function to check whether a string is pangram or not.**\n",
    "\n",
    "**Note : Pangrams are words or sentences containing every letter of the alphabet at least once.\n",
    "For example : \"The quick brown fox jumps over the lazy dog\"**\n",
    "\n",
    "**Hint: Look at the string module**"
   ]
  },
  {
   "cell_type": "code",
   "execution_count": 109,
   "id": "1c44fa10",
   "metadata": {},
   "outputs": [],
   "source": [
    "import string\n",
    "\n",
    "def ispangram(str1, alphabet=string.ascii_lowercase):\n",
    "    alphalist = list(string.ascii_lowercase)\n",
    "    len_alphalist = 26\n",
    "    str2 = str1.replace(\" \",\"\")\n",
    "    len_str2 = len(str2)\n",
    "    for i in range(len_str2):\n",
    "        for j in range(len_alphalist):\n",
    "            if str2[i] == alphalist[j]:\n",
    "                alphalist.pop(j)\n",
    "                len_alphalist -= 1\n",
    "                break\n",
    "            else:\n",
    "                j += 1\n",
    "        i += 1\n",
    "                \n",
    "    if len(alphalist) == 0:\n",
    "        return True\n",
    "    else:\n",
    "        return False\n",
    "        "
   ]
  },
  {
   "cell_type": "code",
   "execution_count": 159,
   "id": "5c3540a8",
   "metadata": {},
   "outputs": [],
   "source": [
    "# Approach 2\n",
    "import string\n",
    "\n",
    "def ispangram1(str1, alphabet=string.ascii_lowercase):\n",
    "    # Create a set of the alphabet\n",
    "    alphaset = set(alphabet)\n",
    "    print(alphaset)\n",
    "    # Remove any spaces from the input string\n",
    "    str1 = str1.replace(\" \",\"\")\n",
    "    \n",
    "    # Convert the input string to all lowercase\n",
    "    str1 = str1.lower()\n",
    "    \n",
    "    # Grab all unique letters from the string set()\n",
    "    str1 = set(str1)\n",
    "    print(str1)\n",
    "    # alphabet set == string set input\n",
    "    return str1 == alphaset"
   ]
  },
  {
   "cell_type": "code",
   "execution_count": 160,
   "id": "c04c5c7d",
   "metadata": {},
   "outputs": [
    {
     "name": "stdout",
     "output_type": "stream",
     "text": [
      "{'w', 'l', 'i', 'n', 'u', 'c', 'k', 'p', 's', 'q', 'v', 'e', 'o', 'f', 'd', 't', 'h', 'y', 'x', 'm', 'g', 'b', 'a', 'j', 'r', 'z'}\n",
      "{'w', 'l', 'i', 'n', 'u', 'c', 'k', 'p', 's', 'q', 'v', 'e', 'o', 'f', 'd', 't', 'h', 'y', 'x', 'm', 'g', 'b', 'a', 'j', 'r', 'z'}\n"
     ]
    },
    {
     "data": {
      "text/plain": [
       "True"
      ]
     },
     "execution_count": 160,
     "metadata": {},
     "output_type": "execute_result"
    }
   ],
   "source": [
    "ispangram1('sam is great and abcdefghijklmnopqrstuvwxyz')"
   ]
  },
  {
   "cell_type": "code",
   "execution_count": 162,
   "id": "6c63fa3d",
   "metadata": {},
   "outputs": [
    {
     "name": "stdout",
     "output_type": "stream",
     "text": [
      "{'w', 'l', 'i', 'n', 'u', 'c', 'k', 'p', 's', 'q', 'v', 'e', 'o', 'f', 'd', 't', 'h', 'y', 'x', 'm', 'g', 'b', 'a', 'j', 'r', 'z'}\n",
      "{'w', 'l', 'i', 'n', 'u', 'c', 'k', 'p', 's', 'q', 'v', 'e', 'o', 'f', 'd', 't', 'h', 'y', 'x', 'm', 'g', 'b', 'a', 'j', 'r', 'z'}\n"
     ]
    },
    {
     "data": {
      "text/plain": [
       "True"
      ]
     },
     "execution_count": 162,
     "metadata": {},
     "output_type": "execute_result"
    }
   ],
   "source": [
    "ispangram1(\"The quick brown fox jumps over the lazy dog\")"
   ]
  },
  {
   "cell_type": "code",
   "execution_count": 165,
   "id": "ba3ddc44",
   "metadata": {},
   "outputs": [
    {
     "name": "stdout",
     "output_type": "stream",
     "text": [
      "{'w', 'l', 'i', 'n', 'u', 'c', 'k', 'p', 's', 'q', 'v', 'e', 'o', 'f', 'd', 't', 'h', 'y', 'x', 'm', 'g', 'b', 'a', 'j', 'r', 'z'}\n",
      "{'s', 'm', 'a'}\n"
     ]
    },
    {
     "data": {
      "text/plain": [
       "False"
      ]
     },
     "execution_count": 165,
     "metadata": {},
     "output_type": "execute_result"
    }
   ],
   "source": [
    "ispangram1('sam')"
   ]
  },
  {
   "cell_type": "code",
   "execution_count": null,
   "id": "f8ad1adf",
   "metadata": {},
   "outputs": [],
   "source": []
  }
 ],
 "metadata": {
  "kernelspec": {
   "display_name": "Python 3 (ipykernel)",
   "language": "python",
   "name": "python3"
  },
  "language_info": {
   "codemirror_mode": {
    "name": "ipython",
    "version": 3
   },
   "file_extension": ".py",
   "mimetype": "text/x-python",
   "name": "python",
   "nbconvert_exporter": "python",
   "pygments_lexer": "ipython3",
   "version": "3.11.5"
  }
 },
 "nbformat": 4,
 "nbformat_minor": 5
}
