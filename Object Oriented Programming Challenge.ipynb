{
 "cells": [
  {
   "cell_type": "markdown",
   "id": "45136391",
   "metadata": {},
   "source": [
    "**For this challenge, create a bank account class that has two attributes:**\n",
    "- **owner**\n",
    "- **balance** </br>\n",
    "\n",
    "**and two methods:**\n",
    "\n",
    "- **deposit**\n",
    "- **withdraw** </br>\n",
    "\n",
    "**As an added requirement, withdrawals may not exceed the available balance.**\n",
    "\n",
    "**Instantiate your class, make several deposits and withdrawals, and test to make sure the account can't be overdrawn.**"
   ]
  },
  {
   "cell_type": "code",
   "execution_count": 30,
   "id": "0fcb3802",
   "metadata": {},
   "outputs": [],
   "source": [
    "class Account():\n",
    "    \n",
    "    def __init__(self,owner,balance):\n",
    "        self.owner = owner\n",
    "        self.balance = balance\n",
    "    \n",
    "    def __str__(self):\n",
    "        return f\"Account Owner: {self.owner} \\nAccount balance: {self.balance}\" \n",
    "    \n",
    "    def deposit(self,dep_amount):\n",
    "        \n",
    "        self.balance += dep_amount\n",
    "        print(f\"Successfully deposited {dep_amount} to your account {self.owner}\")\n",
    "        print(f\"Your new balance: {self.balance}\")\n",
    "    \n",
    "    def withdraw(self,withd_amount):\n",
    "              \n",
    "        if withd_amount <= self.balance:\n",
    "            self.balance -= withd_amount\n",
    "            print(f\"Successfully withdrew {withd_amount} from your account {self.owner}\")\n",
    "            print(f\"Your new balance: {self.balance}\")\n",
    "        else:\n",
    "            print(\"Overdraft protection is unavailable! Withdrawal amount cannot be more than available balance!\")\n",
    "        "
   ]
  },
  {
   "cell_type": "code",
   "execution_count": 31,
   "id": "9ad8d2ad",
   "metadata": {},
   "outputs": [],
   "source": [
    "# 1. Instantiate the class\n",
    "acct1 = Account('Jose',100)"
   ]
  },
  {
   "cell_type": "code",
   "execution_count": 32,
   "id": "6dfd5f62",
   "metadata": {},
   "outputs": [
    {
     "name": "stdout",
     "output_type": "stream",
     "text": [
      "Account Owner: Jose \n",
      "Account balance: 100\n"
     ]
    }
   ],
   "source": [
    "# 2. Print the object\n",
    "print(acct1)"
   ]
  },
  {
   "cell_type": "code",
   "execution_count": 33,
   "id": "daab686c",
   "metadata": {},
   "outputs": [
    {
     "data": {
      "text/plain": [
       "'Jose'"
      ]
     },
     "execution_count": 33,
     "metadata": {},
     "output_type": "execute_result"
    }
   ],
   "source": [
    "# 3. Show the account owner attribute\n",
    "acct1.owner"
   ]
  },
  {
   "cell_type": "code",
   "execution_count": 34,
   "id": "3f115515",
   "metadata": {},
   "outputs": [
    {
     "data": {
      "text/plain": [
       "100"
      ]
     },
     "execution_count": 34,
     "metadata": {},
     "output_type": "execute_result"
    }
   ],
   "source": [
    "# 4. Show the account balance attribute\n",
    "acct1.balance"
   ]
  },
  {
   "cell_type": "code",
   "execution_count": 35,
   "id": "6989f8d1",
   "metadata": {},
   "outputs": [
    {
     "name": "stdout",
     "output_type": "stream",
     "text": [
      "Successfully deposited 50 to your account Jose\n",
      "Your new balance: 150\n"
     ]
    }
   ],
   "source": [
    "# 5. Make a series of deposits and withdrawals\n",
    "acct1.deposit(50)"
   ]
  },
  {
   "cell_type": "code",
   "execution_count": 36,
   "id": "d57dffd4",
   "metadata": {},
   "outputs": [
    {
     "name": "stdout",
     "output_type": "stream",
     "text": [
      "Successfully withdrew 75 from your account Jose\n",
      "Your new balance: 75\n"
     ]
    }
   ],
   "source": [
    "acct1.withdraw(75)"
   ]
  },
  {
   "cell_type": "code",
   "execution_count": 37,
   "id": "340eaa02",
   "metadata": {},
   "outputs": [
    {
     "name": "stdout",
     "output_type": "stream",
     "text": [
      "Overdraft protection is unavailable! Withdrawal amount cannot be more than available balance!\n"
     ]
    }
   ],
   "source": [
    "# 6. Make a withdrawal that exceeds the available balance\n",
    "acct1.withdraw(500)"
   ]
  },
  {
   "cell_type": "code",
   "execution_count": null,
   "id": "af216be3",
   "metadata": {},
   "outputs": [],
   "source": []
  }
 ],
 "metadata": {
  "kernelspec": {
   "display_name": "Python 3 (ipykernel)",
   "language": "python",
   "name": "python3"
  },
  "language_info": {
   "codemirror_mode": {
    "name": "ipython",
    "version": 3
   },
   "file_extension": ".py",
   "mimetype": "text/x-python",
   "name": "python",
   "nbconvert_exporter": "python",
   "pygments_lexer": "ipython3",
   "version": "3.11.5"
  }
 },
 "nbformat": 4,
 "nbformat_minor": 5
}
