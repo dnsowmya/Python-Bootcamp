{
 "cells": [
  {
   "cell_type": "markdown",
   "id": "36d66659",
   "metadata": {},
   "source": [
    "**Problem 1**\n",
    "\n",
    "**Handle the exception thrown by the code below by using try and except blocks.**"
   ]
  },
  {
   "cell_type": "code",
   "execution_count": 3,
   "id": "add4d20e",
   "metadata": {},
   "outputs": [
    {
     "name": "stdout",
     "output_type": "stream",
     "text": [
      "Error has occured!\n"
     ]
    }
   ],
   "source": [
    "try:\n",
    "    for i in ['a','b','c']:\n",
    "        print(i**2)\n",
    "except:\n",
    "    print(\"Error has occured!\")"
   ]
  },
  {
   "cell_type": "markdown",
   "id": "dc87b46e",
   "metadata": {},
   "source": [
    "**Problem 2**\n",
    "\n",
    "**Handle the exception thrown by the code below by using try and except blocks. Then use a finally block to print 'All Done.'**"
   ]
  },
  {
   "cell_type": "code",
   "execution_count": 5,
   "id": "fa9f2e3f",
   "metadata": {},
   "outputs": [
    {
     "name": "stdout",
     "output_type": "stream",
     "text": [
      "Error has occured!\n",
      "All Done.\n"
     ]
    }
   ],
   "source": [
    "try:\n",
    "    x = 5\n",
    "    y = 0\n",
    "\n",
    "    z = x/y\n",
    "except:\n",
    "    print(\"Error has occured!\")\n",
    "finally:\n",
    "    print(\"All Done.\")"
   ]
  },
  {
   "cell_type": "markdown",
   "id": "de043773",
   "metadata": {},
   "source": [
    "**Problem 3**\n",
    "\n",
    "**Write a function that asks for an integer and prints the square of it. Use a while loop with a try, except, else block to account for incorrect inputs.**"
   ]
  },
  {
   "cell_type": "code",
   "execution_count": 9,
   "id": "e28c13df",
   "metadata": {},
   "outputs": [],
   "source": [
    "def ask():\n",
    "    while True:\n",
    "        try:\n",
    "            result = int(input(\"Please provide the number: \"))\n",
    "            print(f\"Square of {result} is {result**2}\")\n",
    "        except:\n",
    "            print(\"Incorrect value! Please check and retry!\")\n",
    "            continue\n",
    "        else:\n",
    "            print(\"Successful compilation!\")\n",
    "            break"
   ]
  },
  {
   "cell_type": "code",
   "execution_count": 10,
   "id": "69cf7deb",
   "metadata": {},
   "outputs": [
    {
     "name": "stdout",
     "output_type": "stream",
     "text": [
      "Please provide the number: null\n",
      "Incorrect value! Please check and retry!\n",
      "Please provide the number: 2\n",
      "Square of 2 is 4\n",
      "Successful compilation!\n"
     ]
    }
   ],
   "source": [
    "ask()"
   ]
  },
  {
   "cell_type": "code",
   "execution_count": null,
   "id": "89dd5abe",
   "metadata": {},
   "outputs": [],
   "source": []
  }
 ],
 "metadata": {
  "kernelspec": {
   "display_name": "Python 3 (ipykernel)",
   "language": "python",
   "name": "python3"
  },
  "language_info": {
   "codemirror_mode": {
    "name": "ipython",
    "version": 3
   },
   "file_extension": ".py",
   "mimetype": "text/x-python",
   "name": "python",
   "nbconvert_exporter": "python",
   "pygments_lexer": "ipython3",
   "version": "3.11.5"
  }
 },
 "nbformat": 4,
 "nbformat_minor": 5
}
