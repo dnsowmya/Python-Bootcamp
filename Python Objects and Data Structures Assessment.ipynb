{
 "cells": [
  {
   "cell_type": "markdown",
   "id": "3c481518",
   "metadata": {},
   "source": [
    "**Write a brief description of all the following Object Types and Data Structures we've learned about:**\n",
    "\n",
    "Numbers: Integers and floating points\n",
    "\n",
    "Strings: Ordered sequence of Characters\n",
    "\n",
    "Lists: Ordered sequence of objects and can be of different datatypes.They can be indexed,sliced.Ex: [\"hello\",1,200.3]\n",
    "\n",
    "Tuples: Ordered immutable sequence of objects and can be of different datatypes. Ex: ('hello',1,200.3)\n",
    "\n",
    "Dictionaries: Unordered objects in key value pairs. Ex: {\"Key1\":\"Value1,\"Key2\":\"Value2\"}"
   ]
  },
  {
   "cell_type": "markdown",
   "id": "8650a2fb",
   "metadata": {},
   "source": [
    "**Numbers\n",
    "\n",
    "**Write an equation that uses multiplication, division, an exponent, addition, and subtraction that is equal to 100.25.\n",
    "\n",
    "**Hint: This is just to test your memory of the basic arithmetic commands, work backwards from 100.25**"
   ]
  },
  {
   "cell_type": "code",
   "execution_count": 1,
   "id": "9b6c9e53",
   "metadata": {},
   "outputs": [
    {
     "data": {
      "text/plain": [
       "100.25"
      ]
     },
     "execution_count": 1,
     "metadata": {},
     "output_type": "execute_result"
    }
   ],
   "source": [
    "((100*20)/200)**2+(0.50-0.25)"
   ]
  },
  {
   "cell_type": "markdown",
   "id": "3291038f",
   "metadata": {},
   "source": [
    "**Answer these 3 questions without typing code. Then type code to check your answer.**\n",
    "\n",
    "**What is the value of the expression 4 * (6 + 5)** </br>\n",
    "44\n",
    "\n",
    "**What is the value of the expression 4 * 6 + 5**</br>\n",
    "29\n",
    "\n",
    "**What is the value of the expression 4 + 6 * 5**</br>\n",
    "34"
   ]
  },
  {
   "cell_type": "code",
   "execution_count": 2,
   "id": "bc7a5c9e",
   "metadata": {},
   "outputs": [
    {
     "data": {
      "text/plain": [
       "44"
      ]
     },
     "execution_count": 2,
     "metadata": {},
     "output_type": "execute_result"
    }
   ],
   "source": [
    "4 * (6 + 5)"
   ]
  },
  {
   "cell_type": "code",
   "execution_count": 3,
   "id": "6149b2a4",
   "metadata": {},
   "outputs": [
    {
     "data": {
      "text/plain": [
       "29"
      ]
     },
     "execution_count": 3,
     "metadata": {},
     "output_type": "execute_result"
    }
   ],
   "source": [
    "4 * 6 + 5"
   ]
  },
  {
   "cell_type": "code",
   "execution_count": 4,
   "id": "d08959d1",
   "metadata": {},
   "outputs": [
    {
     "data": {
      "text/plain": [
       "34"
      ]
     },
     "execution_count": 4,
     "metadata": {},
     "output_type": "execute_result"
    }
   ],
   "source": [
    "4 + 6 * 5"
   ]
  },
  {
   "cell_type": "markdown",
   "id": "a348ad42",
   "metadata": {},
   "source": [
    "**What is the type of the result of the expression 3 + 1.5 + 4?**\n",
    "</br> float"
   ]
  },
  {
   "cell_type": "code",
   "execution_count": 6,
   "id": "3993f6e4",
   "metadata": {},
   "outputs": [
    {
     "data": {
      "text/plain": [
       "float"
      ]
     },
     "execution_count": 6,
     "metadata": {},
     "output_type": "execute_result"
    }
   ],
   "source": [
    "type(3 + 1.5 + 4)"
   ]
  },
  {
   "cell_type": "markdown",
   "id": "e7886c47",
   "metadata": {},
   "source": [
    "**What would you use to find a number’s square root, as well as its square?**"
   ]
  },
  {
   "cell_type": "code",
   "execution_count": 7,
   "id": "383163af",
   "metadata": {},
   "outputs": [],
   "source": [
    "#square: a**2"
   ]
  },
  {
   "cell_type": "code",
   "execution_count": 8,
   "id": "d315e870",
   "metadata": {},
   "outputs": [],
   "source": [
    "#squareroot: a**0.5"
   ]
  },
  {
   "cell_type": "code",
   "execution_count": 10,
   "id": "8f1c4a21",
   "metadata": {},
   "outputs": [
    {
     "data": {
      "text/plain": [
       "9"
      ]
     },
     "execution_count": 10,
     "metadata": {},
     "output_type": "execute_result"
    }
   ],
   "source": [
    "3**2"
   ]
  },
  {
   "cell_type": "code",
   "execution_count": 12,
   "id": "a4cbdb4f",
   "metadata": {},
   "outputs": [
    {
     "data": {
      "text/plain": [
       "4.0"
      ]
     },
     "execution_count": 12,
     "metadata": {},
     "output_type": "execute_result"
    }
   ],
   "source": [
    "16**0.5"
   ]
  },
  {
   "cell_type": "markdown",
   "id": "ae39285a",
   "metadata": {},
   "source": [
    "**Strings**</br>\n",
    "**Given the string 'hello' give an index command that returns 'e'. Enter your code in the cell below:**"
   ]
  },
  {
   "cell_type": "code",
   "execution_count": 13,
   "id": "25b531a8",
   "metadata": {},
   "outputs": [],
   "source": [
    "s = 'hello'\n",
    "# Print out 'e' using indexing"
   ]
  },
  {
   "cell_type": "code",
   "execution_count": 14,
   "id": "6d1779a7",
   "metadata": {},
   "outputs": [
    {
     "data": {
      "text/plain": [
       "'e'"
      ]
     },
     "execution_count": 14,
     "metadata": {},
     "output_type": "execute_result"
    }
   ],
   "source": [
    "s[1]"
   ]
  },
  {
   "cell_type": "markdown",
   "id": "c2fe935d",
   "metadata": {},
   "source": [
    "**Reverse the string 'hello' using slicing:**"
   ]
  },
  {
   "cell_type": "code",
   "execution_count": 15,
   "id": "3387e87e",
   "metadata": {},
   "outputs": [],
   "source": [
    "s ='hello'\n",
    "# Reverse the string using slicing"
   ]
  },
  {
   "cell_type": "code",
   "execution_count": 16,
   "id": "876d4da0",
   "metadata": {},
   "outputs": [
    {
     "data": {
      "text/plain": [
       "'olleh'"
      ]
     },
     "execution_count": 16,
     "metadata": {},
     "output_type": "execute_result"
    }
   ],
   "source": [
    "s[::-1]"
   ]
  },
  {
   "cell_type": "markdown",
   "id": "5817a511",
   "metadata": {},
   "source": [
    "**Given the string hello, give two methods of producing the letter 'o' using indexing.**"
   ]
  },
  {
   "cell_type": "code",
   "execution_count": 21,
   "id": "766ed7ca",
   "metadata": {},
   "outputs": [
    {
     "data": {
      "text/plain": [
       "'o'"
      ]
     },
     "execution_count": 21,
     "metadata": {},
     "output_type": "execute_result"
    }
   ],
   "source": [
    "s ='hello'\n",
    "# Print out the 'o'\n",
    "\n",
    "# Method 1: \n",
    "s[-1]"
   ]
  },
  {
   "cell_type": "code",
   "execution_count": 22,
   "id": "849e2085",
   "metadata": {},
   "outputs": [
    {
     "data": {
      "text/plain": [
       "'o'"
      ]
     },
     "execution_count": 22,
     "metadata": {},
     "output_type": "execute_result"
    }
   ],
   "source": [
    "# Method 2:\n",
    "s[4]"
   ]
  },
  {
   "cell_type": "markdown",
   "id": "41d25e7b",
   "metadata": {},
   "source": [
    "**Lists** </br>\n",
    "**Build this list [0,0,0] two separate ways.**"
   ]
  },
  {
   "cell_type": "code",
   "execution_count": 23,
   "id": "57163a0b",
   "metadata": {},
   "outputs": [],
   "source": [
    "# Method 1:\n",
    "list = [0,0,0]"
   ]
  },
  {
   "cell_type": "code",
   "execution_count": 100,
   "id": "cd54a118",
   "metadata": {},
   "outputs": [
    {
     "data": {
      "text/plain": [
       "[0, 0, 0]"
      ]
     },
     "execution_count": 100,
     "metadata": {},
     "output_type": "execute_result"
    }
   ],
   "source": [
    "# Method 2:\n",
    "[0]*3"
   ]
  },
  {
   "cell_type": "markdown",
   "id": "c99c3bbd",
   "metadata": {},
   "source": [
    "**Reassign 'hello' in this nested list to say 'goodbye' instead:**\n",
    "\n",
    "list3 = [1,2,[3,4,'hello']]"
   ]
  },
  {
   "cell_type": "code",
   "execution_count": 25,
   "id": "2000365b",
   "metadata": {},
   "outputs": [],
   "source": [
    "list3 = [1,2,[3,4,'hello']]"
   ]
  },
  {
   "cell_type": "code",
   "execution_count": 26,
   "id": "ec8db6ff",
   "metadata": {},
   "outputs": [
    {
     "data": {
      "text/plain": [
       "[3, 4, 'hello']"
      ]
     },
     "execution_count": 26,
     "metadata": {},
     "output_type": "execute_result"
    }
   ],
   "source": [
    "list3[2]"
   ]
  },
  {
   "cell_type": "code",
   "execution_count": 27,
   "id": "e60c0acd",
   "metadata": {},
   "outputs": [
    {
     "data": {
      "text/plain": [
       "'hello'"
      ]
     },
     "execution_count": 27,
     "metadata": {},
     "output_type": "execute_result"
    }
   ],
   "source": [
    "list3[2][2]"
   ]
  },
  {
   "cell_type": "code",
   "execution_count": 28,
   "id": "4bec80f2",
   "metadata": {},
   "outputs": [],
   "source": [
    "list3[2][2] = 'goodbye'"
   ]
  },
  {
   "cell_type": "code",
   "execution_count": 29,
   "id": "514f1acd",
   "metadata": {},
   "outputs": [
    {
     "data": {
      "text/plain": [
       "[1, 2, [3, 4, 'goodbye']]"
      ]
     },
     "execution_count": 29,
     "metadata": {},
     "output_type": "execute_result"
    }
   ],
   "source": [
    "list3"
   ]
  },
  {
   "cell_type": "markdown",
   "id": "548716e2",
   "metadata": {},
   "source": [
    "**Sort the list below:**"
   ]
  },
  {
   "cell_type": "code",
   "execution_count": 106,
   "id": "88c96852",
   "metadata": {},
   "outputs": [],
   "source": [
    "list4 = [5,3,4,6,1]"
   ]
  },
  {
   "cell_type": "code",
   "execution_count": 107,
   "id": "3b543f15",
   "metadata": {},
   "outputs": [],
   "source": [
    "list4.sort() # In place method"
   ]
  },
  {
   "cell_type": "code",
   "execution_count": 108,
   "id": "e1d526b6",
   "metadata": {},
   "outputs": [
    {
     "data": {
      "text/plain": [
       "[1, 3, 4, 5, 6]"
      ]
     },
     "execution_count": 108,
     "metadata": {},
     "output_type": "execute_result"
    }
   ],
   "source": [
    "list4"
   ]
  },
  {
   "cell_type": "code",
   "execution_count": 111,
   "id": "d1952466",
   "metadata": {},
   "outputs": [
    {
     "data": {
      "text/plain": [
       "[1, 3, 4, 5, 6]"
      ]
     },
     "execution_count": 111,
     "metadata": {},
     "output_type": "execute_result"
    }
   ],
   "source": [
    "list4 = [5,3,4,6,1]\n",
    "sorted(list4) # returns a list"
   ]
  },
  {
   "cell_type": "markdown",
   "id": "e5a34176",
   "metadata": {},
   "source": [
    "**Dictionaries** </br>\n",
    "**Using keys and indexing, grab the 'hello' from the following dictionaries:**"
   ]
  },
  {
   "cell_type": "code",
   "execution_count": 34,
   "id": "6d148124",
   "metadata": {},
   "outputs": [],
   "source": [
    "d = {'simple_key':'hello'}\n",
    "# Grab 'hello'"
   ]
  },
  {
   "cell_type": "code",
   "execution_count": 35,
   "id": "03af9b81",
   "metadata": {},
   "outputs": [
    {
     "data": {
      "text/plain": [
       "'hello'"
      ]
     },
     "execution_count": 35,
     "metadata": {},
     "output_type": "execute_result"
    }
   ],
   "source": [
    "d['simple_key']"
   ]
  },
  {
   "cell_type": "code",
   "execution_count": 36,
   "id": "c2a35782",
   "metadata": {},
   "outputs": [],
   "source": [
    "d = {'k1':{'k2':'hello'}}\n",
    "# Grab 'hello'"
   ]
  },
  {
   "cell_type": "code",
   "execution_count": 37,
   "id": "a651e54a",
   "metadata": {},
   "outputs": [
    {
     "data": {
      "text/plain": [
       "{'k2': 'hello'}"
      ]
     },
     "execution_count": 37,
     "metadata": {},
     "output_type": "execute_result"
    }
   ],
   "source": [
    "d['k1']"
   ]
  },
  {
   "cell_type": "code",
   "execution_count": 38,
   "id": "4210b280",
   "metadata": {},
   "outputs": [
    {
     "data": {
      "text/plain": [
       "'hello'"
      ]
     },
     "execution_count": 38,
     "metadata": {},
     "output_type": "execute_result"
    }
   ],
   "source": [
    "d['k1']['k2']"
   ]
  },
  {
   "cell_type": "code",
   "execution_count": 47,
   "id": "298a7e7e",
   "metadata": {},
   "outputs": [],
   "source": [
    "# Getting a little tricker\n",
    "d = {'k1':[{'nest_key':['this is deep',['hello']]}]}\n",
    "\n",
    "#Grab hello"
   ]
  },
  {
   "cell_type": "code",
   "execution_count": 52,
   "id": "e8325fdd",
   "metadata": {},
   "outputs": [
    {
     "data": {
      "text/plain": [
       "[{'nest_key': ['this is deep', ['hello']]}]"
      ]
     },
     "execution_count": 52,
     "metadata": {},
     "output_type": "execute_result"
    }
   ],
   "source": [
    "d['k1'][0:36:]"
   ]
  },
  {
   "cell_type": "code",
   "execution_count": 76,
   "id": "32383c79",
   "metadata": {},
   "outputs": [],
   "source": [
    "contents = d['k1'][0]['nest_key'][1][0]"
   ]
  },
  {
   "cell_type": "code",
   "execution_count": 77,
   "id": "0b9753dd",
   "metadata": {},
   "outputs": [
    {
     "data": {
      "text/plain": [
       "'hello'"
      ]
     },
     "execution_count": 77,
     "metadata": {},
     "output_type": "execute_result"
    }
   ],
   "source": [
    "contents"
   ]
  },
  {
   "cell_type": "code",
   "execution_count": 72,
   "id": "52571fe7",
   "metadata": {},
   "outputs": [
    {
     "data": {
      "text/plain": [
       "list"
      ]
     },
     "execution_count": 72,
     "metadata": {},
     "output_type": "execute_result"
    }
   ],
   "source": [
    "type(contents)"
   ]
  },
  {
   "cell_type": "code",
   "execution_count": 75,
   "id": "e1c9a0b5",
   "metadata": {},
   "outputs": [
    {
     "data": {
      "text/plain": [
       "'hello'"
      ]
     },
     "execution_count": 75,
     "metadata": {},
     "output_type": "execute_result"
    }
   ],
   "source": [
    "contents[0]"
   ]
  },
  {
   "cell_type": "code",
   "execution_count": 80,
   "id": "e4cdf6fb",
   "metadata": {},
   "outputs": [],
   "source": [
    "# This will be hard and annoying!\n",
    "d = {'k1':[1,2,{'k2':['this is tricky',{'tough':[1,2,['hello']]}]}]}"
   ]
  },
  {
   "cell_type": "code",
   "execution_count": 87,
   "id": "df31650b",
   "metadata": {},
   "outputs": [
    {
     "data": {
      "text/plain": [
       "'hello'"
      ]
     },
     "execution_count": 87,
     "metadata": {},
     "output_type": "execute_result"
    }
   ],
   "source": [
    "d['k1'][2]['k2'][1]['tough'][2][0]"
   ]
  },
  {
   "cell_type": "markdown",
   "id": "9951180c",
   "metadata": {},
   "source": [
    "**Can you sort a dictionary? Why or why not?**\n",
    "No - Dictionary is a key-value pair.It is orderless."
   ]
  },
  {
   "cell_type": "markdown",
   "id": "1431e2a7",
   "metadata": {},
   "source": [
    "**Tuples</br>\n",
    "What is the major difference between tuples and lists?** </br>\n",
    "Lists are Ordered sequence of objects whereas Tuples are Ordered immutable sequence of objects.\n",
    "\n",
    "**How do you create a tuple?** </br>\n",
    "t = ('hello',100,200.3)"
   ]
  },
  {
   "cell_type": "markdown",
   "id": "e0406b7d",
   "metadata": {},
   "source": [
    "**Sets </br>\n",
    "What is unique about a set?**</br>\n",
    "Sets are Unordered Unique collection of objects."
   ]
  },
  {
   "cell_type": "markdown",
   "id": "94439227",
   "metadata": {},
   "source": [
    "**Use a set to find the unique values of the list below:**\n",
    "\n",
    "list5 = [1,2,2,33,4,4,11,22,3,3,2]"
   ]
  },
  {
   "cell_type": "code",
   "execution_count": 88,
   "id": "53e3e421",
   "metadata": {},
   "outputs": [],
   "source": [
    "list5 = [1,2,2,33,4,4,11,22,3,3,2]"
   ]
  },
  {
   "cell_type": "code",
   "execution_count": 89,
   "id": "4c2c66d4",
   "metadata": {},
   "outputs": [
    {
     "data": {
      "text/plain": [
       "{1, 2, 3, 4, 11, 22, 33}"
      ]
     },
     "execution_count": 89,
     "metadata": {},
     "output_type": "execute_result"
    }
   ],
   "source": [
    "set(list5)"
   ]
  },
  {
   "cell_type": "markdown",
   "id": "78b1f284",
   "metadata": {},
   "source": [
    "**Booleans</br>**\n",
    "**For the following quiz questions, we will get a preview of comparison operators. In the table below, a=3 and b=4.**\n",
    "\n",
    "**Operator\tDescription\tExample</br>**\n",
    "- **==\tIf the values of two operands are equal, then the condition becomes true.\t(a == b) is not true.**</br>\n",
    "- **!=\tIf values of two operands are not equal, then condition becomes true.\t(a != b) is true.**</br>\n",
    "- **>\tIf the value of left operand is greater than the value of right operand, then condition becomes true.\t(a > b) is not true.**\n",
    "- **< If the value of left operand is less than the value of right operand, then condition becomes true.\t(a < b) is true.** \n",
    "- **>=\tIf the value of left operand is greater than or equal to the value of right operand, then condition becomes true.\t(a >= b) is not true.**\n",
    "- **<=\tIf the value of left operand is less than or equal to the value of right operand, then condition becomes true.\t(a <= b) is true.**\n"
   ]
  },
  {
   "cell_type": "markdown",
   "id": "243f46c1",
   "metadata": {},
   "source": [
    "**What will be the resulting Boolean of the following pieces of code (answer fist then check by typing it in!)**\n",
    "\n"
   ]
  },
  {
   "cell_type": "code",
   "execution_count": 91,
   "id": "a115d449",
   "metadata": {},
   "outputs": [
    {
     "data": {
      "text/plain": [
       "False"
      ]
     },
     "execution_count": 91,
     "metadata": {},
     "output_type": "execute_result"
    }
   ],
   "source": [
    "# Answer before running cell\n",
    "2 > 3 \n",
    "# False"
   ]
  },
  {
   "cell_type": "code",
   "execution_count": 92,
   "id": "81da880a",
   "metadata": {},
   "outputs": [
    {
     "data": {
      "text/plain": [
       "False"
      ]
     },
     "execution_count": 92,
     "metadata": {},
     "output_type": "execute_result"
    }
   ],
   "source": [
    "# Answer before running cell\n",
    "3 <= 2\n",
    "# False"
   ]
  },
  {
   "cell_type": "code",
   "execution_count": 93,
   "id": "b67d33c0",
   "metadata": {},
   "outputs": [
    {
     "data": {
      "text/plain": [
       "False"
      ]
     },
     "execution_count": 93,
     "metadata": {},
     "output_type": "execute_result"
    }
   ],
   "source": [
    "# Answer before running cell\n",
    "3 == 2.0\n",
    "# False"
   ]
  },
  {
   "cell_type": "code",
   "execution_count": 95,
   "id": "d72c6741",
   "metadata": {},
   "outputs": [
    {
     "data": {
      "text/plain": [
       "True"
      ]
     },
     "execution_count": 95,
     "metadata": {},
     "output_type": "execute_result"
    }
   ],
   "source": [
    "# Answer before running cell\n",
    "3.0 == 3\n",
    "# True"
   ]
  },
  {
   "cell_type": "code",
   "execution_count": 97,
   "id": "ca1b13c2",
   "metadata": {},
   "outputs": [
    {
     "data": {
      "text/plain": [
       "False"
      ]
     },
     "execution_count": 97,
     "metadata": {},
     "output_type": "execute_result"
    }
   ],
   "source": [
    "# Answer before running cell\n",
    "4**0.5 != 2\n",
    "# False"
   ]
  },
  {
   "cell_type": "markdown",
   "id": "eb5cd3a0",
   "metadata": {},
   "source": [
    "**Final Question: What is the boolean output of the cell block below?**"
   ]
  },
  {
   "cell_type": "code",
   "execution_count": 98,
   "id": "cd571de1",
   "metadata": {},
   "outputs": [
    {
     "data": {
      "text/plain": [
       "False"
      ]
     },
     "execution_count": 98,
     "metadata": {},
     "output_type": "execute_result"
    }
   ],
   "source": [
    "# two nested lists\n",
    "l_one = [1,2,[3,4]]\n",
    "l_two = [1,2,{'k1':4}]\n",
    "\n",
    "# True or False?\n",
    "l_one[2][0] >= l_two[2]['k1']\n",
    "# 3 >= 4\n",
    "# False"
   ]
  },
  {
   "cell_type": "code",
   "execution_count": null,
   "id": "63c83044",
   "metadata": {},
   "outputs": [],
   "source": []
  }
 ],
 "metadata": {
  "kernelspec": {
   "display_name": "Python 3 (ipykernel)",
   "language": "python",
   "name": "python3"
  },
  "language_info": {
   "codemirror_mode": {
    "name": "ipython",
    "version": 3
   },
   "file_extension": ".py",
   "mimetype": "text/x-python",
   "name": "python",
   "nbconvert_exporter": "python",
   "pygments_lexer": "ipython3",
   "version": "3.11.5"
  }
 },
 "nbformat": 4,
 "nbformat_minor": 5
}
