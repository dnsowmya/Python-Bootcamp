{
 "cells": [
  {
   "cell_type": "code",
   "execution_count": 1,
   "id": "7f413493",
   "metadata": {},
   "outputs": [
    {
     "name": "stdout",
     "output_type": "stream",
     "text": [
      "[1, 2, 3]\n"
     ]
    }
   ],
   "source": [
    "print([1,2,3])"
   ]
  },
  {
   "cell_type": "code",
   "execution_count": 2,
   "id": "8dcb66be",
   "metadata": {},
   "outputs": [
    {
     "name": "stdout",
     "output_type": "stream",
     "text": [
      "[1, 2, 3]\n",
      "[4, 5, 6]\n",
      "[7, 8, 9]\n"
     ]
    }
   ],
   "source": [
    "print([1,2,3])\n",
    "print([4,5,6])\n",
    "print([7,8,9])"
   ]
  },
  {
   "cell_type": "code",
   "execution_count": 3,
   "id": "c7ea8740",
   "metadata": {},
   "outputs": [],
   "source": [
    "def display(row1,row2,row3):\n",
    "    print(row1)\n",
    "    print(row2)\n",
    "    print(row3)"
   ]
  },
  {
   "cell_type": "code",
   "execution_count": 5,
   "id": "bffb0be7",
   "metadata": {},
   "outputs": [
    {
     "name": "stdout",
     "output_type": "stream",
     "text": [
      "[' ', ' ', ' ']\n",
      "[' ', ' ', ' ']\n",
      "[' ', ' ', ' ']\n"
     ]
    }
   ],
   "source": [
    "row1 = [' ',' ',' ']\n",
    "row2 = [' ',' ',' ']\n",
    "row3 = [' ',' ',' ']\n",
    "\n",
    "display(row1,row2,row3)"
   ]
  },
  {
   "cell_type": "code",
   "execution_count": 6,
   "id": "42f16e79",
   "metadata": {},
   "outputs": [],
   "source": [
    "row2[1] = 'X'"
   ]
  },
  {
   "cell_type": "code",
   "execution_count": 7,
   "id": "6c81a8e6",
   "metadata": {},
   "outputs": [
    {
     "name": "stdout",
     "output_type": "stream",
     "text": [
      "[' ', ' ', ' ']\n",
      "[' ', 'X', ' ']\n",
      "[' ', ' ', ' ']\n"
     ]
    }
   ],
   "source": [
    "display(row1,row2,row3)"
   ]
  },
  {
   "cell_type": "code",
   "execution_count": 8,
   "id": "47d5ba60",
   "metadata": {},
   "outputs": [
    {
     "name": "stdout",
     "output_type": "stream",
     "text": [
      "Please enter a value: 2\n"
     ]
    },
    {
     "data": {
      "text/plain": [
       "'2'"
      ]
     },
     "execution_count": 8,
     "metadata": {},
     "output_type": "execute_result"
    }
   ],
   "source": [
    "input('Please enter a value: ')"
   ]
  },
  {
   "cell_type": "code",
   "execution_count": 9,
   "id": "76a6fc1b",
   "metadata": {},
   "outputs": [
    {
     "name": "stdout",
     "output_type": "stream",
     "text": [
      "Please enter a value: 2\n"
     ]
    }
   ],
   "source": [
    "result = input(\"Please enter a value: \")"
   ]
  },
  {
   "cell_type": "code",
   "execution_count": 11,
   "id": "ff279f8b",
   "metadata": {},
   "outputs": [
    {
     "data": {
      "text/plain": [
       "str"
      ]
     },
     "execution_count": 11,
     "metadata": {},
     "output_type": "execute_result"
    }
   ],
   "source": [
    "type(result)"
   ]
  },
  {
   "cell_type": "code",
   "execution_count": 12,
   "id": "eeae2411",
   "metadata": {},
   "outputs": [
    {
     "name": "stdout",
     "output_type": "stream",
     "text": [
      "Enter Value: 2\n"
     ]
    }
   ],
   "source": [
    "result = input(\"Enter Value: \")"
   ]
  },
  {
   "cell_type": "code",
   "execution_count": 13,
   "id": "b613efb6",
   "metadata": {},
   "outputs": [],
   "source": [
    "result_int = int(result)"
   ]
  },
  {
   "cell_type": "code",
   "execution_count": 14,
   "id": "bbfbbb7e",
   "metadata": {},
   "outputs": [
    {
     "data": {
      "text/plain": [
       "str"
      ]
     },
     "execution_count": 14,
     "metadata": {},
     "output_type": "execute_result"
    }
   ],
   "source": [
    "type(result)"
   ]
  },
  {
   "cell_type": "code",
   "execution_count": 15,
   "id": "eeb213e3",
   "metadata": {},
   "outputs": [
    {
     "data": {
      "text/plain": [
       "int"
      ]
     },
     "execution_count": 15,
     "metadata": {},
     "output_type": "execute_result"
    }
   ],
   "source": [
    "type(result_int)"
   ]
  },
  {
   "cell_type": "code",
   "execution_count": 16,
   "id": "39286e2a",
   "metadata": {},
   "outputs": [
    {
     "data": {
      "text/plain": [
       "float"
      ]
     },
     "execution_count": 16,
     "metadata": {},
     "output_type": "execute_result"
    }
   ],
   "source": [
    "type(2.3)"
   ]
  },
  {
   "cell_type": "code",
   "execution_count": 17,
   "id": "dafb796d",
   "metadata": {},
   "outputs": [
    {
     "data": {
      "text/plain": [
       "3.14"
      ]
     },
     "execution_count": 17,
     "metadata": {},
     "output_type": "execute_result"
    }
   ],
   "source": [
    "float('3.14')"
   ]
  },
  {
   "cell_type": "code",
   "execution_count": 21,
   "id": "55328d6a",
   "metadata": {},
   "outputs": [
    {
     "name": "stdout",
     "output_type": "stream",
     "text": [
      "Choose an index position: 2\n"
     ]
    }
   ],
   "source": [
    "position_index = int(input(\"Choose an index position: \"))"
   ]
  },
  {
   "cell_type": "code",
   "execution_count": 19,
   "id": "04c95434",
   "metadata": {},
   "outputs": [
    {
     "data": {
      "text/plain": [
       "[' ', ' ', ' ']"
      ]
     },
     "execution_count": 19,
     "metadata": {},
     "output_type": "execute_result"
    }
   ],
   "source": [
    "row1"
   ]
  },
  {
   "cell_type": "code",
   "execution_count": 20,
   "id": "4f41b53a",
   "metadata": {},
   "outputs": [
    {
     "data": {
      "text/plain": [
       "' '"
      ]
     },
     "execution_count": 20,
     "metadata": {},
     "output_type": "execute_result"
    }
   ],
   "source": [
    "row1[1]"
   ]
  },
  {
   "cell_type": "code",
   "execution_count": 22,
   "id": "b40adda0",
   "metadata": {},
   "outputs": [
    {
     "data": {
      "text/plain": [
       "int"
      ]
     },
     "execution_count": 22,
     "metadata": {},
     "output_type": "execute_result"
    }
   ],
   "source": [
    "type(position_index)"
   ]
  },
  {
   "cell_type": "code",
   "execution_count": 23,
   "id": "2fa8d1c2",
   "metadata": {},
   "outputs": [
    {
     "data": {
      "text/plain": [
       "' '"
      ]
     },
     "execution_count": 23,
     "metadata": {},
     "output_type": "execute_result"
    }
   ],
   "source": [
    "row2[position_index]"
   ]
  },
  {
   "cell_type": "code",
   "execution_count": 24,
   "id": "db1abab6",
   "metadata": {},
   "outputs": [
    {
     "ename": "KeyboardInterrupt",
     "evalue": "Interrupted by user",
     "output_type": "error",
     "traceback": [
      "\u001b[0;31m---------------------------------------------------------------------------\u001b[0m",
      "\u001b[0;31mKeyboardInterrupt\u001b[0m                         Traceback (most recent call last)",
      "Cell \u001b[0;32mIn[24], line 1\u001b[0m\n\u001b[0;32m----> 1\u001b[0m result \u001b[38;5;241m=\u001b[39m \u001b[38;5;28minput\u001b[39m(\u001b[38;5;124m\"\u001b[39m\u001b[38;5;124mEnter a number: \u001b[39m\u001b[38;5;124m\"\u001b[39m)\n",
      "File \u001b[0;32m~/anaconda3/lib/python3.11/site-packages/ipykernel/kernelbase.py:1202\u001b[0m, in \u001b[0;36mKernel.raw_input\u001b[0;34m(self, prompt)\u001b[0m\n\u001b[1;32m   1200\u001b[0m     msg \u001b[38;5;241m=\u001b[39m \u001b[38;5;124m\"\u001b[39m\u001b[38;5;124mraw_input was called, but this frontend does not support input requests.\u001b[39m\u001b[38;5;124m\"\u001b[39m\n\u001b[1;32m   1201\u001b[0m     \u001b[38;5;28;01mraise\u001b[39;00m StdinNotImplementedError(msg)\n\u001b[0;32m-> 1202\u001b[0m \u001b[38;5;28;01mreturn\u001b[39;00m \u001b[38;5;28mself\u001b[39m\u001b[38;5;241m.\u001b[39m_input_request(\n\u001b[1;32m   1203\u001b[0m     \u001b[38;5;28mstr\u001b[39m(prompt),\n\u001b[1;32m   1204\u001b[0m     \u001b[38;5;28mself\u001b[39m\u001b[38;5;241m.\u001b[39m_parent_ident[\u001b[38;5;124m\"\u001b[39m\u001b[38;5;124mshell\u001b[39m\u001b[38;5;124m\"\u001b[39m],\n\u001b[1;32m   1205\u001b[0m     \u001b[38;5;28mself\u001b[39m\u001b[38;5;241m.\u001b[39mget_parent(\u001b[38;5;124m\"\u001b[39m\u001b[38;5;124mshell\u001b[39m\u001b[38;5;124m\"\u001b[39m),\n\u001b[1;32m   1206\u001b[0m     password\u001b[38;5;241m=\u001b[39m\u001b[38;5;28;01mFalse\u001b[39;00m,\n\u001b[1;32m   1207\u001b[0m )\n",
      "File \u001b[0;32m~/anaconda3/lib/python3.11/site-packages/ipykernel/kernelbase.py:1245\u001b[0m, in \u001b[0;36mKernel._input_request\u001b[0;34m(self, prompt, ident, parent, password)\u001b[0m\n\u001b[1;32m   1242\u001b[0m \u001b[38;5;28;01mexcept\u001b[39;00m \u001b[38;5;167;01mKeyboardInterrupt\u001b[39;00m:\n\u001b[1;32m   1243\u001b[0m     \u001b[38;5;66;03m# re-raise KeyboardInterrupt, to truncate traceback\u001b[39;00m\n\u001b[1;32m   1244\u001b[0m     msg \u001b[38;5;241m=\u001b[39m \u001b[38;5;124m\"\u001b[39m\u001b[38;5;124mInterrupted by user\u001b[39m\u001b[38;5;124m\"\u001b[39m\n\u001b[0;32m-> 1245\u001b[0m     \u001b[38;5;28;01mraise\u001b[39;00m \u001b[38;5;167;01mKeyboardInterrupt\u001b[39;00m(msg) \u001b[38;5;28;01mfrom\u001b[39;00m \u001b[38;5;28;01mNone\u001b[39;00m\n\u001b[1;32m   1246\u001b[0m \u001b[38;5;28;01mexcept\u001b[39;00m \u001b[38;5;167;01mException\u001b[39;00m:\n\u001b[1;32m   1247\u001b[0m     \u001b[38;5;28mself\u001b[39m\u001b[38;5;241m.\u001b[39mlog\u001b[38;5;241m.\u001b[39mwarning(\u001b[38;5;124m\"\u001b[39m\u001b[38;5;124mInvalid Message:\u001b[39m\u001b[38;5;124m\"\u001b[39m, exc_info\u001b[38;5;241m=\u001b[39m\u001b[38;5;28;01mTrue\u001b[39;00m)\n",
      "\u001b[0;31mKeyboardInterrupt\u001b[0m: Interrupted by user"
     ]
    }
   ],
   "source": [
    "result = input(\"Enter a number: \")"
   ]
  },
  {
   "cell_type": "code",
   "execution_count": 46,
   "id": "684ac38f",
   "metadata": {},
   "outputs": [],
   "source": [
    "def user_choice():\n",
    "    \n",
    "    # Variables\n",
    "    \n",
    "    # Initial values\n",
    "    choice = 'WRONG'\n",
    "    acceptable_range = range(0,11)\n",
    "    within_range = False\n",
    "    \n",
    "    # Two Conditions to check\n",
    "    # Digit or within_range = False\n",
    "    \n",
    "    while choice.isdigit() == False or within_range == False:\n",
    "        \n",
    "        choice = input(\"Please enter a number(0-10): \")\n",
    "       \n",
    "        # Digit check\n",
    "        if choice.isdigit() == False:\n",
    "            print('Sorry that is not a digit!')\n",
    "            \n",
    "        # Range change\n",
    "        if choice.isdigit() == True:\n",
    "            if int(choice) in acceptable_range:\n",
    "                within_range = True\n",
    "            else:\n",
    "                print(\"Sorry, you are out of acceptable range (0-10)\")\n",
    "                within_range = False\n",
    "    \n",
    "    return int(choice)"
   ]
  },
  {
   "cell_type": "code",
   "execution_count": 40,
   "id": "0bf603d9",
   "metadata": {},
   "outputs": [],
   "source": [
    "some_value = '100'"
   ]
  },
  {
   "cell_type": "code",
   "execution_count": 41,
   "id": "ad08a0ac",
   "metadata": {},
   "outputs": [
    {
     "data": {
      "text/plain": [
       "True"
      ]
     },
     "execution_count": 41,
     "metadata": {},
     "output_type": "execute_result"
    }
   ],
   "source": [
    "some_value.isdigit()"
   ]
  },
  {
   "cell_type": "code",
   "execution_count": 30,
   "id": "5742360c",
   "metadata": {},
   "outputs": [
    {
     "data": {
      "text/plain": [
       "100"
      ]
     },
     "execution_count": 30,
     "metadata": {},
     "output_type": "execute_result"
    }
   ],
   "source": [
    "int(some_value)"
   ]
  },
  {
   "cell_type": "code",
   "execution_count": 47,
   "id": "b31ff78d",
   "metadata": {},
   "outputs": [
    {
     "name": "stdout",
     "output_type": "stream",
     "text": [
      "Please enter a number(0-10): 10\n"
     ]
    },
    {
     "data": {
      "text/plain": [
       "10"
      ]
     },
     "execution_count": 47,
     "metadata": {},
     "output_type": "execute_result"
    }
   ],
   "source": [
    "user_choice()"
   ]
  },
  {
   "cell_type": "code",
   "execution_count": 35,
   "id": "21263044",
   "metadata": {},
   "outputs": [],
   "source": [
    "result = 'Wrong Value'"
   ]
  },
  {
   "cell_type": "code",
   "execution_count": 36,
   "id": "dde34ab1",
   "metadata": {},
   "outputs": [],
   "source": [
    "acceptable_values = [0,1,2]"
   ]
  },
  {
   "cell_type": "code",
   "execution_count": 37,
   "id": "9860db51",
   "metadata": {},
   "outputs": [
    {
     "data": {
      "text/plain": [
       "False"
      ]
     },
     "execution_count": 37,
     "metadata": {},
     "output_type": "execute_result"
    }
   ],
   "source": [
    "result in acceptable_values"
   ]
  },
  {
   "cell_type": "code",
   "execution_count": 38,
   "id": "85deabf1",
   "metadata": {},
   "outputs": [
    {
     "data": {
      "text/plain": [
       "True"
      ]
     },
     "execution_count": 38,
     "metadata": {},
     "output_type": "execute_result"
    }
   ],
   "source": [
    "result not in acceptable_values"
   ]
  },
  {
   "cell_type": "code",
   "execution_count": 48,
   "id": "12cfccf6",
   "metadata": {},
   "outputs": [],
   "source": [
    "game_list = [0,1,2]"
   ]
  },
  {
   "cell_type": "code",
   "execution_count": 49,
   "id": "ca12bc13",
   "metadata": {},
   "outputs": [],
   "source": [
    "def display_game(game_list):\n",
    "    print(\"Here is the current list: \")\n",
    "    print(game_list)"
   ]
  },
  {
   "cell_type": "code",
   "execution_count": 50,
   "id": "3ef7b3ab",
   "metadata": {},
   "outputs": [
    {
     "name": "stdout",
     "output_type": "stream",
     "text": [
      "Here is the current list: \n",
      "[0, 1, 2]\n"
     ]
    }
   ],
   "source": [
    "display_game(game_list)"
   ]
  },
  {
   "cell_type": "code",
   "execution_count": 51,
   "id": "d84bb8d8",
   "metadata": {},
   "outputs": [],
   "source": [
    "def position_choice():\n",
    "    \n",
    "    choice = 'wrong'\n",
    "    \n",
    "    while choice not in ['0','1','2']:\n",
    "        \n",
    "        choice = input(\"Pick a position (0,1,2): \")\n",
    "        \n",
    "        if choice not in ['0','1','2']:\n",
    "            print(\"Sorry, Invalid Choice!\")\n",
    "            \n",
    "    return int(choice)"
   ]
  },
  {
   "cell_type": "code",
   "execution_count": 52,
   "id": "f835268e",
   "metadata": {},
   "outputs": [
    {
     "name": "stdout",
     "output_type": "stream",
     "text": [
      "Pick a position (0,1,2): two\n",
      "Sorry, Invalid Choice!\n",
      "Pick a position (0,1,2): 24\n",
      "Sorry, Invalid Choice!\n",
      "Pick a position (0,1,2): 1\n"
     ]
    },
    {
     "data": {
      "text/plain": [
       "1"
      ]
     },
     "execution_count": 52,
     "metadata": {},
     "output_type": "execute_result"
    }
   ],
   "source": [
    "position_choice()"
   ]
  },
  {
   "cell_type": "code",
   "execution_count": 54,
   "id": "ff05608c",
   "metadata": {},
   "outputs": [],
   "source": [
    "def replacement_choice(game_list,position):\n",
    "    \n",
    "    user_placement = input(\"Type a string to place a position: \")\n",
    "    \n",
    "    game_list[position] = user_placement\n",
    "    \n",
    "    return game_list"
   ]
  },
  {
   "cell_type": "code",
   "execution_count": 55,
   "id": "788c5841",
   "metadata": {},
   "outputs": [
    {
     "name": "stdout",
     "output_type": "stream",
     "text": [
      "Type a string to place a position: test\n"
     ]
    },
    {
     "data": {
      "text/plain": [
       "[0, 'test', 2]"
      ]
     },
     "execution_count": 55,
     "metadata": {},
     "output_type": "execute_result"
    }
   ],
   "source": [
    "replacement_choice(game_list,1)"
   ]
  },
  {
   "cell_type": "code",
   "execution_count": 56,
   "id": "f3a32a5b",
   "metadata": {},
   "outputs": [],
   "source": [
    "def gameon_choice():\n",
    "    \n",
    "    choice = 'wrong'\n",
    "    \n",
    "    while choice not in ['Y','N']:\n",
    "        \n",
    "        choice = input(\"Keep playing? (Y or N): \")\n",
    "        \n",
    "        if choice not in ['Y','N']:\n",
    "            print(\"Sorry, I don't understand! Please choose Y or N \")\n",
    "    \n",
    "    if choice == 'Y':\n",
    "        return True\n",
    "    else:\n",
    "        return False"
   ]
  },
  {
   "cell_type": "code",
   "execution_count": 58,
   "id": "cd72141e",
   "metadata": {},
   "outputs": [
    {
     "name": "stdout",
     "output_type": "stream",
     "text": [
      "Keep playing? (Y or N): N\n"
     ]
    },
    {
     "data": {
      "text/plain": [
       "False"
      ]
     },
     "execution_count": 58,
     "metadata": {},
     "output_type": "execute_result"
    }
   ],
   "source": [
    "gameon_choice()"
   ]
  },
  {
   "cell_type": "code",
   "execution_count": 59,
   "id": "fa54f516",
   "metadata": {},
   "outputs": [
    {
     "name": "stdout",
     "output_type": "stream",
     "text": [
      "Here is the current list: \n",
      "[0, 1, 2]\n",
      "Pick a position (0,1,2): two\n",
      "Sorry, Invalid Choice!\n",
      "Pick a position (0,1,2): 1\n",
      "Type a string to place a position: my choice\n",
      "Here is the current list: \n",
      "[0, 'my choice', 2]\n",
      "Keep playing? (Y or N): Y\n",
      "Here is the current list: \n",
      "[0, 'my choice', 2]\n",
      "Pick a position (0,1,2): 0\n",
      "Type a string to place a position: test\n",
      "Here is the current list: \n",
      "['test', 'my choice', 2]\n",
      "Keep playing? (Y or N): N\n"
     ]
    }
   ],
   "source": [
    "game_on = True\n",
    "game_list = [0,1,2]\n",
    "\n",
    "while game_on:\n",
    "    display_game(game_list)\n",
    "    \n",
    "    position = position_choice()\n",
    "    \n",
    "    game_list = replacement_choice(game_list,position)\n",
    "    \n",
    "    display_game(game_list)\n",
    "    \n",
    "    game_on = gameon_choice()"
   ]
  },
  {
   "cell_type": "markdown",
   "id": "8f838d7a",
   "metadata": {},
   "source": [
    "**Step 1: Write a function that can print out a board. Set up your board as a list, where each index 1-9 corresponds with a number on a number pad, so you get a 3 by 3 board representation.**"
   ]
  },
  {
   "cell_type": "code",
   "execution_count": 6,
   "id": "44290ba0",
   "metadata": {},
   "outputs": [],
   "source": [
    "from IPython.display import clear_output\n",
    "\n",
    "def display_board(board):\n",
    "    \n",
    "    clear_output()\n",
    "    print(board[1]+'|'+board[2]+'|'+board[3])\n",
    "    print('-'+'|'+'-'+'|'+'-')\n",
    "    print(board[4]+'|'+board[5]+'|'+board[6])\n",
    "    print('-'+'|'+'-'+'|'+'-')\n",
    "    print(board[7]+'|'+board[8]+'|'+board[9])\n",
    "    \n",
    "    return True"
   ]
  },
  {
   "cell_type": "code",
   "execution_count": 7,
   "id": "c4d5ae2a",
   "metadata": {},
   "outputs": [
    {
     "name": "stdout",
     "output_type": "stream",
     "text": [
      "X|O|X\n",
      "-|-|-\n",
      "O|X|O\n",
      "-|-|-\n",
      "X|O|X\n"
     ]
    },
    {
     "data": {
      "text/plain": [
       "True"
      ]
     },
     "execution_count": 7,
     "metadata": {},
     "output_type": "execute_result"
    }
   ],
   "source": [
    "test_board = ['#','X','O','X','O','X','O','X','O','X']\n",
    "display_board(test_board)"
   ]
  },
  {
   "cell_type": "markdown",
   "id": "8b1dd567",
   "metadata": {},
   "source": [
    "**Step 2: Write a function that can take in a player input and assign their marker as 'X' or 'O'. Think about using while loops to continually ask until you get a correct answer.**"
   ]
  },
  {
   "cell_type": "code",
   "execution_count": 20,
   "id": "1a59cfae",
   "metadata": {},
   "outputs": [],
   "source": [
    "def player_input():\n",
    "    player1_marker = 'BLANK'\n",
    "    \n",
    "    while player1_marker not in ['X','O']:\n",
    "        player1_marker = input(\"What's your marker ('X' or 'O') Player1?\")\n",
    "        \n",
    "        if player1_marker not in ['X','O']:\n",
    "            print(\"Please enter a valid value!\")\n",
    "        else:\n",
    "            print(\"Great! Let's start the Tic-Tac-Toe game!\")\n",
    "            \n",
    "    if player1_marker == 'X':\n",
    "        player2_marker = 'O'\n",
    "        print(f'Player1 marker is {player1_marker}')\n",
    "        print(f'Player2 marker is {player2_marker}')\n",
    "        return player1_marker\n",
    "\n",
    "    else:\n",
    "        player2_marker = 'X'\n",
    "        print(f'Player1 marker is {player1_marker}')\n",
    "        print(f'Player2 marker is {player2_marker}')\n",
    "        return player1_marker"
   ]
  },
  {
   "cell_type": "code",
   "execution_count": 21,
   "id": "af9ed4db",
   "metadata": {},
   "outputs": [
    {
     "name": "stdout",
     "output_type": "stream",
     "text": [
      "What's your marker ('X' or 'O') Player1?X\n",
      "Great! Let's start the Tic-Tac-Toe game!\n",
      "Player1 marker is X\n",
      "Player2 marker is O\n"
     ]
    },
    {
     "data": {
      "text/plain": [
       "'X'"
      ]
     },
     "execution_count": 21,
     "metadata": {},
     "output_type": "execute_result"
    }
   ],
   "source": [
    "player_input()"
   ]
  },
  {
   "cell_type": "markdown",
   "id": "94d9e4bf",
   "metadata": {},
   "source": [
    "**Step 3: Write a function that takes in the board list object, a marker ('X' or 'O'), and a desired position (number 1-9) and assigns it to the board.**"
   ]
  },
  {
   "cell_type": "code",
   "execution_count": 23,
   "id": "0277dea9",
   "metadata": {},
   "outputs": [],
   "source": [
    "def place_marker(board, marker, position):\n",
    "    \n",
    "    #board = [' ']*10\n",
    "    board[position] = marker\n",
    "    display_board(board)\n",
    "    "
   ]
  },
  {
   "cell_type": "code",
   "execution_count": 24,
   "id": "cf0af899",
   "metadata": {},
   "outputs": [
    {
     "name": "stdout",
     "output_type": "stream",
     "text": [
      " | | \n",
      "-|-|-\n",
      " | | \n",
      "-|-|-\n",
      " |1| \n"
     ]
    },
    {
     "data": {
      "text/plain": [
       "True"
      ]
     },
     "execution_count": 24,
     "metadata": {},
     "output_type": "execute_result"
    }
   ],
   "source": [
    "place_marker(board,'1',8)\n",
    "display_board(board)"
   ]
  },
  {
   "cell_type": "code",
   "execution_count": 124,
   "id": "db0ba603",
   "metadata": {},
   "outputs": [
    {
     "name": "stdout",
     "output_type": "stream",
     "text": [
      "1|1|1\n",
      "-|-|-\n",
      " | | \n",
      "-|-|-\n",
      "1|1| \n"
     ]
    }
   ],
   "source": [
    "place_marker(board,'1',3)"
   ]
  },
  {
   "cell_type": "markdown",
   "id": "7e57d27c",
   "metadata": {},
   "source": [
    "**Step 4: Write a function that takes in a board and a mark (X or O) and then checks to see if that mark has won.**"
   ]
  },
  {
   "cell_type": "code",
   "execution_count": 127,
   "id": "d86c0917",
   "metadata": {},
   "outputs": [],
   "source": [
    "def win_check(board, mark):\n",
    "    \n",
    "    # Top Row Check:\n",
    "    if board[1] == board[2] == board[3] == mark:\n",
    "        win = True\n",
    "        return True\n",
    "    # 2nd Row Check:\n",
    "    if board[4] == board[5] == board[6] == mark:\n",
    "        win = True\n",
    "        return True\n",
    "    # 3rd Row Check:\n",
    "    if board[7] == board[8] == board[9] == mark:\n",
    "        win = True\n",
    "        return True\n",
    "    # 1st Col Check:\n",
    "    if board[1] == board[4] == board[7] == mark:\n",
    "        win = True\n",
    "        return True\n",
    "     # 2nd Col Check:\n",
    "    if board[2] == board[5] == board[8] == mark:\n",
    "        win = True\n",
    "        return True\n",
    "    # 3rd Col Check:\n",
    "    if board[3] == board[6] == board[9] == mark:\n",
    "        win = True\n",
    "        return True\n",
    "    # 1st Diagonal Check:\n",
    "    if board[1] == board[5] == board[9] == mark:\n",
    "        win = True\n",
    "        return True\n",
    "    # 2nd Diagonal Check:\n",
    "    if board[3] == board[5] == board[7] == mark:\n",
    "        win = True\n",
    "        return True"
   ]
  },
  {
   "cell_type": "code",
   "execution_count": 128,
   "id": "c7becf40",
   "metadata": {},
   "outputs": [
    {
     "data": {
      "text/plain": [
       "True"
      ]
     },
     "execution_count": 128,
     "metadata": {},
     "output_type": "execute_result"
    }
   ],
   "source": [
    "win_check(board,'1')"
   ]
  },
  {
   "cell_type": "markdown",
   "id": "ff871c9e",
   "metadata": {},
   "source": [
    "**Step 5: Write a function that uses the random module to randomly decide which player goes first. You may want to lookup random.randint() Return a string of which player went first.**"
   ]
  },
  {
   "cell_type": "code",
   "execution_count": 130,
   "id": "0f63d063",
   "metadata": {},
   "outputs": [],
   "source": [
    "import random\n",
    "\n",
    "def choose_first():\n",
    "    return random.randint(1,2)"
   ]
  },
  {
   "cell_type": "code",
   "execution_count": 134,
   "id": "fb737e80",
   "metadata": {},
   "outputs": [
    {
     "data": {
      "text/plain": [
       "int"
      ]
     },
     "execution_count": 134,
     "metadata": {},
     "output_type": "execute_result"
    }
   ],
   "source": [
    "type(choose_first())"
   ]
  },
  {
   "cell_type": "markdown",
   "id": "f30434bb",
   "metadata": {},
   "source": [
    "**Step 6: Write a function that returns a boolean indicating whether a space on the board is freely available.**"
   ]
  },
  {
   "cell_type": "code",
   "execution_count": 16,
   "id": "3c24132b",
   "metadata": {},
   "outputs": [],
   "source": [
    "def space_check(board, position):\n",
    "    \n",
    "    if board[position] not in ['X','O']:\n",
    "        return True\n",
    "    else:\n",
    "        return False"
   ]
  },
  {
   "cell_type": "code",
   "execution_count": 137,
   "id": "733b4cb1",
   "metadata": {},
   "outputs": [
    {
     "data": {
      "text/plain": [
       "True"
      ]
     },
     "execution_count": 137,
     "metadata": {},
     "output_type": "execute_result"
    }
   ],
   "source": [
    "space_check(board,1)"
   ]
  },
  {
   "cell_type": "markdown",
   "id": "4ca06f52",
   "metadata": {},
   "source": [
    "**Step 7: Write a function that checks if the board is full and returns a boolean value. True if full, False otherwise.**"
   ]
  },
  {
   "cell_type": "code",
   "execution_count": 138,
   "id": "0d4465c9",
   "metadata": {},
   "outputs": [],
   "source": [
    "def full_board_check(board):\n",
    "    \n",
    "    for i in range(10):\n",
    "        if board[i] in ['X','O']:\n",
    "            return True\n",
    "        else:\n",
    "            return False\n",
    "    \n",
    "    "
   ]
  },
  {
   "cell_type": "code",
   "execution_count": 139,
   "id": "d0e16cf3",
   "metadata": {},
   "outputs": [
    {
     "data": {
      "text/plain": [
       "False"
      ]
     },
     "execution_count": 139,
     "metadata": {},
     "output_type": "execute_result"
    }
   ],
   "source": [
    "full_board_check(board)"
   ]
  },
  {
   "cell_type": "markdown",
   "id": "f0ca4d3c",
   "metadata": {},
   "source": [
    "**Step 8: Write a function that asks for a player's next position (as a number 1-9) and then uses the function from step 6 to check if it's a free position. If it is, then return the position for later use.**"
   ]
  },
  {
   "cell_type": "code",
   "execution_count": 18,
   "id": "16f6b5ac",
   "metadata": {},
   "outputs": [],
   "source": [
    "def player_choice(board):\n",
    "    \n",
    "    player_next_position = \"BLANK\"\n",
    "    \n",
    "    while player_next_position not in range(1,10):\n",
    "        player_next_position = input(\"What's your next position number (1-9): \")\n",
    "        \n",
    "        if player_next_position.isdigit():\n",
    "            if int(player_next_position) in range(1,10):\n",
    "                if space_check(board, int(player_next_position)):\n",
    "                    return player_next_position\n",
    "                else:\n",
    "                    return False\n",
    "            else:\n",
    "                print(\"Please enter a valid value(1-10)!\")\n",
    "        else:\n",
    "            print(\"Please enter numbers only(1-10)!\")"
   ]
  },
  {
   "cell_type": "code",
   "execution_count": 19,
   "id": "52c696f8",
   "metadata": {},
   "outputs": [
    {
     "name": "stdout",
     "output_type": "stream",
     "text": [
      "What's your next position number (1-9): 1\n"
     ]
    },
    {
     "data": {
      "text/plain": [
       "'1'"
      ]
     },
     "execution_count": 19,
     "metadata": {},
     "output_type": "execute_result"
    }
   ],
   "source": [
    "player_choice(board)"
   ]
  },
  {
   "cell_type": "code",
   "execution_count": 145,
   "id": "71e57007",
   "metadata": {},
   "outputs": [
    {
     "data": {
      "text/plain": [
       "True"
      ]
     },
     "execution_count": 145,
     "metadata": {},
     "output_type": "execute_result"
    }
   ],
   "source": [
    "1 in range(1,10)"
   ]
  },
  {
   "cell_type": "markdown",
   "id": "e767c34b",
   "metadata": {},
   "source": [
    "**Step 9: Write a function that asks the player if they want to play again and returns a boolean True if they do want to play again.**"
   ]
  },
  {
   "cell_type": "code",
   "execution_count": 150,
   "id": "cfabd4df",
   "metadata": {},
   "outputs": [],
   "source": [
    "def replay():\n",
    "    \n",
    "    play_again = \"BLANK\"\n",
    "    \n",
    "    while play_again not in ['Y','N']:\n",
    "        play_again = input(\"Do you want to play again? (Y/N)\")\n",
    "        \n",
    "        if play_again not in ['Y','N']:\n",
    "            print(\"Please enter a valid value(Y/N)!\")\n",
    "        elif play_again == 'Y':\n",
    "            return True\n",
    "        else:\n",
    "            return False"
   ]
  },
  {
   "cell_type": "code",
   "execution_count": 152,
   "id": "a225a43b",
   "metadata": {},
   "outputs": [
    {
     "name": "stdout",
     "output_type": "stream",
     "text": [
      "Do you want to play again? (Y/N)q\n",
      "Please enter a valid value(Y/N)!\n",
      "Do you want to play again? (Y/N)n\n",
      "Please enter a valid value(Y/N)!\n",
      "Do you want to play again? (Y/N)N\n"
     ]
    },
    {
     "data": {
      "text/plain": [
       "False"
      ]
     },
     "execution_count": 152,
     "metadata": {},
     "output_type": "execute_result"
    }
   ],
   "source": [
    "replay()"
   ]
  },
  {
   "cell_type": "markdown",
   "id": "11c3236a",
   "metadata": {},
   "source": [
    "**Step 10: Use while loops and the functions you've made to run the game!**"
   ]
  },
  {
   "cell_type": "code",
   "execution_count": 62,
   "id": "406179a4",
   "metadata": {},
   "outputs": [
    {
     "name": "stdout",
     "output_type": "stream",
     "text": [
      "X|X|O\n",
      "-|-|-\n",
      "O|X|X\n",
      "-|-|-\n",
      "O|O|X\n",
      "Player 1 has won the game!\n",
      "Do you want to play again(Y/N)?: N\n",
      "Thanks! See you next time!\n"
     ]
    }
   ],
   "source": [
    "# Get Player's marker\n",
    "def player_input():\n",
    "    player1_marker = 'BLANK'\n",
    "    \n",
    "    while player1_marker not in ['X','O']:\n",
    "        player1_marker = input(\"What's your marker ('X' or 'O') Player1?\")\n",
    "        \n",
    "        if player1_marker not in ['X','O']:\n",
    "            print(\"Please enter a valid value!\")\n",
    "        else:\n",
    "            print(\"Great! Let's start the Tic-Tac-Toe game!\")\n",
    "            \n",
    "    if player1_marker == 'X':\n",
    "        player2_marker = 'O'\n",
    "        print(f'Player1 marker is {player1_marker}')\n",
    "        print(f'Player2 marker is {player2_marker}')\n",
    "        return player1_marker,player2_marker\n",
    "\n",
    "    else:\n",
    "        player2_marker = 'X'\n",
    "        print(f'Player1 marker is {player1_marker}')\n",
    "        print(f'Player2 marker is {player2_marker}')\n",
    "        return player1_marker,player2_marker\n",
    "    \n",
    "from IPython.display import clear_output\n",
    "\n",
    "# Display the board\n",
    "def display_board(board):\n",
    "    \n",
    "    clear_output()\n",
    "    print(board[1]+'|'+board[2]+'|'+board[3])\n",
    "    print('-'+'|'+'-'+'|'+'-')\n",
    "    print(board[4]+'|'+board[5]+'|'+board[6])\n",
    "    print('-'+'|'+'-'+'|'+'-')\n",
    "    print(board[7]+'|'+board[8]+'|'+board[9])\n",
    "    \n",
    "    return True\n",
    "\n",
    "# Ask Player for the next position and check if the position is available or not\n",
    "def player_choice(board):\n",
    "    \n",
    "    player_next_position = \"BLANK\"\n",
    "    \n",
    "    while player_next_position not in range(1,10):\n",
    "        player_next_position = input(\"What's your next position number (1-9): \")\n",
    "        \n",
    "        if player_next_position.isdigit():\n",
    "            if int(player_next_position) in range(1,10):\n",
    "                if space_check(board, int(player_next_position)):\n",
    "                    return player_next_position\n",
    "                else:\n",
    "                    print(f\"Sorry! {player_next_position} is unavailable! Choose a position which is available based on the display above!\")\n",
    "            else:\n",
    "                print(\"Please enter a valid value(1-10)!\")\n",
    "        else:\n",
    "            print(\"Please enter numbers only(1-10)!\")\n",
    "\n",
    "# Check if the Player has won the game\n",
    "def win_check(board, mark):\n",
    "    \n",
    "    # Top Row Check:\n",
    "    if board[1] == board[2] == board[3] == mark:\n",
    "        win = True\n",
    "        return True\n",
    "    # 2nd Row Check:\n",
    "    elif board[4] == board[5] == board[6] == mark:\n",
    "        win = True\n",
    "        return True\n",
    "    # 3rd Row Check:\n",
    "    elif board[7] == board[8] == board[9] == mark:\n",
    "        win = True\n",
    "        return True\n",
    "    # 1st Col Check:\n",
    "    elif board[1] == board[4] == board[7] == mark:\n",
    "        win = True\n",
    "        return True\n",
    "     # 2nd Col Check:\n",
    "    elif board[2] == board[5] == board[8] == mark:\n",
    "        win = True\n",
    "        return True\n",
    "    # 3rd Col Check:\n",
    "    elif board[3] == board[6] == board[9] == mark:\n",
    "        win = True\n",
    "        return True\n",
    "    # 1st Diagonal Check:\n",
    "    elif board[1] == board[5] == board[9] == mark:\n",
    "        win = True\n",
    "        return True\n",
    "    # 2nd Diagonal Check:\n",
    "    elif board[3] == board[5] == board[7] == mark:\n",
    "        win = True\n",
    "        return True\n",
    "    else:\n",
    "        possible_values = ['X','O']\n",
    "        for i in range(1,10):\n",
    "            if board[i] in possible_values:\n",
    "                board_full = True\n",
    "                print(f'{i} has {board[i]}')\n",
    "            else:\n",
    "                board_full = False\n",
    "                print(f'{i} has {board[i]}')\n",
    "                break\n",
    "        if board_full:    \n",
    "            print(\"It's a Tie!\")\n",
    "            return \"Full\"\n",
    "            \n",
    "            \n",
    "print('Welcome to Tic Tac Toe!\\n')\n",
    "\n",
    "#while True:\n",
    "    \n",
    "# Set up the board\n",
    "#board = [' ']*10\n",
    "#if display_board(board):\n",
    "# Set the game up here\n",
    "play_again = False\n",
    "\n",
    "while not play_again:   \n",
    "    # Get the markers for Players\n",
    "    game_over = False\n",
    "    play_again = False\n",
    "    player1_marker,player2_marker = player_input()\n",
    "    board = [' ']*10\n",
    "    display_board(board)\n",
    "\n",
    "    while not (game_over):\n",
    "        # Player 1 Turn\n",
    "        print(\"Player 1's Turn\")\n",
    "        # Get Player 1's next position\n",
    "        player1_position = player_choice(board)\n",
    "        # Place Player 1's marker in the position specified by Player 1\n",
    "        place_marker(board, player1_marker, int(player1_position))\n",
    "        # Check if Player 1 has won the game\n",
    "        win_result = win_check(board, player1_marker)\n",
    "        if win_result == 'Full':\n",
    "            game_over = True\n",
    "            break\n",
    "        elif win_result:\n",
    "            print('Player 1 has won the game!')\n",
    "            game_over = True\n",
    "            break\n",
    "\n",
    "            \n",
    "        # Player2's turn.\n",
    "        print(\"Player 2's Turn\")\n",
    "        # Get Player 2's next position\n",
    "        player2_position = player_choice(board)\n",
    "        # Place Player 2's marker in the position specified by Player 2\n",
    "        place_marker(board, player2_marker, int(player2_position))\n",
    "        # Check if Player 2 has won the game\n",
    "        win_result = win_check(board, player2_marker)\n",
    "        if win_result == 'Full':\n",
    "            game_over = True\n",
    "            break\n",
    "        elif win_result:\n",
    "            print('Player 2 has won the game!')\n",
    "            game_over = True\n",
    "            break\n",
    "            \n",
    "\n",
    "    if game_over:\n",
    "        \n",
    "        while play_again not in ['Y','N']:\n",
    "            # Check if the players want to play again\n",
    "            play_again = input(\"Do you want to play again(Y/N)?: \")\n",
    "            \n",
    "            if play_again not in ['Y','N']:\n",
    "                print(\"Please enter a valid value(Y/N)!\")\n",
    "            elif play_again == 'Y':\n",
    "                game_over = False\n",
    "                play_again = False\n",
    "                print(\"Awesome! Let's start the game!\")\n",
    "                break\n",
    "            elif play_again == 'N':\n",
    "                play_again = True\n",
    "                print(\"Thanks! See you next time!\")\n",
    "                break\n",
    "        \n",
    "        #break"
   ]
  },
  {
   "cell_type": "markdown",
   "id": "e7ff9fff",
   "metadata": {},
   "source": []
  },
  {
   "cell_type": "code",
   "execution_count": null,
   "id": "76f0fc46",
   "metadata": {},
   "outputs": [],
   "source": []
  }
 ],
 "metadata": {
  "kernelspec": {
   "display_name": "Python 3 (ipykernel)",
   "language": "python",
   "name": "python3"
  },
  "language_info": {
   "codemirror_mode": {
    "name": "ipython",
    "version": 3
   },
   "file_extension": ".py",
   "mimetype": "text/x-python",
   "name": "python",
   "nbconvert_exporter": "python",
   "pygments_lexer": "ipython3",
   "version": "3.11.5"
  }
 },
 "nbformat": 4,
 "nbformat_minor": 5
}
