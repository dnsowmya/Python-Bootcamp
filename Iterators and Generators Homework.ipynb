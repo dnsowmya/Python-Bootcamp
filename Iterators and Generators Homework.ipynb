{
 "cells": [
  {
   "cell_type": "markdown",
   "id": "b1a2d02e",
   "metadata": {},
   "source": [
    "**Create a generator that generates the squares of numbers up to some number N.**"
   ]
  },
  {
   "cell_type": "code",
   "execution_count": 1,
   "id": "1ea485a1",
   "metadata": {},
   "outputs": [],
   "source": [
    "def gensquares(N):\n",
    "\n",
    "    for x in range(N+1):\n",
    "        yield x**2"
   ]
  },
  {
   "cell_type": "code",
   "execution_count": 2,
   "id": "b070d1d5",
   "metadata": {},
   "outputs": [
    {
     "name": "stdout",
     "output_type": "stream",
     "text": [
      "0\n",
      "1\n",
      "4\n",
      "9\n",
      "16\n",
      "25\n",
      "36\n",
      "49\n",
      "64\n",
      "81\n",
      "100\n"
     ]
    }
   ],
   "source": [
    "for x in gensquares(10):\n",
    "    print(x)"
   ]
  },
  {
   "cell_type": "markdown",
   "id": "4d363625",
   "metadata": {},
   "source": [
    "**Create a generator that yields \"n\" random numbers between a low and high number (that are inputs). \n",
    "Note: Use the random library. For example:**"
   ]
  },
  {
   "cell_type": "code",
   "execution_count": 3,
   "id": "e0739cb7",
   "metadata": {},
   "outputs": [
    {
     "data": {
      "text/plain": [
       "5"
      ]
     },
     "execution_count": 3,
     "metadata": {},
     "output_type": "execute_result"
    }
   ],
   "source": [
    "import random\n",
    "\n",
    "random.randint(1,10)"
   ]
  },
  {
   "cell_type": "code",
   "execution_count": 4,
   "id": "0bf45299",
   "metadata": {},
   "outputs": [],
   "source": [
    "def rand_num(low,high,n):\n",
    "\n",
    "    for x in range(n):\n",
    "        yield random.randint(low,high)"
   ]
  },
  {
   "cell_type": "code",
   "execution_count": 5,
   "id": "e84d24d3",
   "metadata": {},
   "outputs": [
    {
     "name": "stdout",
     "output_type": "stream",
     "text": [
      "6\n",
      "7\n",
      "9\n",
      "10\n",
      "2\n",
      "9\n",
      "2\n",
      "8\n",
      "3\n",
      "10\n",
      "3\n",
      "2\n"
     ]
    }
   ],
   "source": [
    "for num in rand_num(1,10,12):\n",
    "    print(num)"
   ]
  },
  {
   "cell_type": "markdown",
   "id": "995aa937",
   "metadata": {},
   "source": [
    "**Use the iter() function to convert the string below into an iterator:**"
   ]
  },
  {
   "cell_type": "code",
   "execution_count": 6,
   "id": "a3f634bf",
   "metadata": {},
   "outputs": [
    {
     "data": {
      "text/plain": [
       "'h'"
      ]
     },
     "execution_count": 6,
     "metadata": {},
     "output_type": "execute_result"
    }
   ],
   "source": [
    "s = 'hello'\n",
    "\n",
    "next(iter(s))"
   ]
  },
  {
   "cell_type": "markdown",
   "id": "5cc63153",
   "metadata": {},
   "source": [
    "**Explain a use case for a generator using a yield statement where you would not want to use a normal function with a return statement.**"
   ]
  },
  {
   "cell_type": "markdown",
   "id": "8b3511ea",
   "metadata": {},
   "source": [
    "yield is more beneficial incase of sequence generation and more memory efficient."
   ]
  },
  {
   "cell_type": "markdown",
   "id": "3584014e",
   "metadata": {},
   "source": [
    "**Can you explain what gencomp is in the code below? (Note: We never covered this in lecture! You will have to do some Googling/Stack Overflowing!)**"
   ]
  },
  {
   "cell_type": "code",
   "execution_count": 7,
   "id": "3b320581",
   "metadata": {},
   "outputs": [
    {
     "name": "stdout",
     "output_type": "stream",
     "text": [
      "4\n",
      "5\n"
     ]
    }
   ],
   "source": [
    "my_list = [1,2,3,4,5]\n",
    "\n",
    "gencomp = (item for item in my_list if item > 3)\n",
    "\n",
    "for item in gencomp:\n",
    "    print(item)"
   ]
  },
  {
   "cell_type": "markdown",
   "id": "73fc42a0",
   "metadata": {},
   "source": [
    "**Generator Comprehension:** Defining a simple generator in a single line of code; this expression is known as a generator comprehension\n",
    "\n",
    "The syntax **( *expression* for *var* in *iterable* [if *condition*])** specifies the general form for a generator comprehension. This produces a generator, whose instructions for generating its members are provided within the parenthetical statement.\n",
    "    \n",
    "  for <var> in <iterable>:\n",
    "    if bool(<condition>):\n",
    "        yield <expression>"
   ]
  },
  {
   "cell_type": "markdown",
   "id": "52a622c4",
   "metadata": {},
   "source": [
    "**Generator Comprehension:** gencomp = (item for item in my_list if item > 3) </br>\n",
    "\n",
    "**List Comprehension:** listcomp = [item for item in my_list if item > 3]\n"
   ]
  },
  {
   "cell_type": "code",
   "execution_count": 8,
   "id": "529c3b31",
   "metadata": {},
   "outputs": [
    {
     "name": "stdout",
     "output_type": "stream",
     "text": [
      "4\n",
      "5\n"
     ]
    }
   ],
   "source": [
    "my_list = [1,2,3,4,5]\n",
    "\n",
    "listcomp = [item for item in my_list if item > 3]\n",
    "\n",
    "for item in listcomp:\n",
    "    print(item)"
   ]
  },
  {
   "cell_type": "code",
   "execution_count": null,
   "id": "d09cf435",
   "metadata": {},
   "outputs": [],
   "source": []
  }
 ],
 "metadata": {
  "kernelspec": {
   "display_name": "Python 3 (ipykernel)",
   "language": "python",
   "name": "python3"
  },
  "language_info": {
   "codemirror_mode": {
    "name": "ipython",
    "version": 3
   },
   "file_extension": ".py",
   "mimetype": "text/x-python",
   "name": "python",
   "nbconvert_exporter": "python",
   "pygments_lexer": "ipython3",
   "version": "3.11.5"
  }
 },
 "nbformat": 4,
 "nbformat_minor": 5
}
