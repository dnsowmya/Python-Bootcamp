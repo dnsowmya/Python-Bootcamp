{
 "cells": [
  {
   "cell_type": "markdown",
   "id": "d74a5628",
   "metadata": {},
   "source": [
    "**Function Practice Exercises**"
   ]
  },
  {
   "cell_type": "markdown",
   "id": "3a770bb8",
   "metadata": {},
   "source": [
    "**LESSER OF TWO EVENS: Write a function that returns the lesser of two given numbers if both numbers are even, but returns the greater if one or both numbers are odd**\n",
    "\n",
    "**lesser_of_two_evens(2,4) --> 2**</br>\n",
    "**lesser_of_two_evens(2,5) --> 5**"
   ]
  },
  {
   "cell_type": "code",
   "execution_count": 404,
   "id": "938958e4",
   "metadata": {},
   "outputs": [],
   "source": [
    "def lesser_of_two_evens(a,b):\n",
    "    if a % 2 == 0 and b % 2 == 0:\n",
    "        return min(a,b)\n",
    "    else:\n",
    "        return max(a,b)"
   ]
  },
  {
   "cell_type": "code",
   "execution_count": 405,
   "id": "61c45510",
   "metadata": {},
   "outputs": [
    {
     "data": {
      "text/plain": [
       "2"
      ]
     },
     "execution_count": 405,
     "metadata": {},
     "output_type": "execute_result"
    }
   ],
   "source": [
    "# Check\n",
    "lesser_of_two_evens(2,4)"
   ]
  },
  {
   "cell_type": "code",
   "execution_count": 406,
   "id": "e57023c3",
   "metadata": {},
   "outputs": [
    {
     "data": {
      "text/plain": [
       "5"
      ]
     },
     "execution_count": 406,
     "metadata": {},
     "output_type": "execute_result"
    }
   ],
   "source": [
    "# Check\n",
    "lesser_of_two_evens(2,5)"
   ]
  },
  {
   "cell_type": "code",
   "execution_count": 407,
   "id": "ca686bb3",
   "metadata": {},
   "outputs": [
    {
     "data": {
      "text/plain": [
       "7"
      ]
     },
     "execution_count": 407,
     "metadata": {},
     "output_type": "execute_result"
    }
   ],
   "source": [
    "# Check\n",
    "lesser_of_two_evens(7,5)"
   ]
  },
  {
   "cell_type": "code",
   "execution_count": 401,
   "id": "413974da",
   "metadata": {},
   "outputs": [
    {
     "data": {
      "text/plain": [
       "10"
      ]
     },
     "execution_count": 401,
     "metadata": {},
     "output_type": "execute_result"
    }
   ],
   "source": [
    "min(10,20)"
   ]
  },
  {
   "cell_type": "code",
   "execution_count": 403,
   "id": "1bcc5881",
   "metadata": {},
   "outputs": [
    {
     "data": {
      "text/plain": [
       "20"
      ]
     },
     "execution_count": 403,
     "metadata": {},
     "output_type": "execute_result"
    }
   ],
   "source": [
    "max(10,20)"
   ]
  },
  {
   "cell_type": "markdown",
   "id": "cf754135",
   "metadata": {},
   "source": [
    "**ANIMAL CRACKERS: Write a function takes a two-word string and returns True if both words begin with same letter**\n",
    "\n",
    "**animal_crackers('Levelheaded Llama') --> True**</br>\n",
    "**animal_crackers('Crazy Kangaroo') --> False**"
   ]
  },
  {
   "cell_type": "code",
   "execution_count": 411,
   "id": "16c03f64",
   "metadata": {},
   "outputs": [],
   "source": [
    "def animal_crackers(text):\n",
    "    word = text.lower().split()\n",
    "        \n",
    "    return word[0][0] == word[1][0]"
   ]
  },
  {
   "cell_type": "code",
   "execution_count": 412,
   "id": "f38915e8",
   "metadata": {},
   "outputs": [
    {
     "data": {
      "text/plain": [
       "True"
      ]
     },
     "execution_count": 412,
     "metadata": {},
     "output_type": "execute_result"
    }
   ],
   "source": [
    "# Check\n",
    "animal_crackers('Levelheaded Llama')"
   ]
  },
  {
   "cell_type": "code",
   "execution_count": 414,
   "id": "7f0abc6c",
   "metadata": {},
   "outputs": [
    {
     "data": {
      "text/plain": [
       "True"
      ]
     },
     "execution_count": 414,
     "metadata": {},
     "output_type": "execute_result"
    }
   ],
   "source": [
    "# Check\n",
    "animal_crackers('Crazy Cat')"
   ]
  },
  {
   "cell_type": "markdown",
   "id": "43df78ee",
   "metadata": {},
   "source": [
    "**MAKES TWENTY: Given two integers, return True if the sum of the integers is 20 or if one of the integers is 20. If not, return False**\n",
    "\n",
    "**makes_twenty(20,10) --> True**</br>\n",
    "**makes_twenty(12,8) --> True**</br>\n",
    "**makes_twenty(2,3) --> False**"
   ]
  },
  {
   "cell_type": "code",
   "execution_count": 415,
   "id": "0c24d3e9",
   "metadata": {},
   "outputs": [],
   "source": [
    "def makes_twenty(n1,n2):\n",
    "    return n1 == 20 or n2 == 20 or n1 + n2 == 20"
   ]
  },
  {
   "cell_type": "code",
   "execution_count": 416,
   "id": "9568b399",
   "metadata": {},
   "outputs": [
    {
     "data": {
      "text/plain": [
       "True"
      ]
     },
     "execution_count": 416,
     "metadata": {},
     "output_type": "execute_result"
    }
   ],
   "source": [
    "# Check\n",
    "makes_twenty(20,10)"
   ]
  },
  {
   "cell_type": "code",
   "execution_count": 417,
   "id": "cb91e245",
   "metadata": {},
   "outputs": [
    {
     "data": {
      "text/plain": [
       "True"
      ]
     },
     "execution_count": 417,
     "metadata": {},
     "output_type": "execute_result"
    }
   ],
   "source": [
    "# Check\n",
    "makes_twenty(12,8)"
   ]
  },
  {
   "cell_type": "code",
   "execution_count": 418,
   "id": "e4dbd41a",
   "metadata": {},
   "outputs": [
    {
     "data": {
      "text/plain": [
       "False"
      ]
     },
     "execution_count": 418,
     "metadata": {},
     "output_type": "execute_result"
    }
   ],
   "source": [
    "# Check\n",
    "makes_twenty(2,3)"
   ]
  },
  {
   "cell_type": "markdown",
   "id": "52840341",
   "metadata": {},
   "source": [
    "**OLD MACDONALD: Write a function that capitalizes the first and fourth letters of a name**\n",
    "\n",
    "**old_macdonald('macdonald') --> MacDonald**\n",
    "\n",
    "**Note: 'macdonald'.capitalize() returns 'Macdonald'**"
   ]
  },
  {
   "cell_type": "code",
   "execution_count": 425,
   "id": "d62f2656",
   "metadata": {},
   "outputs": [],
   "source": [
    "def old_macdonald(name):\n",
    "    mylist = []\n",
    "    for x in range(len(name)):\n",
    "        if x == 0 or x == 3:\n",
    "            mylist.append(name[x].upper())\n",
    "        else:\n",
    "            mylist.append(name[x])\n",
    "                 \n",
    "    return ''.join(mylist)"
   ]
  },
  {
   "cell_type": "code",
   "execution_count": 426,
   "id": "c7893645",
   "metadata": {},
   "outputs": [
    {
     "data": {
      "text/plain": [
       "'MacDonald'"
      ]
     },
     "execution_count": 426,
     "metadata": {},
     "output_type": "execute_result"
    }
   ],
   "source": [
    "# Check\n",
    "old_macdonald('macdonald')"
   ]
  },
  {
   "cell_type": "markdown",
   "id": "418a3fc4",
   "metadata": {},
   "source": [
    "**MASTER YODA: Given a sentence, return a sentence with the words reversed**\n",
    "\n",
    "**master_yoda('I am home') --> 'home am I'**\n",
    "**master_yoda('We are ready') --> 'ready are We'**\n",
    "\n",
    "**Note: The .join() method may be useful here. The .join() method allows you to join together strings in a list with some connector string. For example, some uses of the .join() method:**\n",
    "\n",
    "**>>> \"--\".join(['a','b','c'])**\n",
    "**>>> 'a--b--c'**\n",
    "\n",
    "**This means if you had a list of words you wanted to turn back into a sentence, you could just join them with a single space string:**\n",
    "\n",
    "**>>> \" \".join(['Hello','world'])**\n",
    "**>>> \"Hello world\"**"
   ]
  },
  {
   "cell_type": "code",
   "execution_count": 432,
   "id": "fede45d8",
   "metadata": {},
   "outputs": [],
   "source": [
    "def master_yoda(text):\n",
    "    mylist = text.split()\n",
    "    myrevlist = mylist[::-1]\n",
    "    \n",
    "    return ' '.join(myrevlist)"
   ]
  },
  {
   "cell_type": "code",
   "execution_count": 433,
   "id": "1d9bb704",
   "metadata": {},
   "outputs": [
    {
     "data": {
      "text/plain": [
       "'1 test'"
      ]
     },
     "execution_count": 433,
     "metadata": {},
     "output_type": "execute_result"
    }
   ],
   "source": [
    "master_yoda('test 1')"
   ]
  },
  {
   "cell_type": "code",
   "execution_count": 434,
   "id": "0992eed9",
   "metadata": {},
   "outputs": [
    {
     "data": {
      "text/plain": [
       "'home am I'"
      ]
     },
     "execution_count": 434,
     "metadata": {},
     "output_type": "execute_result"
    }
   ],
   "source": [
    "# Check\n",
    "master_yoda('I am home')"
   ]
  },
  {
   "cell_type": "code",
   "execution_count": 435,
   "id": "8783d5eb",
   "metadata": {},
   "outputs": [
    {
     "data": {
      "text/plain": [
       "'ready are We'"
      ]
     },
     "execution_count": 435,
     "metadata": {},
     "output_type": "execute_result"
    }
   ],
   "source": [
    "# Check\n",
    "master_yoda('We are ready')"
   ]
  },
  {
   "cell_type": "markdown",
   "id": "5b2d6931",
   "metadata": {},
   "source": [
    "**ALMOST THERE: Given an integer n, return True if n is within 10 of either 100 or 200**\n",
    "\n",
    "**almost_there(90) --> True**</br>\n",
    "**almost_there(104) --> True**</br>\n",
    "**almost_there(150) --> False**</br>\n",
    "**almost_there(209) --> True**\n",
    "\n",
    "**NOTE: abs(num) returns the absolute value of a number**"
   ]
  },
  {
   "cell_type": "code",
   "execution_count": 442,
   "id": "2d7492a9",
   "metadata": {},
   "outputs": [],
   "source": [
    "def almost_there(n):\n",
    "    return abs(100-n) <= 10 or abs(200-n) <= 10"
   ]
  },
  {
   "cell_type": "code",
   "execution_count": 443,
   "id": "911a1418",
   "metadata": {},
   "outputs": [
    {
     "data": {
      "text/plain": [
       "True"
      ]
     },
     "execution_count": 443,
     "metadata": {},
     "output_type": "execute_result"
    }
   ],
   "source": [
    "# Check\n",
    "almost_there(104)"
   ]
  },
  {
   "cell_type": "code",
   "execution_count": 444,
   "id": "a8940558",
   "metadata": {},
   "outputs": [
    {
     "data": {
      "text/plain": [
       "False"
      ]
     },
     "execution_count": 444,
     "metadata": {},
     "output_type": "execute_result"
    }
   ],
   "source": [
    "# Check\n",
    "almost_there(150)"
   ]
  },
  {
   "cell_type": "code",
   "execution_count": 445,
   "id": "d4d693ed",
   "metadata": {},
   "outputs": [
    {
     "data": {
      "text/plain": [
       "True"
      ]
     },
     "execution_count": 445,
     "metadata": {},
     "output_type": "execute_result"
    }
   ],
   "source": [
    "# Check\n",
    "almost_there(209)"
   ]
  },
  {
   "cell_type": "code",
   "execution_count": 446,
   "id": "4d9ddcec",
   "metadata": {},
   "outputs": [
    {
     "data": {
      "text/plain": [
       "True"
      ]
     },
     "execution_count": 446,
     "metadata": {},
     "output_type": "execute_result"
    }
   ],
   "source": [
    "almost_there(90) "
   ]
  },
  {
   "cell_type": "markdown",
   "id": "cf3d16f0",
   "metadata": {},
   "source": [
    "**FIND 33:**\n",
    "\n",
    "**Given a list of ints, return True if the array contains a 3 next to a 3 somewhere.**\n",
    "\n",
    "**has_33([1, 3, 3]) → True**</br>\n",
    "**has_33([1, 3, 1, 3]) → False**</br>\n",
    "**has_33([3, 1, 3]) → False**"
   ]
  },
  {
   "cell_type": "code",
   "execution_count": 464,
   "id": "8d01c16c",
   "metadata": {},
   "outputs": [],
   "source": [
    "def has_33(nums):\n",
    "    nums_len = len(nums)\n",
    "    for x in range(nums_len-1):\n",
    "        if nums[x:x+2] == [3,3]:\n",
    "                #Array contains 3 next to a 3\n",
    "            return True\n",
    "    # Array does not contain 3 next to a 3\n",
    "    return False\n",
    "            \n",
    "            "
   ]
  },
  {
   "cell_type": "code",
   "execution_count": 465,
   "id": "3ffd2a56",
   "metadata": {},
   "outputs": [
    {
     "data": {
      "text/plain": [
       "False"
      ]
     },
     "execution_count": 465,
     "metadata": {},
     "output_type": "execute_result"
    }
   ],
   "source": [
    "has_33([100,200,300,400,3,1,3])"
   ]
  },
  {
   "cell_type": "code",
   "execution_count": 466,
   "id": "e5206d1c",
   "metadata": {},
   "outputs": [
    {
     "data": {
      "text/plain": [
       "True"
      ]
     },
     "execution_count": 466,
     "metadata": {},
     "output_type": "execute_result"
    }
   ],
   "source": [
    "# Check\n",
    "has_33([1, 3, 3])"
   ]
  },
  {
   "cell_type": "code",
   "execution_count": 467,
   "id": "e18f882c",
   "metadata": {},
   "outputs": [
    {
     "data": {
      "text/plain": [
       "False"
      ]
     },
     "execution_count": 467,
     "metadata": {},
     "output_type": "execute_result"
    }
   ],
   "source": [
    "# Check\n",
    "has_33([1, 3, 1, 3])"
   ]
  },
  {
   "cell_type": "code",
   "execution_count": 468,
   "id": "0024bd9a",
   "metadata": {},
   "outputs": [
    {
     "data": {
      "text/plain": [
       "False"
      ]
     },
     "execution_count": 468,
     "metadata": {},
     "output_type": "execute_result"
    }
   ],
   "source": [
    "# Check\n",
    "has_33([3, 1, 3])"
   ]
  },
  {
   "cell_type": "markdown",
   "id": "d0c4fdf4",
   "metadata": {},
   "source": [
    "**PAPER DOLL: Given a string, return a string where for every character in the original there are three characters**\n",
    "\n",
    "**paper_doll('Hello') --> 'HHHeeellllllooo'**</br>\n",
    "**paper_doll('Mississippi') --> 'MMMiiissssssiiippppppiii'**"
   ]
  },
  {
   "cell_type": "code",
   "execution_count": 136,
   "id": "08cfbf7e",
   "metadata": {},
   "outputs": [],
   "source": [
    "def paper_doll(text):\n",
    "    mylist = []\n",
    "    for x in text:\n",
    "        mylist.append(x*3)\n",
    "        \n",
    "    return ''.join(mylist)"
   ]
  },
  {
   "cell_type": "code",
   "execution_count": 137,
   "id": "6fc90cec",
   "metadata": {},
   "outputs": [
    {
     "data": {
      "text/plain": [
       "'ttteeesssttt'"
      ]
     },
     "execution_count": 137,
     "metadata": {},
     "output_type": "execute_result"
    }
   ],
   "source": [
    "paper_doll('test')"
   ]
  },
  {
   "cell_type": "code",
   "execution_count": 138,
   "id": "a4b45cd7",
   "metadata": {},
   "outputs": [
    {
     "data": {
      "text/plain": [
       "'HHHeeellllllooo'"
      ]
     },
     "execution_count": 138,
     "metadata": {},
     "output_type": "execute_result"
    }
   ],
   "source": [
    "# Check\n",
    "paper_doll('Hello')"
   ]
  },
  {
   "cell_type": "code",
   "execution_count": 139,
   "id": "7fd367c6",
   "metadata": {},
   "outputs": [
    {
     "data": {
      "text/plain": [
       "'MMMiiissssssiiissssssiiippppppiii'"
      ]
     },
     "execution_count": 139,
     "metadata": {},
     "output_type": "execute_result"
    }
   ],
   "source": [
    "# Check\n",
    "paper_doll('Mississippi')"
   ]
  },
  {
   "cell_type": "markdown",
   "id": "9d181006",
   "metadata": {},
   "source": [
    "**BLACKJACK: Given three integers between 1 and 11, if their sum is less than or equal to 21, return their sum. If their sum exceeds 21 and there's an eleven, reduce the total sum by 10. Finally, if the sum (even after adjustment) exceeds 21, return 'BUST'**\n",
    "\n",
    "**blackjack(5,6,7) --> 18**</br>\n",
    "**blackjack(9,9,9) --> 'BUST'**</br>\n",
    "**blackjack(9,9,11) --> 19**</br>"
   ]
  },
  {
   "cell_type": "code",
   "execution_count": 493,
   "id": "755ac3d0",
   "metadata": {},
   "outputs": [],
   "source": [
    "def blackjack(a,b,c):\n",
    "    if sum([a,b,c]) <= 21:\n",
    "        return sum([a,b,c])\n",
    "    elif 11 in [a,b,c]:\n",
    "        return sum([a,b,c]) - 10\n",
    "    else:\n",
    "        return 'BUST'"
   ]
  },
  {
   "cell_type": "code",
   "execution_count": 494,
   "id": "7d563dfc",
   "metadata": {},
   "outputs": [
    {
     "data": {
      "text/plain": [
       "'BUST'"
      ]
     },
     "execution_count": 494,
     "metadata": {},
     "output_type": "execute_result"
    }
   ],
   "source": [
    "blackjack(10,9,9)"
   ]
  },
  {
   "cell_type": "code",
   "execution_count": 495,
   "id": "8863784a",
   "metadata": {},
   "outputs": [
    {
     "data": {
      "text/plain": [
       "18"
      ]
     },
     "execution_count": 495,
     "metadata": {},
     "output_type": "execute_result"
    }
   ],
   "source": [
    "# Check\n",
    "blackjack(5,6,7)"
   ]
  },
  {
   "cell_type": "code",
   "execution_count": 496,
   "id": "b9aff873",
   "metadata": {},
   "outputs": [
    {
     "data": {
      "text/plain": [
       "'BUST'"
      ]
     },
     "execution_count": 496,
     "metadata": {},
     "output_type": "execute_result"
    }
   ],
   "source": [
    "# Check\n",
    "blackjack(9,9,9)"
   ]
  },
  {
   "cell_type": "code",
   "execution_count": 497,
   "id": "afccb66d",
   "metadata": {},
   "outputs": [
    {
     "data": {
      "text/plain": [
       "19"
      ]
     },
     "execution_count": 497,
     "metadata": {},
     "output_type": "execute_result"
    }
   ],
   "source": [
    "# Check\n",
    "blackjack(9,9,11)"
   ]
  },
  {
   "cell_type": "markdown",
   "id": "91cd52bf",
   "metadata": {},
   "source": [
    "**SUMMER OF '69: Return the sum of the numbers in the array, except ignore sections of numbers starting with a 6 and extending to the next 9 (every 6 will be followed by at least one 9). Return 0 for no numbers.**\n",
    "\n",
    "**summer_69([1, 3, 5]) --> 9**</br>\n",
    "**summer_69([4, 5, 6, 7, 8, 9]) --> 9**</br>\n",
    "**summer_69([2, 1, 6, 9, 11]) --> 14**"
   ]
  },
  {
   "cell_type": "code",
   "execution_count": 239,
   "id": "88726740",
   "metadata": {},
   "outputs": [],
   "source": [
    "def summer_69(arr):\n",
    "    mylist = arr\n",
    "    len_arr = len(arr)\n",
    "    for x in range(len_arr):\n",
    "        if arr[x] == 6:\n",
    "            mylist[x] = 0\n",
    "            for z in range(x,len_arr):\n",
    "                if arr[z] == 9:\n",
    "                    mylist[z] = 0\n",
    "                    break\n",
    "                else:\n",
    "                    mylist[z] = 0\n",
    "    return sum(mylist)"
   ]
  },
  {
   "cell_type": "code",
   "execution_count": 240,
   "id": "6ca2f33f",
   "metadata": {},
   "outputs": [
    {
     "data": {
      "text/plain": [
       "16"
      ]
     },
     "execution_count": 240,
     "metadata": {},
     "output_type": "execute_result"
    }
   ],
   "source": [
    "summer_69([1,2,3,6,7,8,9,10])"
   ]
  },
  {
   "cell_type": "code",
   "execution_count": 241,
   "id": "d298507d",
   "metadata": {},
   "outputs": [
    {
     "data": {
      "text/plain": [
       "9"
      ]
     },
     "execution_count": 241,
     "metadata": {},
     "output_type": "execute_result"
    }
   ],
   "source": [
    "# Check\n",
    "summer_69([1, 3, 5])"
   ]
  },
  {
   "cell_type": "code",
   "execution_count": 242,
   "id": "ed70f5f5",
   "metadata": {},
   "outputs": [
    {
     "data": {
      "text/plain": [
       "9"
      ]
     },
     "execution_count": 242,
     "metadata": {},
     "output_type": "execute_result"
    }
   ],
   "source": [
    "# Check\n",
    "summer_69([4, 5, 6, 7, 8, 9])"
   ]
  },
  {
   "cell_type": "code",
   "execution_count": 243,
   "id": "ee8c7655",
   "metadata": {},
   "outputs": [
    {
     "data": {
      "text/plain": [
       "14"
      ]
     },
     "execution_count": 243,
     "metadata": {},
     "output_type": "execute_result"
    }
   ],
   "source": [
    "# Check\n",
    "summer_69([2, 1, 6, 9, 11])"
   ]
  },
  {
   "cell_type": "markdown",
   "id": "3421c970",
   "metadata": {},
   "source": [
    "**SPY GAME: Write a function that takes in a list of integers and returns True if it contains 007 in order**\n",
    "\n",
    " **spy_game([1,2,4,0,0,7,5]) --> True**</br>\n",
    " **spy_game([1,0,2,4,0,5,7]) --> True**</br>\n",
    " **spy_game([1,7,2,0,4,5,0]) --> False**\n"
   ]
  },
  {
   "cell_type": "code",
   "execution_count": 264,
   "id": "a89f1010",
   "metadata": {},
   "outputs": [],
   "source": [
    "def spy_game(nums):\n",
    "    mylist = nums\n",
    "    len_nums = len(nums)\n",
    "    for x in range(len_nums):\n",
    "        if nums[x] == 0:\n",
    "            for y in range(x+1,len_nums):\n",
    "                if nums[y] == 0:\n",
    "                    for z in range(y,len_nums):\n",
    "                        if nums[z] == 7:\n",
    "                            return True\n",
    "    return False"
   ]
  },
  {
   "cell_type": "code",
   "execution_count": 265,
   "id": "85cba8bd",
   "metadata": {},
   "outputs": [
    {
     "data": {
      "text/plain": [
       "False"
      ]
     },
     "execution_count": 265,
     "metadata": {},
     "output_type": "execute_result"
    }
   ],
   "source": [
    "spy_game([0,1,0,2,9,0])"
   ]
  },
  {
   "cell_type": "code",
   "execution_count": 266,
   "id": "1ae7d46b",
   "metadata": {},
   "outputs": [
    {
     "data": {
      "text/plain": [
       "True"
      ]
     },
     "execution_count": 266,
     "metadata": {},
     "output_type": "execute_result"
    }
   ],
   "source": [
    "# Check\n",
    "spy_game([1,2,4,0,0,7,5])"
   ]
  },
  {
   "cell_type": "code",
   "execution_count": 267,
   "id": "c0bcb6bc",
   "metadata": {},
   "outputs": [
    {
     "data": {
      "text/plain": [
       "True"
      ]
     },
     "execution_count": 267,
     "metadata": {},
     "output_type": "execute_result"
    }
   ],
   "source": [
    "# Check\n",
    "spy_game([1,0,2,4,0,5,7])"
   ]
  },
  {
   "cell_type": "code",
   "execution_count": 268,
   "id": "56996e75",
   "metadata": {},
   "outputs": [
    {
     "data": {
      "text/plain": [
       "False"
      ]
     },
     "execution_count": 268,
     "metadata": {},
     "output_type": "execute_result"
    }
   ],
   "source": [
    "# Check\n",
    "spy_game([1,7,2,0,4,5,0])"
   ]
  },
  {
   "cell_type": "markdown",
   "id": "7dba997c",
   "metadata": {},
   "source": [
    "**COUNT PRIMES: Write a function that returns the number of prime numbers that exist up to and including a given number**\n",
    "\n",
    "**count_primes(100) --> 25**\n",
    "\n",
    "**By convention, 0 and 1 are not prime.**"
   ]
  },
  {
   "cell_type": "code",
   "execution_count": 280,
   "id": "a20d79a0",
   "metadata": {},
   "outputs": [],
   "source": [
    "def count_primes(num):\n",
    "    count_primes = 0\n",
    "    \n",
    "    # Define a boolean array for all the values of numbers from 0 to num and set them to True\n",
    "    bool_array = [True for i in range(num+1)]\n",
    "    p = 2 # start with 2 as 0 and 1 are not prime numbers\n",
    "    \n",
    "    while p * p <= num:  \n",
    "        if bool_array[p] == True:\n",
    "            for i in range(p * p, num+1, p):# As per Eratosthenes theorem, Mark the first number (2) as prime and eliminate all multiples of 2 from the list.\n",
    "                bool_array[i] = False\n",
    "        p += 1 #Repeat this process for the remaining unmarked numbers, marking each new prime and eliminating its multiples\n",
    "            \n",
    "    for p in range(2, num+1):\n",
    "        if bool_array[p]:\n",
    "            count_primes += 1\n",
    "            \n",
    "    return count_primes"
   ]
  },
  {
   "cell_type": "code",
   "execution_count": 283,
   "id": "02addaf2",
   "metadata": {},
   "outputs": [
    {
     "data": {
      "text/plain": [
       "1"
      ]
     },
     "execution_count": 283,
     "metadata": {},
     "output_type": "execute_result"
    }
   ],
   "source": [
    "count_primes(2)"
   ]
  },
  {
   "cell_type": "code",
   "execution_count": 284,
   "id": "5d7afe53",
   "metadata": {},
   "outputs": [
    {
     "data": {
      "text/plain": [
       "25"
      ]
     },
     "execution_count": 284,
     "metadata": {},
     "output_type": "execute_result"
    }
   ],
   "source": [
    "# Check\n",
    "count_primes(100)"
   ]
  },
  {
   "cell_type": "markdown",
   "id": "c18bfabb",
   "metadata": {},
   "source": [
    "**PRINT BIG: Write a function that takes in a single letter, and returns a 5x5 representation of that letter**\n",
    "\n",
    "**print_big('a')**\n",
    "\n",
    "**out: &emsp;&ensp;  *  </br>**\n",
    "**&emsp;&emsp;&emsp;  * &ensp;&ensp; * </br>**\n",
    "**&emsp;&emsp;&nbsp;&nbsp;&nbsp;    ***** </br>**\n",
    "**&emsp;&emsp;&emsp;     * &ensp;&ensp;  * </br>**\n",
    "**&emsp;&emsp;&emsp;     * &ensp;&ensp;  * </br>**\n",
    "**HINT: Consider making a dictionary of possible patterns, and mapping the alphabet to specific 5-line combinations of patterns.</br>**\n",
    "**For purposes of this exercise, it's ok if your dictionary stops at \"E\".**"
   ]
  },
  {
   "cell_type": "code",
   "execution_count": 398,
   "id": "4c4308aa",
   "metadata": {},
   "outputs": [],
   "source": [
    "def print_big(value):\n",
    "    dict_pattern = {1:'  *   ',2:'*   * ',3:'*****',4:'*   * ',5:'*   * '}\n",
    "    dict_alphabet = {'A':[1,2,3,4,5]}\n",
    "    x = dict_alphabet['A']\n",
    "    for x in dict_alphabet[value]:\n",
    "        print(dict_pattern[x])"
   ]
  },
  {
   "cell_type": "code",
   "execution_count": 399,
   "id": "b1fbfb44",
   "metadata": {},
   "outputs": [
    {
     "name": "stdout",
     "output_type": "stream",
     "text": [
      "  *   \n",
      "*   * \n",
      "*****\n",
      "*   * \n",
      "*   * \n"
     ]
    }
   ],
   "source": [
    "print_big('A')"
   ]
  },
  {
   "cell_type": "code",
   "execution_count": null,
   "id": "5535aada",
   "metadata": {},
   "outputs": [],
   "source": []
  },
  {
   "cell_type": "code",
   "execution_count": null,
   "id": "c4816159",
   "metadata": {},
   "outputs": [],
   "source": []
  },
  {
   "cell_type": "code",
   "execution_count": null,
   "id": "357568a6",
   "metadata": {},
   "outputs": [],
   "source": []
  }
 ],
 "metadata": {
  "kernelspec": {
   "display_name": "Python 3 (ipykernel)",
   "language": "python",
   "name": "python3"
  },
  "language_info": {
   "codemirror_mode": {
    "name": "ipython",
    "version": 3
   },
   "file_extension": ".py",
   "mimetype": "text/x-python",
   "name": "python",
   "nbconvert_exporter": "python",
   "pygments_lexer": "ipython3",
   "version": "3.11.5"
  }
 },
 "nbformat": 4,
 "nbformat_minor": 5
}
