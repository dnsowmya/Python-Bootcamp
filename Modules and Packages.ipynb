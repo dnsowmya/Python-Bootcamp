{
 "cells": [
  {
   "cell_type": "markdown",
   "id": "6b1aa883",
   "metadata": {},
   "source": [
    "- **PyPI is a repository for open-source third-party python packages**\n",
    "- **pip is a simple way to download packages at your command line directly from the PyPi repository**\n",
    "- **Web Development library- Django and Flask** "
   ]
  },
  {
   "cell_type": "code",
   "execution_count": null,
   "id": "27adb88f",
   "metadata": {},
   "outputs": [],
   "source": []
  }
 ],
 "metadata": {
  "kernelspec": {
   "display_name": "Python 3 (ipykernel)",
   "language": "python",
   "name": "python3"
  },
  "language_info": {
   "codemirror_mode": {
    "name": "ipython",
    "version": 3
   },
   "file_extension": ".py",
   "mimetype": "text/x-python",
   "name": "python",
   "nbconvert_exporter": "python",
   "pygments_lexer": "ipython3",
   "version": "3.11.5"
  }
 },
 "nbformat": 4,
 "nbformat_minor": 5
}
