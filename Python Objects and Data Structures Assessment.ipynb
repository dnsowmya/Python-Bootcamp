{
 "cells": [
  {
   "cell_type": "markdown",
   "id": "ccdf70c3",
   "metadata": {},
   "source": [
    "**Write a brief description of all the following Object Types and Data Structures we've learned about:**\n",
    "\n",
    "Numbers: Integers\n",
    "\n",
    "Strings: Characters\n",
    "\n",
    "Lists: Ordered sequence of objects and can be of different datatypes.They can be indexed,sliced.Ex: [\"hello\",1,200.3]\n",
    "\n",
    "Tuples: Ordered immutable sequence of objects and can be of different datatypes. Ex: ('hello',1,200.3)\n",
    "\n",
    "Dictionaries: Unordered objects in key value pairs. Ex: {\"Key1\":\"Value1,\"Key2\":\"Value2\"}"
   ]
  },
  {
   "cell_type": "code",
   "execution_count": null,
   "id": "4675eee2",
   "metadata": {},
   "outputs": [],
   "source": []
  }
 ],
 "metadata": {
  "kernelspec": {
   "display_name": "Python 3 (ipykernel)",
   "language": "python",
   "name": "python3"
  },
  "language_info": {
   "codemirror_mode": {
    "name": "ipython",
    "version": 3
   },
   "file_extension": ".py",
   "mimetype": "text/x-python",
   "name": "python",
   "nbconvert_exporter": "python",
   "pygments_lexer": "ipython3",
   "version": "3.11.5"
  }
 },
 "nbformat": 4,
 "nbformat_minor": 5
}
